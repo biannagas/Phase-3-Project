{
 "cells": [
  {
   "cell_type": "code",
   "execution_count": 1,
   "metadata": {},
   "outputs": [],
   "source": [
    "import pandas as pd\n",
    "training = pd.read_pickle(\"CSV Data/training_joined\")"
   ]
  },
  {
   "cell_type": "code",
   "execution_count": 2,
   "metadata": {},
   "outputs": [],
   "source": [
    "import numpy as np\n",
    "import pandas as pd\n",
    "from matplotlib import pyplot as plt\n",
    "import seaborn as sns\n",
    "from scipy import stats as stats\n",
    "\n",
    "from sklearn.linear_model import LogisticRegression\n",
    "from sklearn.neighbors import KNeighborsClassifier\n",
    "from sklearn.tree import DecisionTreeClassifier\n",
    "\n",
    "from sklearn.metrics import precision_score, recall_score, plot_confusion_matrix,confusion_matrix,classification_report\n",
    "from sklearn.model_selection import train_test_split, GridSearchCV,\\\n",
    "cross_val_score, RandomizedSearchCV\n",
    "\n",
    "from sklearn.preprocessing import Normalizer\n",
    "\n",
    "from sklearn.compose import ColumnTransformer\n",
    "\n",
    "from sklearn.pipeline import Pipeline\n",
    "from sklearn import set_config\n",
    "set_config(display= 'diagram')\n",
    "\n",
    "from sklearn.pipeline import Pipeline\n",
    "from imblearn.pipeline import Pipeline\n",
    "from sklearn.impute import SimpleImputer\n",
    "from sklearn.preprocessing import OrdinalEncoder\n",
    "from sklearn.preprocessing import OneHotEncoder\n",
    "from sklearn.preprocessing import StandardScaler\n",
    "from sklearn.preprocessing import MaxAbsScaler\n",
    "from sklearn.compose import ColumnTransformer\n",
    "\n",
    "from sklearn.metrics import plot_roc_curve\n",
    "from sklearn.metrics import roc_auc_score\n",
    "\n",
    "\n",
    "from imblearn.over_sampling import RandomOverSampler\n",
    "from imblearn.under_sampling import RandomUnderSampler\n",
    "\n",
    "from imblearn.over_sampling import SMOTE\n",
    "\n",
    "from sklearn.ensemble import RandomForestClassifier"
   ]
  },
  {
   "cell_type": "code",
   "execution_count": 3,
   "metadata": {},
   "outputs": [],
   "source": [
    "training = pd.get_dummies(training, columns = [\"sex\",\"marital_status\",\"rent_or_own\"])"
   ]
  },
  {
   "cell_type": "code",
   "execution_count": 4,
   "metadata": {},
   "outputs": [],
   "source": [
    "X = training.drop(columns = \"h1n1_vaccine\",axis=1)\n",
    "y = training[\"h1n1_vaccine\"]\n",
    "\n",
    "X_train, X_test, y_train, y_test = train_test_split(X, y, stratify = y, test_size = 0.30, random_state = 42)"
   ]
  },
  {
   "cell_type": "code",
   "execution_count": 5,
   "metadata": {},
   "outputs": [
    {
     "data": {
      "text/plain": [
       "h1n1_concern                   float64\n",
       "h1n1_knowledge                 float64\n",
       "behavioral_antiviral_meds      float64\n",
       "behavioral_avoidance           float64\n",
       "behavioral_face_mask           float64\n",
       "behavioral_wash_hands          float64\n",
       "behavioral_large_gatherings    float64\n",
       "behavioral_outside_home        float64\n",
       "behavioral_touch_face          float64\n",
       "doctor_recc_h1n1               float64\n",
       "doctor_recc_seasonal           float64\n",
       "chronic_med_condition          float64\n",
       "child_under_6_months           float64\n",
       "health_worker                  float64\n",
       "health_insurance               float64\n",
       "opinion_h1n1_vacc_effective    float64\n",
       "opinion_h1n1_risk              float64\n",
       "opinion_h1n1_sick_from_vacc    float64\n",
       "opinion_seas_vacc_effective    float64\n",
       "opinion_seas_risk              float64\n",
       "opinion_seas_sick_from_vacc    float64\n",
       "age_group                       object\n",
       "education                       object\n",
       "race                            object\n",
       "income_poverty                  object\n",
       "employment_status               object\n",
       "census_msa                      object\n",
       "household_adults               float64\n",
       "household_children             float64\n",
       "seasonal_vaccine                 int64\n",
       "sex_Female                       uint8\n",
       "sex_Male                         uint8\n",
       "marital_status_Married           uint8\n",
       "marital_status_Not Married       uint8\n",
       "rent_or_own_Own                  uint8\n",
       "rent_or_own_Rent                 uint8\n",
       "dtype: object"
      ]
     },
     "execution_count": 5,
     "metadata": {},
     "output_type": "execute_result"
    }
   ],
   "source": [
    "X.dtypes"
   ]
  },
  {
   "cell_type": "code",
   "execution_count": 6,
   "metadata": {},
   "outputs": [
    {
     "name": "stdout",
     "output_type": "stream",
     "text": [
      "age_group:\n",
      " 65+ Years        25.622496\n",
      "55 - 64 Years    20.829745\n",
      "45 - 54 Years    19.612836\n",
      "18 - 34 Years    19.526716\n",
      "35 - 44 Years    14.408208\n",
      "Name: age_group, dtype: float64 \n",
      "\n",
      "education:\n",
      " College Graduate    39.909091\n",
      "Some College        27.837945\n",
      "12 Years            22.913043\n",
      "< 12 Years           9.339921\n",
      "Name: education, dtype: float64 \n",
      "\n",
      "race:\n",
      " White                79.462313\n",
      "Black                 7.930505\n",
      "Hispanic              6.571311\n",
      "Other or Multiple     6.035871\n",
      "Name: race, dtype: float64 \n",
      "\n",
      "income_poverty:\n",
      " <= $75,000, Above Poverty    57.337103\n",
      "> $75,000                    30.560043\n",
      "Below Poverty                12.102854\n",
      "Name: income_poverty, dtype: float64 \n",
      "\n",
      "employment_status:\n",
      " Employed              53.715734\n",
      "Not in Labor Force    40.528442\n",
      "Unemployed             5.755823\n",
      "Name: employment_status, dtype: float64 \n",
      "\n",
      "census_msa:\n",
      " MSA, Not Principle  City    43.602801\n",
      "MSA, Principle City         29.445464\n",
      "Non-MSA                     26.951736\n",
      "Name: census_msa, dtype: float64 \n",
      "\n"
     ]
    }
   ],
   "source": [
    "for col in training.columns[training.dtypes == \"object\"]:\n",
    "    print(f'{col}:\\n', training[col].value_counts(normalize = True)*100, '\\n')"
   ]
  },
  {
   "cell_type": "markdown",
   "metadata": {},
   "source": [
    "## Pipeline Setup"
   ]
  },
  {
   "cell_type": "code",
   "execution_count": 7,
   "metadata": {},
   "outputs": [],
   "source": [
    "age_list = [\"18 - 34 Years\", \"35 - 44 Years\",\"45 - 54 Years\",\"55 - 64 Years\",\"65+ Years\"]\n",
    "ed_list = [\"< 12 Years\",\"12 Years\",\"Some College\",\"College Graduate\"]\n",
    "income_list = [\"Below Poverty\",\"<= $75,000, Above Poverty\",\"> $75,000\"]"
   ]
  },
  {
   "cell_type": "code",
   "execution_count": 8,
   "metadata": {},
   "outputs": [
    {
     "data": {
      "text/plain": [
       "Index(['h1n1_concern', 'h1n1_knowledge', 'behavioral_antiviral_meds',\n",
       "       'behavioral_avoidance', 'behavioral_face_mask', 'behavioral_wash_hands',\n",
       "       'behavioral_large_gatherings', 'behavioral_outside_home',\n",
       "       'behavioral_touch_face', 'doctor_recc_h1n1', 'doctor_recc_seasonal',\n",
       "       'chronic_med_condition', 'child_under_6_months', 'health_worker',\n",
       "       'health_insurance', 'opinion_h1n1_vacc_effective', 'opinion_h1n1_risk',\n",
       "       'opinion_h1n1_sick_from_vacc', 'opinion_seas_vacc_effective',\n",
       "       'opinion_seas_risk', 'opinion_seas_sick_from_vacc', 'age_group',\n",
       "       'education', 'race', 'income_poverty', 'employment_status',\n",
       "       'census_msa', 'household_adults', 'household_children', 'h1n1_vaccine',\n",
       "       'seasonal_vaccine', 'sex_Female', 'sex_Male', 'marital_status_Married',\n",
       "       'marital_status_Not Married', 'rent_or_own_Own', 'rent_or_own_Rent'],\n",
       "      dtype='object')"
      ]
     },
     "execution_count": 8,
     "metadata": {},
     "output_type": "execute_result"
    }
   ],
   "source": [
    "training.columns"
   ]
  },
  {
   "cell_type": "code",
   "execution_count": 9,
   "metadata": {},
   "outputs": [],
   "source": [
    "numeric_pipeline = Pipeline([(\"numimputer\",SimpleImputer(strategy = \"mean\")),\n",
    "                             (\"numnorm\",StandardScaler())])\n",
    "ordinal_pipeline = Pipeline([\n",
    "    ('ordimputer', SimpleImputer(strategy = 'most_frequent')),\n",
    "    ('ordenc', OrdinalEncoder(categories = [age_list,ed_list,income_list])),\n",
    "    ('ordnorm', StandardScaler())])\n",
    "\n",
    "nominal_pipeline = Pipeline([\n",
    "    ('onehotimputer', SimpleImputer(strategy = 'most_frequent')),\n",
    "    ('onehotenc', OneHotEncoder(sparse = False)), \n",
    "    ('onehotnorm', MaxAbsScaler())])"
   ]
  },
  {
   "cell_type": "code",
   "execution_count": 10,
   "metadata": {},
   "outputs": [],
   "source": [
    "num_cols = X_train.select_dtypes([\"int\",\"float\",\"uint8\"]).columns\n",
    "\n",
    "ct = ColumnTransformer(\n",
    "    [(\"ordinal_pipe\", ordinal_pipeline,[\"age_group\",\"education\",\"income_poverty\"]),\n",
    "     (\"nominal_pipe\", nominal_pipeline,[\"race\",\"employment_status\",\"census_msa\"]),\n",
    "     (\"num_pipe\", numeric_pipeline, num_cols)])"
   ]
  },
  {
   "cell_type": "markdown",
   "metadata": {},
   "source": [
    "## Model 1 - Baseline Logistic Regression"
   ]
  },
  {
   "cell_type": "code",
   "execution_count": 11,
   "metadata": {},
   "outputs": [],
   "source": [
    "pipeline_1 = Pipeline([(\"preprocess\",ct),\n",
    "                           (\"model\",LogisticRegression())])"
   ]
  },
  {
   "cell_type": "code",
   "execution_count": 12,
   "metadata": {},
   "outputs": [
    {
     "data": {
      "text/html": [
       "<style>div.sk-top-container {color: black;background-color: white;}div.sk-toggleable {background-color: white;}label.sk-toggleable__label {cursor: pointer;display: block;width: 100%;margin-bottom: 0;padding: 0.2em 0.3em;box-sizing: border-box;text-align: center;}div.sk-toggleable__content {max-height: 0;max-width: 0;overflow: hidden;text-align: left;background-color: #f0f8ff;}div.sk-toggleable__content pre {margin: 0.2em;color: black;border-radius: 0.25em;background-color: #f0f8ff;}input.sk-toggleable__control:checked~div.sk-toggleable__content {max-height: 200px;max-width: 100%;overflow: auto;}div.sk-estimator input.sk-toggleable__control:checked~label.sk-toggleable__label {background-color: #d4ebff;}div.sk-label input.sk-toggleable__control:checked~label.sk-toggleable__label {background-color: #d4ebff;}input.sk-hidden--visually {border: 0;clip: rect(1px 1px 1px 1px);clip: rect(1px, 1px, 1px, 1px);height: 1px;margin: -1px;overflow: hidden;padding: 0;position: absolute;width: 1px;}div.sk-estimator {font-family: monospace;background-color: #f0f8ff;margin: 0.25em 0.25em;border: 1px dotted black;border-radius: 0.25em;box-sizing: border-box;}div.sk-estimator:hover {background-color: #d4ebff;}div.sk-parallel-item::after {content: \"\";width: 100%;border-bottom: 1px solid gray;flex-grow: 1;}div.sk-label:hover label.sk-toggleable__label {background-color: #d4ebff;}div.sk-serial::before {content: \"\";position: absolute;border-left: 1px solid gray;box-sizing: border-box;top: 2em;bottom: 0;left: 50%;}div.sk-serial {display: flex;flex-direction: column;align-items: center;background-color: white;}div.sk-item {z-index: 1;}div.sk-parallel {display: flex;align-items: stretch;justify-content: center;background-color: white;}div.sk-parallel-item {display: flex;flex-direction: column;position: relative;background-color: white;}div.sk-parallel-item:first-child::after {align-self: flex-end;width: 50%;}div.sk-parallel-item:last-child::after {align-self: flex-start;width: 50%;}div.sk-parallel-item:only-child::after {width: 0;}div.sk-dashed-wrapped {border: 1px dashed gray;margin: 0.2em;box-sizing: border-box;padding-bottom: 0.1em;background-color: white;position: relative;}div.sk-label label {font-family: monospace;font-weight: bold;background-color: white;display: inline-block;line-height: 1.2em;}div.sk-label-container {position: relative;z-index: 2;text-align: center;}div.sk-container {display: inline-block;position: relative;}</style><div class=\"sk-top-container\"><div class=\"sk-container\"><div class=\"sk-item sk-dashed-wrapped\"><div class=\"sk-label-container\"><div class=\"sk-label sk-toggleable\"><input class=\"sk-toggleable__control sk-hidden--visually\" id=\"f7c525de-8476-422b-b00c-3915b23632c2\" type=\"checkbox\" ><label class=\"sk-toggleable__label\" for=\"f7c525de-8476-422b-b00c-3915b23632c2\">Pipeline</label><div class=\"sk-toggleable__content\"><pre>Pipeline(steps=[('preprocess',\n",
       "                 ColumnTransformer(transformers=[('ordinal_pipe',\n",
       "                                                  Pipeline(steps=[('ordimputer',\n",
       "                                                                   SimpleImputer(strategy='most_frequent')),\n",
       "                                                                  ('ordenc',\n",
       "                                                                   OrdinalEncoder(categories=[['18 '\n",
       "                                                                                               '- '\n",
       "                                                                                               '34 '\n",
       "                                                                                               'Years',\n",
       "                                                                                               '35 '\n",
       "                                                                                               '- '\n",
       "                                                                                               '44 '\n",
       "                                                                                               'Years',\n",
       "                                                                                               '45 '\n",
       "                                                                                               '- '\n",
       "                                                                                               '54 '\n",
       "                                                                                               'Years',\n",
       "                                                                                               '55 '\n",
       "                                                                                               '- '\n",
       "                                                                                               '64 '\n",
       "                                                                                               'Years',\n",
       "                                                                                               '65+ '\n",
       "                                                                                               'Years'],\n",
       "                                                                                              ['< '\n",
       "                                                                                               '12 '\n",
       "                                                                                               'Years',\n",
       "                                                                                               '12 '\n",
       "                                                                                               'Years',\n",
       "                                                                                               'Some '\n",
       "                                                                                               'College',\n",
       "                                                                                               'College '\n",
       "                                                                                               'Graduate'],\n",
       "                                                                                              ['Below '...\n",
       "       'health_insurance', 'opinion_h1n1_vacc_effective', 'opinion_h1n1_risk',\n",
       "       'opinion_h1n1_sick_from_vacc', 'opinion_seas_vacc_effective',\n",
       "       'opinion_seas_risk', 'opinion_seas_sick_from_vacc', 'household_adults',\n",
       "       'household_children', 'sex_Female', 'sex_Male',\n",
       "       'marital_status_Married', 'marital_status_Not Married',\n",
       "       'rent_or_own_Own', 'rent_or_own_Rent'],\n",
       "      dtype='object'))])),\n",
       "                ('model', LogisticRegression())])</pre></div></div></div><div class=\"sk-serial\"><div class=\"sk-item sk-dashed-wrapped\"><div class=\"sk-label-container\"><div class=\"sk-label sk-toggleable\"><input class=\"sk-toggleable__control sk-hidden--visually\" id=\"f1e01e20-3007-49cf-a545-1ab3adc2e21a\" type=\"checkbox\" ><label class=\"sk-toggleable__label\" for=\"f1e01e20-3007-49cf-a545-1ab3adc2e21a\">preprocess: ColumnTransformer</label><div class=\"sk-toggleable__content\"><pre>ColumnTransformer(transformers=[('ordinal_pipe',\n",
       "                                 Pipeline(steps=[('ordimputer',\n",
       "                                                  SimpleImputer(strategy='most_frequent')),\n",
       "                                                 ('ordenc',\n",
       "                                                  OrdinalEncoder(categories=[['18 '\n",
       "                                                                              '- '\n",
       "                                                                              '34 '\n",
       "                                                                              'Years',\n",
       "                                                                              '35 '\n",
       "                                                                              '- '\n",
       "                                                                              '44 '\n",
       "                                                                              'Years',\n",
       "                                                                              '45 '\n",
       "                                                                              '- '\n",
       "                                                                              '54 '\n",
       "                                                                              'Years',\n",
       "                                                                              '55 '\n",
       "                                                                              '- '\n",
       "                                                                              '64 '\n",
       "                                                                              'Years',\n",
       "                                                                              '65+ '\n",
       "                                                                              'Years'],\n",
       "                                                                             ['< '\n",
       "                                                                              '12 '\n",
       "                                                                              'Years',\n",
       "                                                                              '12 '\n",
       "                                                                              'Years',\n",
       "                                                                              'Some '\n",
       "                                                                              'College',\n",
       "                                                                              'College '\n",
       "                                                                              'Graduate'],\n",
       "                                                                             ['Below '\n",
       "                                                                              'Poverty',\n",
       "                                                                              '<= '\n",
       "                                                                              '$75,000, '\n",
       "                                                                              'Above...\n",
       "       'health_insurance', 'opinion_h1n1_vacc_effective', 'opinion_h1n1_risk',\n",
       "       'opinion_h1n1_sick_from_vacc', 'opinion_seas_vacc_effective',\n",
       "       'opinion_seas_risk', 'opinion_seas_sick_from_vacc', 'household_adults',\n",
       "       'household_children', 'sex_Female', 'sex_Male',\n",
       "       'marital_status_Married', 'marital_status_Not Married',\n",
       "       'rent_or_own_Own', 'rent_or_own_Rent'],\n",
       "      dtype='object'))])</pre></div></div></div><div class=\"sk-parallel\"><div class=\"sk-parallel-item\"><div class=\"sk-item\"><div class=\"sk-label-container\"><div class=\"sk-label sk-toggleable\"><input class=\"sk-toggleable__control sk-hidden--visually\" id=\"31eb9dfa-c29b-4786-a601-ad441da59643\" type=\"checkbox\" ><label class=\"sk-toggleable__label\" for=\"31eb9dfa-c29b-4786-a601-ad441da59643\">ordinal_pipe</label><div class=\"sk-toggleable__content\"><pre>['age_group', 'education', 'income_poverty']</pre></div></div></div><div class=\"sk-serial\"><div class=\"sk-item\"><div class=\"sk-serial\"><div class=\"sk-item\"><div class=\"sk-estimator sk-toggleable\"><input class=\"sk-toggleable__control sk-hidden--visually\" id=\"8650463f-5d79-4586-8e79-d8e16757fe0f\" type=\"checkbox\" ><label class=\"sk-toggleable__label\" for=\"8650463f-5d79-4586-8e79-d8e16757fe0f\">SimpleImputer</label><div class=\"sk-toggleable__content\"><pre>SimpleImputer(strategy='most_frequent')</pre></div></div></div><div class=\"sk-item\"><div class=\"sk-estimator sk-toggleable\"><input class=\"sk-toggleable__control sk-hidden--visually\" id=\"704afd0a-4e93-4314-9a6a-ac4a5a95cbdf\" type=\"checkbox\" ><label class=\"sk-toggleable__label\" for=\"704afd0a-4e93-4314-9a6a-ac4a5a95cbdf\">OrdinalEncoder</label><div class=\"sk-toggleable__content\"><pre>OrdinalEncoder(categories=[['18 - 34 Years', '35 - 44 Years', '45 - 54 Years',\n",
       "                            '55 - 64 Years', '65+ Years'],\n",
       "                           ['< 12 Years', '12 Years', 'Some College',\n",
       "                            'College Graduate'],\n",
       "                           ['Below Poverty', '<= $75,000, Above Poverty',\n",
       "                            '> $75,000']])</pre></div></div></div><div class=\"sk-item\"><div class=\"sk-estimator sk-toggleable\"><input class=\"sk-toggleable__control sk-hidden--visually\" id=\"468eb326-6a95-49a8-9757-179002a4d027\" type=\"checkbox\" ><label class=\"sk-toggleable__label\" for=\"468eb326-6a95-49a8-9757-179002a4d027\">StandardScaler</label><div class=\"sk-toggleable__content\"><pre>StandardScaler()</pre></div></div></div></div></div></div></div></div><div class=\"sk-parallel-item\"><div class=\"sk-item\"><div class=\"sk-label-container\"><div class=\"sk-label sk-toggleable\"><input class=\"sk-toggleable__control sk-hidden--visually\" id=\"31046a64-a11f-431a-8489-0c1fff9b92dc\" type=\"checkbox\" ><label class=\"sk-toggleable__label\" for=\"31046a64-a11f-431a-8489-0c1fff9b92dc\">nominal_pipe</label><div class=\"sk-toggleable__content\"><pre>['race', 'employment_status', 'census_msa']</pre></div></div></div><div class=\"sk-serial\"><div class=\"sk-item\"><div class=\"sk-serial\"><div class=\"sk-item\"><div class=\"sk-estimator sk-toggleable\"><input class=\"sk-toggleable__control sk-hidden--visually\" id=\"ac9e05b6-950a-4f7a-8c13-28189f5f1bcc\" type=\"checkbox\" ><label class=\"sk-toggleable__label\" for=\"ac9e05b6-950a-4f7a-8c13-28189f5f1bcc\">SimpleImputer</label><div class=\"sk-toggleable__content\"><pre>SimpleImputer(strategy='most_frequent')</pre></div></div></div><div class=\"sk-item\"><div class=\"sk-estimator sk-toggleable\"><input class=\"sk-toggleable__control sk-hidden--visually\" id=\"543985ac-7ec8-4adc-976e-7d41b37bc004\" type=\"checkbox\" ><label class=\"sk-toggleable__label\" for=\"543985ac-7ec8-4adc-976e-7d41b37bc004\">OneHotEncoder</label><div class=\"sk-toggleable__content\"><pre>OneHotEncoder(sparse=False)</pre></div></div></div><div class=\"sk-item\"><div class=\"sk-estimator sk-toggleable\"><input class=\"sk-toggleable__control sk-hidden--visually\" id=\"9db79066-6096-4eb1-89ed-ced1f3d95edb\" type=\"checkbox\" ><label class=\"sk-toggleable__label\" for=\"9db79066-6096-4eb1-89ed-ced1f3d95edb\">MaxAbsScaler</label><div class=\"sk-toggleable__content\"><pre>MaxAbsScaler()</pre></div></div></div></div></div></div></div></div><div class=\"sk-parallel-item\"><div class=\"sk-item\"><div class=\"sk-label-container\"><div class=\"sk-label sk-toggleable\"><input class=\"sk-toggleable__control sk-hidden--visually\" id=\"8be1a93e-df62-4b8e-be09-fc67b23a1f18\" type=\"checkbox\" ><label class=\"sk-toggleable__label\" for=\"8be1a93e-df62-4b8e-be09-fc67b23a1f18\">num_pipe</label><div class=\"sk-toggleable__content\"><pre>Index(['h1n1_concern', 'h1n1_knowledge', 'behavioral_antiviral_meds',\n",
       "       'behavioral_avoidance', 'behavioral_face_mask', 'behavioral_wash_hands',\n",
       "       'behavioral_large_gatherings', 'behavioral_outside_home',\n",
       "       'behavioral_touch_face', 'doctor_recc_h1n1', 'doctor_recc_seasonal',\n",
       "       'chronic_med_condition', 'child_under_6_months', 'health_worker',\n",
       "       'health_insurance', 'opinion_h1n1_vacc_effective', 'opinion_h1n1_risk',\n",
       "       'opinion_h1n1_sick_from_vacc', 'opinion_seas_vacc_effective',\n",
       "       'opinion_seas_risk', 'opinion_seas_sick_from_vacc', 'household_adults',\n",
       "       'household_children', 'sex_Female', 'sex_Male',\n",
       "       'marital_status_Married', 'marital_status_Not Married',\n",
       "       'rent_or_own_Own', 'rent_or_own_Rent'],\n",
       "      dtype='object')</pre></div></div></div><div class=\"sk-serial\"><div class=\"sk-item\"><div class=\"sk-serial\"><div class=\"sk-item\"><div class=\"sk-estimator sk-toggleable\"><input class=\"sk-toggleable__control sk-hidden--visually\" id=\"a5080c04-3888-4401-bea2-a039cac7fd99\" type=\"checkbox\" ><label class=\"sk-toggleable__label\" for=\"a5080c04-3888-4401-bea2-a039cac7fd99\">SimpleImputer</label><div class=\"sk-toggleable__content\"><pre>SimpleImputer()</pre></div></div></div><div class=\"sk-item\"><div class=\"sk-estimator sk-toggleable\"><input class=\"sk-toggleable__control sk-hidden--visually\" id=\"37ba9648-1398-493e-9d5c-a33d61d972b9\" type=\"checkbox\" ><label class=\"sk-toggleable__label\" for=\"37ba9648-1398-493e-9d5c-a33d61d972b9\">StandardScaler</label><div class=\"sk-toggleable__content\"><pre>StandardScaler()</pre></div></div></div></div></div></div></div></div></div></div><div class=\"sk-item\"><div class=\"sk-estimator sk-toggleable\"><input class=\"sk-toggleable__control sk-hidden--visually\" id=\"f338dfb4-9aa0-4155-bcdb-e5c3abef4552\" type=\"checkbox\" ><label class=\"sk-toggleable__label\" for=\"f338dfb4-9aa0-4155-bcdb-e5c3abef4552\">LogisticRegression</label><div class=\"sk-toggleable__content\"><pre>LogisticRegression()</pre></div></div></div></div></div></div></div>"
      ],
      "text/plain": [
       "Pipeline(steps=[('preprocess',\n",
       "                 ColumnTransformer(transformers=[('ordinal_pipe',\n",
       "                                                  Pipeline(steps=[('ordimputer',\n",
       "                                                                   SimpleImputer(strategy='most_frequent')),\n",
       "                                                                  ('ordenc',\n",
       "                                                                   OrdinalEncoder(categories=[['18 '\n",
       "                                                                                               '- '\n",
       "                                                                                               '34 '\n",
       "                                                                                               'Years',\n",
       "                                                                                               '35 '\n",
       "                                                                                               '- '\n",
       "                                                                                               '44 '\n",
       "                                                                                               'Years',\n",
       "                                                                                               '45 '\n",
       "                                                                                               '- '\n",
       "                                                                                               '54 '\n",
       "                                                                                               'Years',\n",
       "                                                                                               '55 '\n",
       "                                                                                               '- '\n",
       "                                                                                               '64 '\n",
       "                                                                                               'Years',\n",
       "                                                                                               '65+ '\n",
       "                                                                                               'Years'],\n",
       "                                                                                              ['< '\n",
       "                                                                                               '12 '\n",
       "                                                                                               'Years',\n",
       "                                                                                               '12 '\n",
       "                                                                                               'Years',\n",
       "                                                                                               'Some '\n",
       "                                                                                               'College',\n",
       "                                                                                               'College '\n",
       "                                                                                               'Graduate'],\n",
       "                                                                                              ['Below '...\n",
       "       'health_insurance', 'opinion_h1n1_vacc_effective', 'opinion_h1n1_risk',\n",
       "       'opinion_h1n1_sick_from_vacc', 'opinion_seas_vacc_effective',\n",
       "       'opinion_seas_risk', 'opinion_seas_sick_from_vacc', 'household_adults',\n",
       "       'household_children', 'sex_Female', 'sex_Male',\n",
       "       'marital_status_Married', 'marital_status_Not Married',\n",
       "       'rent_or_own_Own', 'rent_or_own_Rent'],\n",
       "      dtype='object'))])),\n",
       "                ('model', LogisticRegression())])"
      ]
     },
     "execution_count": 12,
     "metadata": {},
     "output_type": "execute_result"
    }
   ],
   "source": [
    "pipeline_1.fit(X_train, y_train)"
   ]
  },
  {
   "cell_type": "code",
   "execution_count": 13,
   "metadata": {},
   "outputs": [],
   "source": [
    "y_pred1 = pipeline_1.predict(X_test)"
   ]
  },
  {
   "cell_type": "code",
   "execution_count": 14,
   "metadata": {},
   "outputs": [
    {
     "data": {
      "text/plain": [
       "<sklearn.metrics._plot.confusion_matrix.ConfusionMatrixDisplay at 0x183bcf4e760>"
      ]
     },
     "execution_count": 14,
     "metadata": {},
     "output_type": "execute_result"
    },
    {
     "data": {
      "image/png": "[encoded data removed]",
      "text/plain": [
       "<Figure size 432x288 with 2 Axes>"
      ]
     },
     "metadata": {
      "needs_background": "light"
     },
     "output_type": "display_data"
    }
   ],
   "source": [
    "plot_confusion_matrix(pipeline_1, X_test,y_test)"
   ]
  },
  {
   "cell_type": "code",
   "execution_count": 15,
   "metadata": {},
   "outputs": [
    {
     "name": "stdout",
     "output_type": "stream",
     "text": [
      "              precision    recall  f1-score   support\n",
      "\n",
      "           0       0.86      0.95      0.90      6311\n",
      "           1       0.68      0.43      0.53      1702\n",
      "\n",
      "    accuracy                           0.84      8013\n",
      "   macro avg       0.77      0.69      0.72      8013\n",
      "weighted avg       0.82      0.84      0.82      8013\n",
      "\n"
     ]
    }
   ],
   "source": [
    "print(classification_report(y_test, y_pred1))"
   ]
  },
  {
   "cell_type": "code",
   "execution_count": 16,
   "metadata": {},
   "outputs": [
    {
     "data": {
      "text/plain": [
       "<sklearn.metrics._plot.roc_curve.RocCurveDisplay at 0x183bd887fd0>"
      ]
     },
     "execution_count": 16,
     "metadata": {},
     "output_type": "execute_result"
    },
    {
     "data": {
      "image/png": "[encoded data removed]",
      "text/plain": [
       "<Figure size 432x288 with 1 Axes>"
      ]
     },
     "metadata": {
      "needs_background": "light"
     },
     "output_type": "display_data"
    }
   ],
   "source": [
    "plot_roc_curve(pipeline_1, X_test, y_test)"
   ]
  },
  {
   "cell_type": "markdown",
   "metadata": {},
   "source": [
    "## Model 2 -  Logistic Regression + SMOTE"
   ]
  },
  {
   "cell_type": "code",
   "execution_count": 17,
   "metadata": {},
   "outputs": [],
   "source": [
    "smt = SMOTE()"
   ]
  },
  {
   "cell_type": "code",
   "execution_count": 18,
   "metadata": {},
   "outputs": [],
   "source": [
    "pipeline_2 = Pipeline([(\"preprocess\",ct),\n",
    "                       (\"smote\",smt),\n",
    "                       (\"model\",LogisticRegression())])"
   ]
  },
  {
   "cell_type": "code",
   "execution_count": 19,
   "metadata": {},
   "outputs": [
    {
     "data": {
      "text/html": [
       "<style>div.sk-top-container {color: black;background-color: white;}div.sk-toggleable {background-color: white;}label.sk-toggleable__label {cursor: pointer;display: block;width: 100%;margin-bottom: 0;padding: 0.2em 0.3em;box-sizing: border-box;text-align: center;}div.sk-toggleable__content {max-height: 0;max-width: 0;overflow: hidden;text-align: left;background-color: #f0f8ff;}div.sk-toggleable__content pre {margin: 0.2em;color: black;border-radius: 0.25em;background-color: #f0f8ff;}input.sk-toggleable__control:checked~div.sk-toggleable__content {max-height: 200px;max-width: 100%;overflow: auto;}div.sk-estimator input.sk-toggleable__control:checked~label.sk-toggleable__label {background-color: #d4ebff;}div.sk-label input.sk-toggleable__control:checked~label.sk-toggleable__label {background-color: #d4ebff;}input.sk-hidden--visually {border: 0;clip: rect(1px 1px 1px 1px);clip: rect(1px, 1px, 1px, 1px);height: 1px;margin: -1px;overflow: hidden;padding: 0;position: absolute;width: 1px;}div.sk-estimator {font-family: monospace;background-color: #f0f8ff;margin: 0.25em 0.25em;border: 1px dotted black;border-radius: 0.25em;box-sizing: border-box;}div.sk-estimator:hover {background-color: #d4ebff;}div.sk-parallel-item::after {content: \"\";width: 100%;border-bottom: 1px solid gray;flex-grow: 1;}div.sk-label:hover label.sk-toggleable__label {background-color: #d4ebff;}div.sk-serial::before {content: \"\";position: absolute;border-left: 1px solid gray;box-sizing: border-box;top: 2em;bottom: 0;left: 50%;}div.sk-serial {display: flex;flex-direction: column;align-items: center;background-color: white;}div.sk-item {z-index: 1;}div.sk-parallel {display: flex;align-items: stretch;justify-content: center;background-color: white;}div.sk-parallel-item {display: flex;flex-direction: column;position: relative;background-color: white;}div.sk-parallel-item:first-child::after {align-self: flex-end;width: 50%;}div.sk-parallel-item:last-child::after {align-self: flex-start;width: 50%;}div.sk-parallel-item:only-child::after {width: 0;}div.sk-dashed-wrapped {border: 1px dashed gray;margin: 0.2em;box-sizing: border-box;padding-bottom: 0.1em;background-color: white;position: relative;}div.sk-label label {font-family: monospace;font-weight: bold;background-color: white;display: inline-block;line-height: 1.2em;}div.sk-label-container {position: relative;z-index: 2;text-align: center;}div.sk-container {display: inline-block;position: relative;}</style><div class=\"sk-top-container\"><div class=\"sk-container\"><div class=\"sk-item sk-dashed-wrapped\"><div class=\"sk-label-container\"><div class=\"sk-label sk-toggleable\"><input class=\"sk-toggleable__control sk-hidden--visually\" id=\"3bde7ec8-e136-4e90-9e0c-d75531984539\" type=\"checkbox\" ><label class=\"sk-toggleable__label\" for=\"3bde7ec8-e136-4e90-9e0c-d75531984539\">Pipeline</label><div class=\"sk-toggleable__content\"><pre>Pipeline(steps=[('preprocess',\n",
       "                 ColumnTransformer(transformers=[('ordinal_pipe',\n",
       "                                                  Pipeline(steps=[('ordimputer',\n",
       "                                                                   SimpleImputer(strategy='most_frequent')),\n",
       "                                                                  ('ordenc',\n",
       "                                                                   OrdinalEncoder(categories=[['18 '\n",
       "                                                                                               '- '\n",
       "                                                                                               '34 '\n",
       "                                                                                               'Years',\n",
       "                                                                                               '35 '\n",
       "                                                                                               '- '\n",
       "                                                                                               '44 '\n",
       "                                                                                               'Years',\n",
       "                                                                                               '45 '\n",
       "                                                                                               '- '\n",
       "                                                                                               '54 '\n",
       "                                                                                               'Years',\n",
       "                                                                                               '55 '\n",
       "                                                                                               '- '\n",
       "                                                                                               '64 '\n",
       "                                                                                               'Years',\n",
       "                                                                                               '65+ '\n",
       "                                                                                               'Years'],\n",
       "                                                                                              ['< '\n",
       "                                                                                               '12 '\n",
       "                                                                                               'Years',\n",
       "                                                                                               '12 '\n",
       "                                                                                               'Years',\n",
       "                                                                                               'Some '\n",
       "                                                                                               'College',\n",
       "                                                                                               'College '\n",
       "                                                                                               'Graduate'],\n",
       "                                                                                              ['Below '...\n",
       "       'health_insurance', 'opinion_h1n1_vacc_effective', 'opinion_h1n1_risk',\n",
       "       'opinion_h1n1_sick_from_vacc', 'opinion_seas_vacc_effective',\n",
       "       'opinion_seas_risk', 'opinion_seas_sick_from_vacc', 'household_adults',\n",
       "       'household_children', 'sex_Female', 'sex_Male',\n",
       "       'marital_status_Married', 'marital_status_Not Married',\n",
       "       'rent_or_own_Own', 'rent_or_own_Rent'],\n",
       "      dtype='object'))])),\n",
       "                ('smote', SMOTE()), ('model', LogisticRegression())])</pre></div></div></div><div class=\"sk-serial\"><div class=\"sk-item sk-dashed-wrapped\"><div class=\"sk-label-container\"><div class=\"sk-label sk-toggleable\"><input class=\"sk-toggleable__control sk-hidden--visually\" id=\"e751371a-f231-415e-a81c-23b23cbc4df4\" type=\"checkbox\" ><label class=\"sk-toggleable__label\" for=\"e751371a-f231-415e-a81c-23b23cbc4df4\">preprocess: ColumnTransformer</label><div class=\"sk-toggleable__content\"><pre>ColumnTransformer(transformers=[('ordinal_pipe',\n",
       "                                 Pipeline(steps=[('ordimputer',\n",
       "                                                  SimpleImputer(strategy='most_frequent')),\n",
       "                                                 ('ordenc',\n",
       "                                                  OrdinalEncoder(categories=[['18 '\n",
       "                                                                              '- '\n",
       "                                                                              '34 '\n",
       "                                                                              'Years',\n",
       "                                                                              '35 '\n",
       "                                                                              '- '\n",
       "                                                                              '44 '\n",
       "                                                                              'Years',\n",
       "                                                                              '45 '\n",
       "                                                                              '- '\n",
       "                                                                              '54 '\n",
       "                                                                              'Years',\n",
       "                                                                              '55 '\n",
       "                                                                              '- '\n",
       "                                                                              '64 '\n",
       "                                                                              'Years',\n",
       "                                                                              '65+ '\n",
       "                                                                              'Years'],\n",
       "                                                                             ['< '\n",
       "                                                                              '12 '\n",
       "                                                                              'Years',\n",
       "                                                                              '12 '\n",
       "                                                                              'Years',\n",
       "                                                                              'Some '\n",
       "                                                                              'College',\n",
       "                                                                              'College '\n",
       "                                                                              'Graduate'],\n",
       "                                                                             ['Below '\n",
       "                                                                              'Poverty',\n",
       "                                                                              '<= '\n",
       "                                                                              '$75,000, '\n",
       "                                                                              'Above...\n",
       "       'health_insurance', 'opinion_h1n1_vacc_effective', 'opinion_h1n1_risk',\n",
       "       'opinion_h1n1_sick_from_vacc', 'opinion_seas_vacc_effective',\n",
       "       'opinion_seas_risk', 'opinion_seas_sick_from_vacc', 'household_adults',\n",
       "       'household_children', 'sex_Female', 'sex_Male',\n",
       "       'marital_status_Married', 'marital_status_Not Married',\n",
       "       'rent_or_own_Own', 'rent_or_own_Rent'],\n",
       "      dtype='object'))])</pre></div></div></div><div class=\"sk-parallel\"><div class=\"sk-parallel-item\"><div class=\"sk-item\"><div class=\"sk-label-container\"><div class=\"sk-label sk-toggleable\"><input class=\"sk-toggleable__control sk-hidden--visually\" id=\"fd537747-720f-407c-aa1c-7d24073d2415\" type=\"checkbox\" ><label class=\"sk-toggleable__label\" for=\"fd537747-720f-407c-aa1c-7d24073d2415\">ordinal_pipe</label><div class=\"sk-toggleable__content\"><pre>['age_group', 'education', 'income_poverty']</pre></div></div></div><div class=\"sk-serial\"><div class=\"sk-item\"><div class=\"sk-serial\"><div class=\"sk-item\"><div class=\"sk-estimator sk-toggleable\"><input class=\"sk-toggleable__control sk-hidden--visually\" id=\"a39218e8-db01-4a1b-8d69-35a18d1dd57b\" type=\"checkbox\" ><label class=\"sk-toggleable__label\" for=\"a39218e8-db01-4a1b-8d69-35a18d1dd57b\">SimpleImputer</label><div class=\"sk-toggleable__content\"><pre>SimpleImputer(strategy='most_frequent')</pre></div></div></div><div class=\"sk-item\"><div class=\"sk-estimator sk-toggleable\"><input class=\"sk-toggleable__control sk-hidden--visually\" id=\"fb639273-f86e-4672-9ee9-54d512ca710f\" type=\"checkbox\" ><label class=\"sk-toggleable__label\" for=\"fb639273-f86e-4672-9ee9-54d512ca710f\">OrdinalEncoder</label><div class=\"sk-toggleable__content\"><pre>OrdinalEncoder(categories=[['18 - 34 Years', '35 - 44 Years', '45 - 54 Years',\n",
       "                            '55 - 64 Years', '65+ Years'],\n",
       "                           ['< 12 Years', '12 Years', 'Some College',\n",
       "                            'College Graduate'],\n",
       "                           ['Below Poverty', '<= $75,000, Above Poverty',\n",
       "                            '> $75,000']])</pre></div></div></div><div class=\"sk-item\"><div class=\"sk-estimator sk-toggleable\"><input class=\"sk-toggleable__control sk-hidden--visually\" id=\"ce43c464-f3ed-46fb-82db-031463eba1bd\" type=\"checkbox\" ><label class=\"sk-toggleable__label\" for=\"ce43c464-f3ed-46fb-82db-031463eba1bd\">StandardScaler</label><div class=\"sk-toggleable__content\"><pre>StandardScaler()</pre></div></div></div></div></div></div></div></div><div class=\"sk-parallel-item\"><div class=\"sk-item\"><div class=\"sk-label-container\"><div class=\"sk-label sk-toggleable\"><input class=\"sk-toggleable__control sk-hidden--visually\" id=\"b9774562-f77f-408b-9d28-52e64cd6d0a5\" type=\"checkbox\" ><label class=\"sk-toggleable__label\" for=\"b9774562-f77f-408b-9d28-52e64cd6d0a5\">nominal_pipe</label><div class=\"sk-toggleable__content\"><pre>['race', 'employment_status', 'census_msa']</pre></div></div></div><div class=\"sk-serial\"><div class=\"sk-item\"><div class=\"sk-serial\"><div class=\"sk-item\"><div class=\"sk-estimator sk-toggleable\"><input class=\"sk-toggleable__control sk-hidden--visually\" id=\"d2019c22-1d43-49e8-96d5-19ed4ca32087\" type=\"checkbox\" ><label class=\"sk-toggleable__label\" for=\"d2019c22-1d43-49e8-96d5-19ed4ca32087\">SimpleImputer</label><div class=\"sk-toggleable__content\"><pre>SimpleImputer(strategy='most_frequent')</pre></div></div></div><div class=\"sk-item\"><div class=\"sk-estimator sk-toggleable\"><input class=\"sk-toggleable__control sk-hidden--visually\" id=\"ddd981d1-d88d-4757-878b-ad2189f0f243\" type=\"checkbox\" ><label class=\"sk-toggleable__label\" for=\"ddd981d1-d88d-4757-878b-ad2189f0f243\">OneHotEncoder</label><div class=\"sk-toggleable__content\"><pre>OneHotEncoder(sparse=False)</pre></div></div></div><div class=\"sk-item\"><div class=\"sk-estimator sk-toggleable\"><input class=\"sk-toggleable__control sk-hidden--visually\" id=\"7f1a765d-ff2e-4be2-84c0-1d1a59d678ba\" type=\"checkbox\" ><label class=\"sk-toggleable__label\" for=\"7f1a765d-ff2e-4be2-84c0-1d1a59d678ba\">MaxAbsScaler</label><div class=\"sk-toggleable__content\"><pre>MaxAbsScaler()</pre></div></div></div></div></div></div></div></div><div class=\"sk-parallel-item\"><div class=\"sk-item\"><div class=\"sk-label-container\"><div class=\"sk-label sk-toggleable\"><input class=\"sk-toggleable__control sk-hidden--visually\" id=\"617a47f6-7d91-4bd5-a86f-fdb6f5854225\" type=\"checkbox\" ><label class=\"sk-toggleable__label\" for=\"617a47f6-7d91-4bd5-a86f-fdb6f5854225\">num_pipe</label><div class=\"sk-toggleable__content\"><pre>Index(['h1n1_concern', 'h1n1_knowledge', 'behavioral_antiviral_meds',\n",
       "       'behavioral_avoidance', 'behavioral_face_mask', 'behavioral_wash_hands',\n",
       "       'behavioral_large_gatherings', 'behavioral_outside_home',\n",
       "       'behavioral_touch_face', 'doctor_recc_h1n1', 'doctor_recc_seasonal',\n",
       "       'chronic_med_condition', 'child_under_6_months', 'health_worker',\n",
       "       'health_insurance', 'opinion_h1n1_vacc_effective', 'opinion_h1n1_risk',\n",
       "       'opinion_h1n1_sick_from_vacc', 'opinion_seas_vacc_effective',\n",
       "       'opinion_seas_risk', 'opinion_seas_sick_from_vacc', 'household_adults',\n",
       "       'household_children', 'sex_Female', 'sex_Male',\n",
       "       'marital_status_Married', 'marital_status_Not Married',\n",
       "       'rent_or_own_Own', 'rent_or_own_Rent'],\n",
       "      dtype='object')</pre></div></div></div><div class=\"sk-serial\"><div class=\"sk-item\"><div class=\"sk-serial\"><div class=\"sk-item\"><div class=\"sk-estimator sk-toggleable\"><input class=\"sk-toggleable__control sk-hidden--visually\" id=\"4be282c4-58a5-4618-9530-3a579a2e621d\" type=\"checkbox\" ><label class=\"sk-toggleable__label\" for=\"4be282c4-58a5-4618-9530-3a579a2e621d\">SimpleImputer</label><div class=\"sk-toggleable__content\"><pre>SimpleImputer()</pre></div></div></div><div class=\"sk-item\"><div class=\"sk-estimator sk-toggleable\"><input class=\"sk-toggleable__control sk-hidden--visually\" id=\"41ceebc9-8830-4150-ad0b-73ffefed9d06\" type=\"checkbox\" ><label class=\"sk-toggleable__label\" for=\"41ceebc9-8830-4150-ad0b-73ffefed9d06\">StandardScaler</label><div class=\"sk-toggleable__content\"><pre>StandardScaler()</pre></div></div></div></div></div></div></div></div></div></div><div class=\"sk-item\"><div class=\"sk-estimator sk-toggleable\"><input class=\"sk-toggleable__control sk-hidden--visually\" id=\"80677208-8ee4-4f53-bb25-0192928d8f6b\" type=\"checkbox\" ><label class=\"sk-toggleable__label\" for=\"80677208-8ee4-4f53-bb25-0192928d8f6b\">SMOTE</label><div class=\"sk-toggleable__content\"><pre>SMOTE()</pre></div></div></div><div class=\"sk-item\"><div class=\"sk-estimator sk-toggleable\"><input class=\"sk-toggleable__control sk-hidden--visually\" id=\"cb2ee391-ad9e-4bd8-bc67-1d4ddcf378f9\" type=\"checkbox\" ><label class=\"sk-toggleable__label\" for=\"cb2ee391-ad9e-4bd8-bc67-1d4ddcf378f9\">LogisticRegression</label><div class=\"sk-toggleable__content\"><pre>LogisticRegression()</pre></div></div></div></div></div></div></div>"
      ],
      "text/plain": [
       "Pipeline(steps=[('preprocess',\n",
       "                 ColumnTransformer(transformers=[('ordinal_pipe',\n",
       "                                                  Pipeline(steps=[('ordimputer',\n",
       "                                                                   SimpleImputer(strategy='most_frequent')),\n",
       "                                                                  ('ordenc',\n",
       "                                                                   OrdinalEncoder(categories=[['18 '\n",
       "                                                                                               '- '\n",
       "                                                                                               '34 '\n",
       "                                                                                               'Years',\n",
       "                                                                                               '35 '\n",
       "                                                                                               '- '\n",
       "                                                                                               '44 '\n",
       "                                                                                               'Years',\n",
       "                                                                                               '45 '\n",
       "                                                                                               '- '\n",
       "                                                                                               '54 '\n",
       "                                                                                               'Years',\n",
       "                                                                                               '55 '\n",
       "                                                                                               '- '\n",
       "                                                                                               '64 '\n",
       "                                                                                               'Years',\n",
       "                                                                                               '65+ '\n",
       "                                                                                               'Years'],\n",
       "                                                                                              ['< '\n",
       "                                                                                               '12 '\n",
       "                                                                                               'Years',\n",
       "                                                                                               '12 '\n",
       "                                                                                               'Years',\n",
       "                                                                                               'Some '\n",
       "                                                                                               'College',\n",
       "                                                                                               'College '\n",
       "                                                                                               'Graduate'],\n",
       "                                                                                              ['Below '...\n",
       "       'health_insurance', 'opinion_h1n1_vacc_effective', 'opinion_h1n1_risk',\n",
       "       'opinion_h1n1_sick_from_vacc', 'opinion_seas_vacc_effective',\n",
       "       'opinion_seas_risk', 'opinion_seas_sick_from_vacc', 'household_adults',\n",
       "       'household_children', 'sex_Female', 'sex_Male',\n",
       "       'marital_status_Married', 'marital_status_Not Married',\n",
       "       'rent_or_own_Own', 'rent_or_own_Rent'],\n",
       "      dtype='object'))])),\n",
       "                ('smote', SMOTE()), ('model', LogisticRegression())])"
      ]
     },
     "execution_count": 19,
     "metadata": {},
     "output_type": "execute_result"
    }
   ],
   "source": [
    "pipeline_2.fit(X_train, y_train)"
   ]
  },
  {
   "cell_type": "code",
   "execution_count": 20,
   "metadata": {},
   "outputs": [],
   "source": [
    "y_pred2 = pipeline_2.predict(X_test)"
   ]
  },
  {
   "cell_type": "code",
   "execution_count": 21,
   "metadata": {},
   "outputs": [
    {
     "data": {
      "text/plain": [
       "<sklearn.metrics._plot.confusion_matrix.ConfusionMatrixDisplay at 0x183bcf4e820>"
      ]
     },
     "execution_count": 21,
     "metadata": {},
     "output_type": "execute_result"
    },
    {
     "data": {
      "image/png": "[encoded data removed]",
      "text/plain": [
       "<Figure size 432x288 with 2 Axes>"
      ]
     },
     "metadata": {
      "needs_background": "light"
     },
     "output_type": "display_data"
    }
   ],
   "source": [
    "plot_confusion_matrix(pipeline_2, X_test,y_test)"
   ]
  },
  {
   "cell_type": "code",
   "execution_count": 22,
   "metadata": {},
   "outputs": [
    {
     "name": "stdout",
     "output_type": "stream",
     "text": [
      "              precision    recall  f1-score   support\n",
      "\n",
      "           0       0.91      0.79      0.84      6311\n",
      "           1       0.48      0.73      0.58      1702\n",
      "\n",
      "    accuracy                           0.77      8013\n",
      "   macro avg       0.70      0.76      0.71      8013\n",
      "weighted avg       0.82      0.77      0.79      8013\n",
      "\n"
     ]
    }
   ],
   "source": [
    "print(classification_report(y_test, y_pred2))"
   ]
  },
  {
   "cell_type": "code",
   "execution_count": 23,
   "metadata": {},
   "outputs": [
    {
     "data": {
      "text/plain": [
       "<sklearn.metrics._plot.roc_curve.RocCurveDisplay at 0x183bd4bfe20>"
      ]
     },
     "execution_count": 23,
     "metadata": {},
     "output_type": "execute_result"
    },
    {
     "data": {
      "image/png": "[encoded data removed]",
      "text/plain": [
       "<Figure size 432x288 with 1 Axes>"
      ]
     },
     "metadata": {
      "needs_background": "light"
     },
     "output_type": "display_data"
    }
   ],
   "source": [
    "plot_roc_curve(pipeline_2, X_test, y_test)"
   ]
  },
  {
   "cell_type": "markdown",
   "metadata": {},
   "source": [
    "## Model 3 - Logistic Regression + Oversampling"
   ]
  },
  {
   "cell_type": "code",
   "execution_count": 24,
   "metadata": {},
   "outputs": [],
   "source": [
    "oversample = RandomOverSampler()"
   ]
  },
  {
   "cell_type": "code",
   "execution_count": 25,
   "metadata": {},
   "outputs": [],
   "source": [
    "pipeline_3 = Pipeline([(\"preprocess\",ct),\n",
    "                       (\"oversample\",oversample),\n",
    "                       (\"model\",LogisticRegression())])"
   ]
  },
  {
   "cell_type": "code",
   "execution_count": 26,
   "metadata": {},
   "outputs": [
    {
     "data": {
      "text/html": [
       "<style>div.sk-top-container {color: black;background-color: white;}div.sk-toggleable {background-color: white;}label.sk-toggleable__label {cursor: pointer;display: block;width: 100%;margin-bottom: 0;padding: 0.2em 0.3em;box-sizing: border-box;text-align: center;}div.sk-toggleable__content {max-height: 0;max-width: 0;overflow: hidden;text-align: left;background-color: #f0f8ff;}div.sk-toggleable__content pre {margin: 0.2em;color: black;border-radius: 0.25em;background-color: #f0f8ff;}input.sk-toggleable__control:checked~div.sk-toggleable__content {max-height: 200px;max-width: 100%;overflow: auto;}div.sk-estimator input.sk-toggleable__control:checked~label.sk-toggleable__label {background-color: #d4ebff;}div.sk-label input.sk-toggleable__control:checked~label.sk-toggleable__label {background-color: #d4ebff;}input.sk-hidden--visually {border: 0;clip: rect(1px 1px 1px 1px);clip: rect(1px, 1px, 1px, 1px);height: 1px;margin: -1px;overflow: hidden;padding: 0;position: absolute;width: 1px;}div.sk-estimator {font-family: monospace;background-color: #f0f8ff;margin: 0.25em 0.25em;border: 1px dotted black;border-radius: 0.25em;box-sizing: border-box;}div.sk-estimator:hover {background-color: #d4ebff;}div.sk-parallel-item::after {content: \"\";width: 100%;border-bottom: 1px solid gray;flex-grow: 1;}div.sk-label:hover label.sk-toggleable__label {background-color: #d4ebff;}div.sk-serial::before {content: \"\";position: absolute;border-left: 1px solid gray;box-sizing: border-box;top: 2em;bottom: 0;left: 50%;}div.sk-serial {display: flex;flex-direction: column;align-items: center;background-color: white;}div.sk-item {z-index: 1;}div.sk-parallel {display: flex;align-items: stretch;justify-content: center;background-color: white;}div.sk-parallel-item {display: flex;flex-direction: column;position: relative;background-color: white;}div.sk-parallel-item:first-child::after {align-self: flex-end;width: 50%;}div.sk-parallel-item:last-child::after {align-self: flex-start;width: 50%;}div.sk-parallel-item:only-child::after {width: 0;}div.sk-dashed-wrapped {border: 1px dashed gray;margin: 0.2em;box-sizing: border-box;padding-bottom: 0.1em;background-color: white;position: relative;}div.sk-label label {font-family: monospace;font-weight: bold;background-color: white;display: inline-block;line-height: 1.2em;}div.sk-label-container {position: relative;z-index: 2;text-align: center;}div.sk-container {display: inline-block;position: relative;}</style><div class=\"sk-top-container\"><div class=\"sk-container\"><div class=\"sk-item sk-dashed-wrapped\"><div class=\"sk-label-container\"><div class=\"sk-label sk-toggleable\"><input class=\"sk-toggleable__control sk-hidden--visually\" id=\"bc56011a-395d-4dc1-bf82-2b90d5082af2\" type=\"checkbox\" ><label class=\"sk-toggleable__label\" for=\"bc56011a-395d-4dc1-bf82-2b90d5082af2\">Pipeline</label><div class=\"sk-toggleable__content\"><pre>Pipeline(steps=[('preprocess',\n",
       "                 ColumnTransformer(transformers=[('ordinal_pipe',\n",
       "                                                  Pipeline(steps=[('ordimputer',\n",
       "                                                                   SimpleImputer(strategy='most_frequent')),\n",
       "                                                                  ('ordenc',\n",
       "                                                                   OrdinalEncoder(categories=[['18 '\n",
       "                                                                                               '- '\n",
       "                                                                                               '34 '\n",
       "                                                                                               'Years',\n",
       "                                                                                               '35 '\n",
       "                                                                                               '- '\n",
       "                                                                                               '44 '\n",
       "                                                                                               'Years',\n",
       "                                                                                               '45 '\n",
       "                                                                                               '- '\n",
       "                                                                                               '54 '\n",
       "                                                                                               'Years',\n",
       "                                                                                               '55 '\n",
       "                                                                                               '- '\n",
       "                                                                                               '64 '\n",
       "                                                                                               'Years',\n",
       "                                                                                               '65+ '\n",
       "                                                                                               'Years'],\n",
       "                                                                                              ['< '\n",
       "                                                                                               '12 '\n",
       "                                                                                               'Years',\n",
       "                                                                                               '12 '\n",
       "                                                                                               'Years',\n",
       "                                                                                               'Some '\n",
       "                                                                                               'College',\n",
       "                                                                                               'College '\n",
       "                                                                                               'Graduate'],\n",
       "                                                                                              ['Below '...\n",
       "       'opinion_h1n1_sick_from_vacc', 'opinion_seas_vacc_effective',\n",
       "       'opinion_seas_risk', 'opinion_seas_sick_from_vacc', 'household_adults',\n",
       "       'household_children', 'sex_Female', 'sex_Male',\n",
       "       'marital_status_Married', 'marital_status_Not Married',\n",
       "       'rent_or_own_Own', 'rent_or_own_Rent'],\n",
       "      dtype='object'))])),\n",
       "                ('oversample', RandomOverSampler()),\n",
       "                ('model', LogisticRegression())])</pre></div></div></div><div class=\"sk-serial\"><div class=\"sk-item sk-dashed-wrapped\"><div class=\"sk-label-container\"><div class=\"sk-label sk-toggleable\"><input class=\"sk-toggleable__control sk-hidden--visually\" id=\"fc66a7d9-d822-40e8-a752-3afe35995f0c\" type=\"checkbox\" ><label class=\"sk-toggleable__label\" for=\"fc66a7d9-d822-40e8-a752-3afe35995f0c\">preprocess: ColumnTransformer</label><div class=\"sk-toggleable__content\"><pre>ColumnTransformer(transformers=[('ordinal_pipe',\n",
       "                                 Pipeline(steps=[('ordimputer',\n",
       "                                                  SimpleImputer(strategy='most_frequent')),\n",
       "                                                 ('ordenc',\n",
       "                                                  OrdinalEncoder(categories=[['18 '\n",
       "                                                                              '- '\n",
       "                                                                              '34 '\n",
       "                                                                              'Years',\n",
       "                                                                              '35 '\n",
       "                                                                              '- '\n",
       "                                                                              '44 '\n",
       "                                                                              'Years',\n",
       "                                                                              '45 '\n",
       "                                                                              '- '\n",
       "                                                                              '54 '\n",
       "                                                                              'Years',\n",
       "                                                                              '55 '\n",
       "                                                                              '- '\n",
       "                                                                              '64 '\n",
       "                                                                              'Years',\n",
       "                                                                              '65+ '\n",
       "                                                                              'Years'],\n",
       "                                                                             ['< '\n",
       "                                                                              '12 '\n",
       "                                                                              'Years',\n",
       "                                                                              '12 '\n",
       "                                                                              'Years',\n",
       "                                                                              'Some '\n",
       "                                                                              'College',\n",
       "                                                                              'College '\n",
       "                                                                              'Graduate'],\n",
       "                                                                             ['Below '\n",
       "                                                                              'Poverty',\n",
       "                                                                              '<= '\n",
       "                                                                              '$75,000, '\n",
       "                                                                              'Above...\n",
       "       'health_insurance', 'opinion_h1n1_vacc_effective', 'opinion_h1n1_risk',\n",
       "       'opinion_h1n1_sick_from_vacc', 'opinion_seas_vacc_effective',\n",
       "       'opinion_seas_risk', 'opinion_seas_sick_from_vacc', 'household_adults',\n",
       "       'household_children', 'sex_Female', 'sex_Male',\n",
       "       'marital_status_Married', 'marital_status_Not Married',\n",
       "       'rent_or_own_Own', 'rent_or_own_Rent'],\n",
       "      dtype='object'))])</pre></div></div></div><div class=\"sk-parallel\"><div class=\"sk-parallel-item\"><div class=\"sk-item\"><div class=\"sk-label-container\"><div class=\"sk-label sk-toggleable\"><input class=\"sk-toggleable__control sk-hidden--visually\" id=\"fc5a2f5e-1d99-492e-a71d-050cd6d36467\" type=\"checkbox\" ><label class=\"sk-toggleable__label\" for=\"fc5a2f5e-1d99-492e-a71d-050cd6d36467\">ordinal_pipe</label><div class=\"sk-toggleable__content\"><pre>['age_group', 'education', 'income_poverty']</pre></div></div></div><div class=\"sk-serial\"><div class=\"sk-item\"><div class=\"sk-serial\"><div class=\"sk-item\"><div class=\"sk-estimator sk-toggleable\"><input class=\"sk-toggleable__control sk-hidden--visually\" id=\"25eeb7a5-1b93-4aa1-af74-3a7b123b91ae\" type=\"checkbox\" ><label class=\"sk-toggleable__label\" for=\"25eeb7a5-1b93-4aa1-af74-3a7b123b91ae\">SimpleImputer</label><div class=\"sk-toggleable__content\"><pre>SimpleImputer(strategy='most_frequent')</pre></div></div></div><div class=\"sk-item\"><div class=\"sk-estimator sk-toggleable\"><input class=\"sk-toggleable__control sk-hidden--visually\" id=\"2bf091a0-bdd2-49b0-9ff0-1d6353af19f1\" type=\"checkbox\" ><label class=\"sk-toggleable__label\" for=\"2bf091a0-bdd2-49b0-9ff0-1d6353af19f1\">OrdinalEncoder</label><div class=\"sk-toggleable__content\"><pre>OrdinalEncoder(categories=[['18 - 34 Years', '35 - 44 Years', '45 - 54 Years',\n",
       "                            '55 - 64 Years', '65+ Years'],\n",
       "                           ['< 12 Years', '12 Years', 'Some College',\n",
       "                            'College Graduate'],\n",
       "                           ['Below Poverty', '<= $75,000, Above Poverty',\n",
       "                            '> $75,000']])</pre></div></div></div><div class=\"sk-item\"><div class=\"sk-estimator sk-toggleable\"><input class=\"sk-toggleable__control sk-hidden--visually\" id=\"bee31605-2992-47fe-a087-93f53d3bf6fd\" type=\"checkbox\" ><label class=\"sk-toggleable__label\" for=\"bee31605-2992-47fe-a087-93f53d3bf6fd\">StandardScaler</label><div class=\"sk-toggleable__content\"><pre>StandardScaler()</pre></div></div></div></div></div></div></div></div><div class=\"sk-parallel-item\"><div class=\"sk-item\"><div class=\"sk-label-container\"><div class=\"sk-label sk-toggleable\"><input class=\"sk-toggleable__control sk-hidden--visually\" id=\"e8ca6c58-f6a1-4bdd-a5fe-cf5c43e53935\" type=\"checkbox\" ><label class=\"sk-toggleable__label\" for=\"e8ca6c58-f6a1-4bdd-a5fe-cf5c43e53935\">nominal_pipe</label><div class=\"sk-toggleable__content\"><pre>['race', 'employment_status', 'census_msa']</pre></div></div></div><div class=\"sk-serial\"><div class=\"sk-item\"><div class=\"sk-serial\"><div class=\"sk-item\"><div class=\"sk-estimator sk-toggleable\"><input class=\"sk-toggleable__control sk-hidden--visually\" id=\"79ad64bc-15df-442e-ae7e-d864c4cd810e\" type=\"checkbox\" ><label class=\"sk-toggleable__label\" for=\"79ad64bc-15df-442e-ae7e-d864c4cd810e\">SimpleImputer</label><div class=\"sk-toggleable__content\"><pre>SimpleImputer(strategy='most_frequent')</pre></div></div></div><div class=\"sk-item\"><div class=\"sk-estimator sk-toggleable\"><input class=\"sk-toggleable__control sk-hidden--visually\" id=\"f45d5a28-e8a9-497e-a2cb-37c4271521b1\" type=\"checkbox\" ><label class=\"sk-toggleable__label\" for=\"f45d5a28-e8a9-497e-a2cb-37c4271521b1\">OneHotEncoder</label><div class=\"sk-toggleable__content\"><pre>OneHotEncoder(sparse=False)</pre></div></div></div><div class=\"sk-item\"><div class=\"sk-estimator sk-toggleable\"><input class=\"sk-toggleable__control sk-hidden--visually\" id=\"388758df-16dd-44aa-971f-edead6d4f465\" type=\"checkbox\" ><label class=\"sk-toggleable__label\" for=\"388758df-16dd-44aa-971f-edead6d4f465\">MaxAbsScaler</label><div class=\"sk-toggleable__content\"><pre>MaxAbsScaler()</pre></div></div></div></div></div></div></div></div><div class=\"sk-parallel-item\"><div class=\"sk-item\"><div class=\"sk-label-container\"><div class=\"sk-label sk-toggleable\"><input class=\"sk-toggleable__control sk-hidden--visually\" id=\"5dccf793-66d8-4d0c-abcf-cf978de34e85\" type=\"checkbox\" ><label class=\"sk-toggleable__label\" for=\"5dccf793-66d8-4d0c-abcf-cf978de34e85\">num_pipe</label><div class=\"sk-toggleable__content\"><pre>Index(['h1n1_concern', 'h1n1_knowledge', 'behavioral_antiviral_meds',\n",
       "       'behavioral_avoidance', 'behavioral_face_mask', 'behavioral_wash_hands',\n",
       "       'behavioral_large_gatherings', 'behavioral_outside_home',\n",
       "       'behavioral_touch_face', 'doctor_recc_h1n1', 'doctor_recc_seasonal',\n",
       "       'chronic_med_condition', 'child_under_6_months', 'health_worker',\n",
       "       'health_insurance', 'opinion_h1n1_vacc_effective', 'opinion_h1n1_risk',\n",
       "       'opinion_h1n1_sick_from_vacc', 'opinion_seas_vacc_effective',\n",
       "       'opinion_seas_risk', 'opinion_seas_sick_from_vacc', 'household_adults',\n",
       "       'household_children', 'sex_Female', 'sex_Male',\n",
       "       'marital_status_Married', 'marital_status_Not Married',\n",
       "       'rent_or_own_Own', 'rent_or_own_Rent'],\n",
       "      dtype='object')</pre></div></div></div><div class=\"sk-serial\"><div class=\"sk-item\"><div class=\"sk-serial\"><div class=\"sk-item\"><div class=\"sk-estimator sk-toggleable\"><input class=\"sk-toggleable__control sk-hidden--visually\" id=\"f4eb41c6-09ec-4b49-8b7b-79f36dc17583\" type=\"checkbox\" ><label class=\"sk-toggleable__label\" for=\"f4eb41c6-09ec-4b49-8b7b-79f36dc17583\">SimpleImputer</label><div class=\"sk-toggleable__content\"><pre>SimpleImputer()</pre></div></div></div><div class=\"sk-item\"><div class=\"sk-estimator sk-toggleable\"><input class=\"sk-toggleable__control sk-hidden--visually\" id=\"2b774776-9261-4b0b-ac28-79bcabfad43d\" type=\"checkbox\" ><label class=\"sk-toggleable__label\" for=\"2b774776-9261-4b0b-ac28-79bcabfad43d\">StandardScaler</label><div class=\"sk-toggleable__content\"><pre>StandardScaler()</pre></div></div></div></div></div></div></div></div></div></div><div class=\"sk-item\"><div class=\"sk-estimator sk-toggleable\"><input class=\"sk-toggleable__control sk-hidden--visually\" id=\"b0cf30d8-66e6-405a-8751-afd1d5cd67e7\" type=\"checkbox\" ><label class=\"sk-toggleable__label\" for=\"b0cf30d8-66e6-405a-8751-afd1d5cd67e7\">RandomOverSampler</label><div class=\"sk-toggleable__content\"><pre>RandomOverSampler()</pre></div></div></div><div class=\"sk-item\"><div class=\"sk-estimator sk-toggleable\"><input class=\"sk-toggleable__control sk-hidden--visually\" id=\"066fdc48-80db-47dc-b7de-92f9c2bf21d2\" type=\"checkbox\" ><label class=\"sk-toggleable__label\" for=\"066fdc48-80db-47dc-b7de-92f9c2bf21d2\">LogisticRegression</label><div class=\"sk-toggleable__content\"><pre>LogisticRegression()</pre></div></div></div></div></div></div></div>"
      ],
      "text/plain": [
       "Pipeline(steps=[('preprocess',\n",
       "                 ColumnTransformer(transformers=[('ordinal_pipe',\n",
       "                                                  Pipeline(steps=[('ordimputer',\n",
       "                                                                   SimpleImputer(strategy='most_frequent')),\n",
       "                                                                  ('ordenc',\n",
       "                                                                   OrdinalEncoder(categories=[['18 '\n",
       "                                                                                               '- '\n",
       "                                                                                               '34 '\n",
       "                                                                                               'Years',\n",
       "                                                                                               '35 '\n",
       "                                                                                               '- '\n",
       "                                                                                               '44 '\n",
       "                                                                                               'Years',\n",
       "                                                                                               '45 '\n",
       "                                                                                               '- '\n",
       "                                                                                               '54 '\n",
       "                                                                                               'Years',\n",
       "                                                                                               '55 '\n",
       "                                                                                               '- '\n",
       "                                                                                               '64 '\n",
       "                                                                                               'Years',\n",
       "                                                                                               '65+ '\n",
       "                                                                                               'Years'],\n",
       "                                                                                              ['< '\n",
       "                                                                                               '12 '\n",
       "                                                                                               'Years',\n",
       "                                                                                               '12 '\n",
       "                                                                                               'Years',\n",
       "                                                                                               'Some '\n",
       "                                                                                               'College',\n",
       "                                                                                               'College '\n",
       "                                                                                               'Graduate'],\n",
       "                                                                                              ['Below '...\n",
       "       'opinion_h1n1_sick_from_vacc', 'opinion_seas_vacc_effective',\n",
       "       'opinion_seas_risk', 'opinion_seas_sick_from_vacc', 'household_adults',\n",
       "       'household_children', 'sex_Female', 'sex_Male',\n",
       "       'marital_status_Married', 'marital_status_Not Married',\n",
       "       'rent_or_own_Own', 'rent_or_own_Rent'],\n",
       "      dtype='object'))])),\n",
       "                ('oversample', RandomOverSampler()),\n",
       "                ('model', LogisticRegression())])"
      ]
     },
     "execution_count": 26,
     "metadata": {},
     "output_type": "execute_result"
    }
   ],
   "source": [
    "pipeline_3.fit(X_train, y_train)"
   ]
  },
  {
   "cell_type": "code",
   "execution_count": 27,
   "metadata": {},
   "outputs": [],
   "source": [
    "y_pred3 = pipeline_3.predict(X_test)"
   ]
  },
  {
   "cell_type": "code",
   "execution_count": 28,
   "metadata": {},
   "outputs": [
    {
     "data": {
      "text/plain": [
       "<sklearn.metrics._plot.confusion_matrix.ConfusionMatrixDisplay at 0x183b919e070>"
      ]
     },
     "execution_count": 28,
     "metadata": {},
     "output_type": "execute_result"
    },
    {
     "data": {
      "image/png": "[encoded data removed]",
      "text/plain": [
       "<Figure size 432x288 with 2 Axes>"
      ]
     },
     "metadata": {
      "needs_background": "light"
     },
     "output_type": "display_data"
    }
   ],
   "source": [
    "plot_confusion_matrix(pipeline_3, X_test,y_test)"
   ]
  },
  {
   "cell_type": "code",
   "execution_count": 29,
   "metadata": {},
   "outputs": [
    {
     "name": "stdout",
     "output_type": "stream",
     "text": [
      "              precision    recall  f1-score   support\n",
      "\n",
      "           0       0.91      0.78      0.84      6311\n",
      "           1       0.47      0.73      0.57      1702\n",
      "\n",
      "    accuracy                           0.77      8013\n",
      "   macro avg       0.69      0.75      0.71      8013\n",
      "weighted avg       0.82      0.77      0.79      8013\n",
      "\n"
     ]
    }
   ],
   "source": [
    "print(classification_report(y_test, y_pred3))"
   ]
  },
  {
   "cell_type": "code",
   "execution_count": 30,
   "metadata": {},
   "outputs": [
    {
     "data": {
      "text/plain": [
       "<sklearn.metrics._plot.roc_curve.RocCurveDisplay at 0x183bebbf4f0>"
      ]
     },
     "execution_count": 30,
     "metadata": {},
     "output_type": "execute_result"
    },
    {
     "data": {
      "image/png": "[encoded data removed]",
      "text/plain": [
       "<Figure size 432x288 with 1 Axes>"
      ]
     },
     "metadata": {
      "needs_background": "light"
     },
     "output_type": "display_data"
    }
   ],
   "source": [
    "plot_roc_curve(pipeline_3, X_test, y_test)"
   ]
  },
  {
   "cell_type": "markdown",
   "metadata": {},
   "source": [
    "## Model 4 - Logistic Regression + Undersampling"
   ]
  },
  {
   "cell_type": "code",
   "execution_count": 31,
   "metadata": {},
   "outputs": [],
   "source": [
    "undersample = RandomUnderSampler()"
   ]
  },
  {
   "cell_type": "code",
   "execution_count": 32,
   "metadata": {},
   "outputs": [],
   "source": [
    "pipeline_4 = Pipeline([(\"preprocess\",ct),\n",
    "                       (\"undersample\",undersample),\n",
    "                       (\"model\",LogisticRegression())])"
   ]
  },
  {
   "cell_type": "code",
   "execution_count": 33,
   "metadata": {},
   "outputs": [
    {
     "data": {
      "text/html": [
       "<style>div.sk-top-container {color: black;background-color: white;}div.sk-toggleable {background-color: white;}label.sk-toggleable__label {cursor: pointer;display: block;width: 100%;margin-bottom: 0;padding: 0.2em 0.3em;box-sizing: border-box;text-align: center;}div.sk-toggleable__content {max-height: 0;max-width: 0;overflow: hidden;text-align: left;background-color: #f0f8ff;}div.sk-toggleable__content pre {margin: 0.2em;color: black;border-radius: 0.25em;background-color: #f0f8ff;}input.sk-toggleable__control:checked~div.sk-toggleable__content {max-height: 200px;max-width: 100%;overflow: auto;}div.sk-estimator input.sk-toggleable__control:checked~label.sk-toggleable__label {background-color: #d4ebff;}div.sk-label input.sk-toggleable__control:checked~label.sk-toggleable__label {background-color: #d4ebff;}input.sk-hidden--visually {border: 0;clip: rect(1px 1px 1px 1px);clip: rect(1px, 1px, 1px, 1px);height: 1px;margin: -1px;overflow: hidden;padding: 0;position: absolute;width: 1px;}div.sk-estimator {font-family: monospace;background-color: #f0f8ff;margin: 0.25em 0.25em;border: 1px dotted black;border-radius: 0.25em;box-sizing: border-box;}div.sk-estimator:hover {background-color: #d4ebff;}div.sk-parallel-item::after {content: \"\";width: 100%;border-bottom: 1px solid gray;flex-grow: 1;}div.sk-label:hover label.sk-toggleable__label {background-color: #d4ebff;}div.sk-serial::before {content: \"\";position: absolute;border-left: 1px solid gray;box-sizing: border-box;top: 2em;bottom: 0;left: 50%;}div.sk-serial {display: flex;flex-direction: column;align-items: center;background-color: white;}div.sk-item {z-index: 1;}div.sk-parallel {display: flex;align-items: stretch;justify-content: center;background-color: white;}div.sk-parallel-item {display: flex;flex-direction: column;position: relative;background-color: white;}div.sk-parallel-item:first-child::after {align-self: flex-end;width: 50%;}div.sk-parallel-item:last-child::after {align-self: flex-start;width: 50%;}div.sk-parallel-item:only-child::after {width: 0;}div.sk-dashed-wrapped {border: 1px dashed gray;margin: 0.2em;box-sizing: border-box;padding-bottom: 0.1em;background-color: white;position: relative;}div.sk-label label {font-family: monospace;font-weight: bold;background-color: white;display: inline-block;line-height: 1.2em;}div.sk-label-container {position: relative;z-index: 2;text-align: center;}div.sk-container {display: inline-block;position: relative;}</style><div class=\"sk-top-container\"><div class=\"sk-container\"><div class=\"sk-item sk-dashed-wrapped\"><div class=\"sk-label-container\"><div class=\"sk-label sk-toggleable\"><input class=\"sk-toggleable__control sk-hidden--visually\" id=\"90953267-d0f1-41ba-829d-907abefdc20b\" type=\"checkbox\" ><label class=\"sk-toggleable__label\" for=\"90953267-d0f1-41ba-829d-907abefdc20b\">Pipeline</label><div class=\"sk-toggleable__content\"><pre>Pipeline(steps=[('preprocess',\n",
       "                 ColumnTransformer(transformers=[('ordinal_pipe',\n",
       "                                                  Pipeline(steps=[('ordimputer',\n",
       "                                                                   SimpleImputer(strategy='most_frequent')),\n",
       "                                                                  ('ordenc',\n",
       "                                                                   OrdinalEncoder(categories=[['18 '\n",
       "                                                                                               '- '\n",
       "                                                                                               '34 '\n",
       "                                                                                               'Years',\n",
       "                                                                                               '35 '\n",
       "                                                                                               '- '\n",
       "                                                                                               '44 '\n",
       "                                                                                               'Years',\n",
       "                                                                                               '45 '\n",
       "                                                                                               '- '\n",
       "                                                                                               '54 '\n",
       "                                                                                               'Years',\n",
       "                                                                                               '55 '\n",
       "                                                                                               '- '\n",
       "                                                                                               '64 '\n",
       "                                                                                               'Years',\n",
       "                                                                                               '65+ '\n",
       "                                                                                               'Years'],\n",
       "                                                                                              ['< '\n",
       "                                                                                               '12 '\n",
       "                                                                                               'Years',\n",
       "                                                                                               '12 '\n",
       "                                                                                               'Years',\n",
       "                                                                                               'Some '\n",
       "                                                                                               'College',\n",
       "                                                                                               'College '\n",
       "                                                                                               'Graduate'],\n",
       "                                                                                              ['Below '...\n",
       "       'opinion_h1n1_sick_from_vacc', 'opinion_seas_vacc_effective',\n",
       "       'opinion_seas_risk', 'opinion_seas_sick_from_vacc', 'household_adults',\n",
       "       'household_children', 'sex_Female', 'sex_Male',\n",
       "       'marital_status_Married', 'marital_status_Not Married',\n",
       "       'rent_or_own_Own', 'rent_or_own_Rent'],\n",
       "      dtype='object'))])),\n",
       "                ('undersample', RandomUnderSampler()),\n",
       "                ('model', LogisticRegression())])</pre></div></div></div><div class=\"sk-serial\"><div class=\"sk-item sk-dashed-wrapped\"><div class=\"sk-label-container\"><div class=\"sk-label sk-toggleable\"><input class=\"sk-toggleable__control sk-hidden--visually\" id=\"bcce4aca-6a8d-496f-a162-256d9e058593\" type=\"checkbox\" ><label class=\"sk-toggleable__label\" for=\"bcce4aca-6a8d-496f-a162-256d9e058593\">preprocess: ColumnTransformer</label><div class=\"sk-toggleable__content\"><pre>ColumnTransformer(transformers=[('ordinal_pipe',\n",
       "                                 Pipeline(steps=[('ordimputer',\n",
       "                                                  SimpleImputer(strategy='most_frequent')),\n",
       "                                                 ('ordenc',\n",
       "                                                  OrdinalEncoder(categories=[['18 '\n",
       "                                                                              '- '\n",
       "                                                                              '34 '\n",
       "                                                                              'Years',\n",
       "                                                                              '35 '\n",
       "                                                                              '- '\n",
       "                                                                              '44 '\n",
       "                                                                              'Years',\n",
       "                                                                              '45 '\n",
       "                                                                              '- '\n",
       "                                                                              '54 '\n",
       "                                                                              'Years',\n",
       "                                                                              '55 '\n",
       "                                                                              '- '\n",
       "                                                                              '64 '\n",
       "                                                                              'Years',\n",
       "                                                                              '65+ '\n",
       "                                                                              'Years'],\n",
       "                                                                             ['< '\n",
       "                                                                              '12 '\n",
       "                                                                              'Years',\n",
       "                                                                              '12 '\n",
       "                                                                              'Years',\n",
       "                                                                              'Some '\n",
       "                                                                              'College',\n",
       "                                                                              'College '\n",
       "                                                                              'Graduate'],\n",
       "                                                                             ['Below '\n",
       "                                                                              'Poverty',\n",
       "                                                                              '<= '\n",
       "                                                                              '$75,000, '\n",
       "                                                                              'Above...\n",
       "       'health_insurance', 'opinion_h1n1_vacc_effective', 'opinion_h1n1_risk',\n",
       "       'opinion_h1n1_sick_from_vacc', 'opinion_seas_vacc_effective',\n",
       "       'opinion_seas_risk', 'opinion_seas_sick_from_vacc', 'household_adults',\n",
       "       'household_children', 'sex_Female', 'sex_Male',\n",
       "       'marital_status_Married', 'marital_status_Not Married',\n",
       "       'rent_or_own_Own', 'rent_or_own_Rent'],\n",
       "      dtype='object'))])</pre></div></div></div><div class=\"sk-parallel\"><div class=\"sk-parallel-item\"><div class=\"sk-item\"><div class=\"sk-label-container\"><div class=\"sk-label sk-toggleable\"><input class=\"sk-toggleable__control sk-hidden--visually\" id=\"f57e1669-1e6c-4ce1-bb78-13cd7d837629\" type=\"checkbox\" ><label class=\"sk-toggleable__label\" for=\"f57e1669-1e6c-4ce1-bb78-13cd7d837629\">ordinal_pipe</label><div class=\"sk-toggleable__content\"><pre>['age_group', 'education', 'income_poverty']</pre></div></div></div><div class=\"sk-serial\"><div class=\"sk-item\"><div class=\"sk-serial\"><div class=\"sk-item\"><div class=\"sk-estimator sk-toggleable\"><input class=\"sk-toggleable__control sk-hidden--visually\" id=\"ade9b2ea-2172-43da-a820-9f92d7f530da\" type=\"checkbox\" ><label class=\"sk-toggleable__label\" for=\"ade9b2ea-2172-43da-a820-9f92d7f530da\">SimpleImputer</label><div class=\"sk-toggleable__content\"><pre>SimpleImputer(strategy='most_frequent')</pre></div></div></div><div class=\"sk-item\"><div class=\"sk-estimator sk-toggleable\"><input class=\"sk-toggleable__control sk-hidden--visually\" id=\"c44b181f-9cc3-4434-9922-bef97ac2e6d5\" type=\"checkbox\" ><label class=\"sk-toggleable__label\" for=\"c44b181f-9cc3-4434-9922-bef97ac2e6d5\">OrdinalEncoder</label><div class=\"sk-toggleable__content\"><pre>OrdinalEncoder(categories=[['18 - 34 Years', '35 - 44 Years', '45 - 54 Years',\n",
       "                            '55 - 64 Years', '65+ Years'],\n",
       "                           ['< 12 Years', '12 Years', 'Some College',\n",
       "                            'College Graduate'],\n",
       "                           ['Below Poverty', '<= $75,000, Above Poverty',\n",
       "                            '> $75,000']])</pre></div></div></div><div class=\"sk-item\"><div class=\"sk-estimator sk-toggleable\"><input class=\"sk-toggleable__control sk-hidden--visually\" id=\"9e9d43e7-35e7-4211-a337-291bf6cec116\" type=\"checkbox\" ><label class=\"sk-toggleable__label\" for=\"9e9d43e7-35e7-4211-a337-291bf6cec116\">StandardScaler</label><div class=\"sk-toggleable__content\"><pre>StandardScaler()</pre></div></div></div></div></div></div></div></div><div class=\"sk-parallel-item\"><div class=\"sk-item\"><div class=\"sk-label-container\"><div class=\"sk-label sk-toggleable\"><input class=\"sk-toggleable__control sk-hidden--visually\" id=\"31d0e00e-d9ff-4fcc-9520-5bf28b6d8490\" type=\"checkbox\" ><label class=\"sk-toggleable__label\" for=\"31d0e00e-d9ff-4fcc-9520-5bf28b6d8490\">nominal_pipe</label><div class=\"sk-toggleable__content\"><pre>['race', 'employment_status', 'census_msa']</pre></div></div></div><div class=\"sk-serial\"><div class=\"sk-item\"><div class=\"sk-serial\"><div class=\"sk-item\"><div class=\"sk-estimator sk-toggleable\"><input class=\"sk-toggleable__control sk-hidden--visually\" id=\"d98f3ee0-c9a4-4d86-94eb-3c2a6641074f\" type=\"checkbox\" ><label class=\"sk-toggleable__label\" for=\"d98f3ee0-c9a4-4d86-94eb-3c2a6641074f\">SimpleImputer</label><div class=\"sk-toggleable__content\"><pre>SimpleImputer(strategy='most_frequent')</pre></div></div></div><div class=\"sk-item\"><div class=\"sk-estimator sk-toggleable\"><input class=\"sk-toggleable__control sk-hidden--visually\" id=\"3f20ccb6-d162-456e-bbf0-a2e06d97c92e\" type=\"checkbox\" ><label class=\"sk-toggleable__label\" for=\"3f20ccb6-d162-456e-bbf0-a2e06d97c92e\">OneHotEncoder</label><div class=\"sk-toggleable__content\"><pre>OneHotEncoder(sparse=False)</pre></div></div></div><div class=\"sk-item\"><div class=\"sk-estimator sk-toggleable\"><input class=\"sk-toggleable__control sk-hidden--visually\" id=\"b2016f7a-81b5-4df2-8782-cfd4c4ece317\" type=\"checkbox\" ><label class=\"sk-toggleable__label\" for=\"b2016f7a-81b5-4df2-8782-cfd4c4ece317\">MaxAbsScaler</label><div class=\"sk-toggleable__content\"><pre>MaxAbsScaler()</pre></div></div></div></div></div></div></div></div><div class=\"sk-parallel-item\"><div class=\"sk-item\"><div class=\"sk-label-container\"><div class=\"sk-label sk-toggleable\"><input class=\"sk-toggleable__control sk-hidden--visually\" id=\"10cb1fb8-03aa-4d72-a81b-1c462b6de9e5\" type=\"checkbox\" ><label class=\"sk-toggleable__label\" for=\"10cb1fb8-03aa-4d72-a81b-1c462b6de9e5\">num_pipe</label><div class=\"sk-toggleable__content\"><pre>Index(['h1n1_concern', 'h1n1_knowledge', 'behavioral_antiviral_meds',\n",
       "       'behavioral_avoidance', 'behavioral_face_mask', 'behavioral_wash_hands',\n",
       "       'behavioral_large_gatherings', 'behavioral_outside_home',\n",
       "       'behavioral_touch_face', 'doctor_recc_h1n1', 'doctor_recc_seasonal',\n",
       "       'chronic_med_condition', 'child_under_6_months', 'health_worker',\n",
       "       'health_insurance', 'opinion_h1n1_vacc_effective', 'opinion_h1n1_risk',\n",
       "       'opinion_h1n1_sick_from_vacc', 'opinion_seas_vacc_effective',\n",
       "       'opinion_seas_risk', 'opinion_seas_sick_from_vacc', 'household_adults',\n",
       "       'household_children', 'sex_Female', 'sex_Male',\n",
       "       'marital_status_Married', 'marital_status_Not Married',\n",
       "       'rent_or_own_Own', 'rent_or_own_Rent'],\n",
       "      dtype='object')</pre></div></div></div><div class=\"sk-serial\"><div class=\"sk-item\"><div class=\"sk-serial\"><div class=\"sk-item\"><div class=\"sk-estimator sk-toggleable\"><input class=\"sk-toggleable__control sk-hidden--visually\" id=\"6f2f5702-c90b-4573-83f0-a4cab6354595\" type=\"checkbox\" ><label class=\"sk-toggleable__label\" for=\"6f2f5702-c90b-4573-83f0-a4cab6354595\">SimpleImputer</label><div class=\"sk-toggleable__content\"><pre>SimpleImputer()</pre></div></div></div><div class=\"sk-item\"><div class=\"sk-estimator sk-toggleable\"><input class=\"sk-toggleable__control sk-hidden--visually\" id=\"10d32cf4-5f30-45de-b687-6ba19f864a5f\" type=\"checkbox\" ><label class=\"sk-toggleable__label\" for=\"10d32cf4-5f30-45de-b687-6ba19f864a5f\">StandardScaler</label><div class=\"sk-toggleable__content\"><pre>StandardScaler()</pre></div></div></div></div></div></div></div></div></div></div><div class=\"sk-item\"><div class=\"sk-estimator sk-toggleable\"><input class=\"sk-toggleable__control sk-hidden--visually\" id=\"00b97232-4954-4644-b0de-f9c39af24f3e\" type=\"checkbox\" ><label class=\"sk-toggleable__label\" for=\"00b97232-4954-4644-b0de-f9c39af24f3e\">RandomUnderSampler</label><div class=\"sk-toggleable__content\"><pre>RandomUnderSampler()</pre></div></div></div><div class=\"sk-item\"><div class=\"sk-estimator sk-toggleable\"><input class=\"sk-toggleable__control sk-hidden--visually\" id=\"051a6cbe-aa44-45ed-9ea0-e36625022988\" type=\"checkbox\" ><label class=\"sk-toggleable__label\" for=\"051a6cbe-aa44-45ed-9ea0-e36625022988\">LogisticRegression</label><div class=\"sk-toggleable__content\"><pre>LogisticRegression()</pre></div></div></div></div></div></div></div>"
      ],
      "text/plain": [
       "Pipeline(steps=[('preprocess',\n",
       "                 ColumnTransformer(transformers=[('ordinal_pipe',\n",
       "                                                  Pipeline(steps=[('ordimputer',\n",
       "                                                                   SimpleImputer(strategy='most_frequent')),\n",
       "                                                                  ('ordenc',\n",
       "                                                                   OrdinalEncoder(categories=[['18 '\n",
       "                                                                                               '- '\n",
       "                                                                                               '34 '\n",
       "                                                                                               'Years',\n",
       "                                                                                               '35 '\n",
       "                                                                                               '- '\n",
       "                                                                                               '44 '\n",
       "                                                                                               'Years',\n",
       "                                                                                               '45 '\n",
       "                                                                                               '- '\n",
       "                                                                                               '54 '\n",
       "                                                                                               'Years',\n",
       "                                                                                               '55 '\n",
       "                                                                                               '- '\n",
       "                                                                                               '64 '\n",
       "                                                                                               'Years',\n",
       "                                                                                               '65+ '\n",
       "                                                                                               'Years'],\n",
       "                                                                                              ['< '\n",
       "                                                                                               '12 '\n",
       "                                                                                               'Years',\n",
       "                                                                                               '12 '\n",
       "                                                                                               'Years',\n",
       "                                                                                               'Some '\n",
       "                                                                                               'College',\n",
       "                                                                                               'College '\n",
       "                                                                                               'Graduate'],\n",
       "                                                                                              ['Below '...\n",
       "       'opinion_h1n1_sick_from_vacc', 'opinion_seas_vacc_effective',\n",
       "       'opinion_seas_risk', 'opinion_seas_sick_from_vacc', 'household_adults',\n",
       "       'household_children', 'sex_Female', 'sex_Male',\n",
       "       'marital_status_Married', 'marital_status_Not Married',\n",
       "       'rent_or_own_Own', 'rent_or_own_Rent'],\n",
       "      dtype='object'))])),\n",
       "                ('undersample', RandomUnderSampler()),\n",
       "                ('model', LogisticRegression())])"
      ]
     },
     "execution_count": 33,
     "metadata": {},
     "output_type": "execute_result"
    }
   ],
   "source": [
    "pipeline_4.fit(X_train, y_train)"
   ]
  },
  {
   "cell_type": "code",
   "execution_count": 34,
   "metadata": {},
   "outputs": [],
   "source": [
    "y_pred4 = pipeline_4.predict(X_test)"
   ]
  },
  {
   "cell_type": "code",
   "execution_count": 35,
   "metadata": {},
   "outputs": [
    {
     "data": {
      "text/plain": [
       "<sklearn.metrics._plot.confusion_matrix.ConfusionMatrixDisplay at 0x183b9723910>"
      ]
     },
     "execution_count": 35,
     "metadata": {},
     "output_type": "execute_result"
    },
    {
     "data": {
      "image/png": "[encoded data removed]",
      "text/plain": [
       "<Figure size 432x288 with 2 Axes>"
      ]
     },
     "metadata": {
      "needs_background": "light"
     },
     "output_type": "display_data"
    }
   ],
   "source": [
    "plot_confusion_matrix(pipeline_4, X_test,y_test)"
   ]
  },
  {
   "cell_type": "code",
   "execution_count": 36,
   "metadata": {},
   "outputs": [
    {
     "name": "stdout",
     "output_type": "stream",
     "text": [
      "              precision    recall  f1-score   support\n",
      "\n",
      "           0       0.91      0.78      0.84      6311\n",
      "           1       0.47      0.73      0.57      1702\n",
      "\n",
      "    accuracy                           0.77      8013\n",
      "   macro avg       0.69      0.75      0.71      8013\n",
      "weighted avg       0.82      0.77      0.79      8013\n",
      "\n"
     ]
    }
   ],
   "source": [
    "print(classification_report(y_test, y_pred4))"
   ]
  },
  {
   "cell_type": "code",
   "execution_count": 37,
   "metadata": {},
   "outputs": [
    {
     "data": {
      "text/plain": [
       "<sklearn.metrics._plot.roc_curve.RocCurveDisplay at 0x183bebd8a00>"
      ]
     },
     "execution_count": 37,
     "metadata": {},
     "output_type": "execute_result"
    },
    {
     "data": {
      "image/png": "[encoded data removed]",
      "text/plain": [
       "<Figure size 432x288 with 1 Axes>"
      ]
     },
     "metadata": {
      "needs_background": "light"
     },
     "output_type": "display_data"
    }
   ],
   "source": [
    "plot_roc_curve(pipeline_4, X_test, y_test)"
   ]
  },
  {
   "cell_type": "markdown",
   "metadata": {},
   "source": [
    "## Model 5 - Random Forest Classifier"
   ]
  },
  {
   "cell_type": "code",
   "execution_count": 38,
   "metadata": {},
   "outputs": [],
   "source": [
    "pipeline_5 = Pipeline([(\"preprocess\",ct),\n",
    "                       (\"smote\",smt),\n",
    "                       (\"model\",RandomForestClassifier(n_estimators = 100,max_depth=10))])"
   ]
  },
  {
   "cell_type": "code",
   "execution_count": 39,
   "metadata": {},
   "outputs": [
    {
     "data": {
      "text/html": [
       "<style>div.sk-top-container {color: black;background-color: white;}div.sk-toggleable {background-color: white;}label.sk-toggleable__label {cursor: pointer;display: block;width: 100%;margin-bottom: 0;padding: 0.2em 0.3em;box-sizing: border-box;text-align: center;}div.sk-toggleable__content {max-height: 0;max-width: 0;overflow: hidden;text-align: left;background-color: #f0f8ff;}div.sk-toggleable__content pre {margin: 0.2em;color: black;border-radius: 0.25em;background-color: #f0f8ff;}input.sk-toggleable__control:checked~div.sk-toggleable__content {max-height: 200px;max-width: 100%;overflow: auto;}div.sk-estimator input.sk-toggleable__control:checked~label.sk-toggleable__label {background-color: #d4ebff;}div.sk-label input.sk-toggleable__control:checked~label.sk-toggleable__label {background-color: #d4ebff;}input.sk-hidden--visually {border: 0;clip: rect(1px 1px 1px 1px);clip: rect(1px, 1px, 1px, 1px);height: 1px;margin: -1px;overflow: hidden;padding: 0;position: absolute;width: 1px;}div.sk-estimator {font-family: monospace;background-color: #f0f8ff;margin: 0.25em 0.25em;border: 1px dotted black;border-radius: 0.25em;box-sizing: border-box;}div.sk-estimator:hover {background-color: #d4ebff;}div.sk-parallel-item::after {content: \"\";width: 100%;border-bottom: 1px solid gray;flex-grow: 1;}div.sk-label:hover label.sk-toggleable__label {background-color: #d4ebff;}div.sk-serial::before {content: \"\";position: absolute;border-left: 1px solid gray;box-sizing: border-box;top: 2em;bottom: 0;left: 50%;}div.sk-serial {display: flex;flex-direction: column;align-items: center;background-color: white;}div.sk-item {z-index: 1;}div.sk-parallel {display: flex;align-items: stretch;justify-content: center;background-color: white;}div.sk-parallel-item {display: flex;flex-direction: column;position: relative;background-color: white;}div.sk-parallel-item:first-child::after {align-self: flex-end;width: 50%;}div.sk-parallel-item:last-child::after {align-self: flex-start;width: 50%;}div.sk-parallel-item:only-child::after {width: 0;}div.sk-dashed-wrapped {border: 1px dashed gray;margin: 0.2em;box-sizing: border-box;padding-bottom: 0.1em;background-color: white;position: relative;}div.sk-label label {font-family: monospace;font-weight: bold;background-color: white;display: inline-block;line-height: 1.2em;}div.sk-label-container {position: relative;z-index: 2;text-align: center;}div.sk-container {display: inline-block;position: relative;}</style><div class=\"sk-top-container\"><div class=\"sk-container\"><div class=\"sk-item sk-dashed-wrapped\"><div class=\"sk-label-container\"><div class=\"sk-label sk-toggleable\"><input class=\"sk-toggleable__control sk-hidden--visually\" id=\"dabafb1f-5bda-4960-90a1-e3973af52332\" type=\"checkbox\" ><label class=\"sk-toggleable__label\" for=\"dabafb1f-5bda-4960-90a1-e3973af52332\">Pipeline</label><div class=\"sk-toggleable__content\"><pre>Pipeline(steps=[('preprocess',\n",
       "                 ColumnTransformer(transformers=[('ordinal_pipe',\n",
       "                                                  Pipeline(steps=[('ordimputer',\n",
       "                                                                   SimpleImputer(strategy='most_frequent')),\n",
       "                                                                  ('ordenc',\n",
       "                                                                   OrdinalEncoder(categories=[['18 '\n",
       "                                                                                               '- '\n",
       "                                                                                               '34 '\n",
       "                                                                                               'Years',\n",
       "                                                                                               '35 '\n",
       "                                                                                               '- '\n",
       "                                                                                               '44 '\n",
       "                                                                                               'Years',\n",
       "                                                                                               '45 '\n",
       "                                                                                               '- '\n",
       "                                                                                               '54 '\n",
       "                                                                                               'Years',\n",
       "                                                                                               '55 '\n",
       "                                                                                               '- '\n",
       "                                                                                               '64 '\n",
       "                                                                                               'Years',\n",
       "                                                                                               '65+ '\n",
       "                                                                                               'Years'],\n",
       "                                                                                              ['< '\n",
       "                                                                                               '12 '\n",
       "                                                                                               'Years',\n",
       "                                                                                               '12 '\n",
       "                                                                                               'Years',\n",
       "                                                                                               'Some '\n",
       "                                                                                               'College',\n",
       "                                                                                               'College '\n",
       "                                                                                               'Graduate'],\n",
       "                                                                                              ['Below '...\n",
       "       'opinion_h1n1_sick_from_vacc', 'opinion_seas_vacc_effective',\n",
       "       'opinion_seas_risk', 'opinion_seas_sick_from_vacc', 'household_adults',\n",
       "       'household_children', 'sex_Female', 'sex_Male',\n",
       "       'marital_status_Married', 'marital_status_Not Married',\n",
       "       'rent_or_own_Own', 'rent_or_own_Rent'],\n",
       "      dtype='object'))])),\n",
       "                ('smote', SMOTE()),\n",
       "                ('model', RandomForestClassifier(max_depth=10))])</pre></div></div></div><div class=\"sk-serial\"><div class=\"sk-item sk-dashed-wrapped\"><div class=\"sk-label-container\"><div class=\"sk-label sk-toggleable\"><input class=\"sk-toggleable__control sk-hidden--visually\" id=\"e8e3a547-c53d-4ac5-8cd4-55f997da3b4f\" type=\"checkbox\" ><label class=\"sk-toggleable__label\" for=\"e8e3a547-c53d-4ac5-8cd4-55f997da3b4f\">preprocess: ColumnTransformer</label><div class=\"sk-toggleable__content\"><pre>ColumnTransformer(transformers=[('ordinal_pipe',\n",
       "                                 Pipeline(steps=[('ordimputer',\n",
       "                                                  SimpleImputer(strategy='most_frequent')),\n",
       "                                                 ('ordenc',\n",
       "                                                  OrdinalEncoder(categories=[['18 '\n",
       "                                                                              '- '\n",
       "                                                                              '34 '\n",
       "                                                                              'Years',\n",
       "                                                                              '35 '\n",
       "                                                                              '- '\n",
       "                                                                              '44 '\n",
       "                                                                              'Years',\n",
       "                                                                              '45 '\n",
       "                                                                              '- '\n",
       "                                                                              '54 '\n",
       "                                                                              'Years',\n",
       "                                                                              '55 '\n",
       "                                                                              '- '\n",
       "                                                                              '64 '\n",
       "                                                                              'Years',\n",
       "                                                                              '65+ '\n",
       "                                                                              'Years'],\n",
       "                                                                             ['< '\n",
       "                                                                              '12 '\n",
       "                                                                              'Years',\n",
       "                                                                              '12 '\n",
       "                                                                              'Years',\n",
       "                                                                              'Some '\n",
       "                                                                              'College',\n",
       "                                                                              'College '\n",
       "                                                                              'Graduate'],\n",
       "                                                                             ['Below '\n",
       "                                                                              'Poverty',\n",
       "                                                                              '<= '\n",
       "                                                                              '$75,000, '\n",
       "                                                                              'Above...\n",
       "       'health_insurance', 'opinion_h1n1_vacc_effective', 'opinion_h1n1_risk',\n",
       "       'opinion_h1n1_sick_from_vacc', 'opinion_seas_vacc_effective',\n",
       "       'opinion_seas_risk', 'opinion_seas_sick_from_vacc', 'household_adults',\n",
       "       'household_children', 'sex_Female', 'sex_Male',\n",
       "       'marital_status_Married', 'marital_status_Not Married',\n",
       "       'rent_or_own_Own', 'rent_or_own_Rent'],\n",
       "      dtype='object'))])</pre></div></div></div><div class=\"sk-parallel\"><div class=\"sk-parallel-item\"><div class=\"sk-item\"><div class=\"sk-label-container\"><div class=\"sk-label sk-toggleable\"><input class=\"sk-toggleable__control sk-hidden--visually\" id=\"3f3f7108-0392-4d85-b11a-55b95601802d\" type=\"checkbox\" ><label class=\"sk-toggleable__label\" for=\"3f3f7108-0392-4d85-b11a-55b95601802d\">ordinal_pipe</label><div class=\"sk-toggleable__content\"><pre>['age_group', 'education', 'income_poverty']</pre></div></div></div><div class=\"sk-serial\"><div class=\"sk-item\"><div class=\"sk-serial\"><div class=\"sk-item\"><div class=\"sk-estimator sk-toggleable\"><input class=\"sk-toggleable__control sk-hidden--visually\" id=\"cab6529e-71e9-4dc4-b5bc-f51b1e275d7c\" type=\"checkbox\" ><label class=\"sk-toggleable__label\" for=\"cab6529e-71e9-4dc4-b5bc-f51b1e275d7c\">SimpleImputer</label><div class=\"sk-toggleable__content\"><pre>SimpleImputer(strategy='most_frequent')</pre></div></div></div><div class=\"sk-item\"><div class=\"sk-estimator sk-toggleable\"><input class=\"sk-toggleable__control sk-hidden--visually\" id=\"4d977371-dc83-4f58-b08c-4d98759c0cf2\" type=\"checkbox\" ><label class=\"sk-toggleable__label\" for=\"4d977371-dc83-4f58-b08c-4d98759c0cf2\">OrdinalEncoder</label><div class=\"sk-toggleable__content\"><pre>OrdinalEncoder(categories=[['18 - 34 Years', '35 - 44 Years', '45 - 54 Years',\n",
       "                            '55 - 64 Years', '65+ Years'],\n",
       "                           ['< 12 Years', '12 Years', 'Some College',\n",
       "                            'College Graduate'],\n",
       "                           ['Below Poverty', '<= $75,000, Above Poverty',\n",
       "                            '> $75,000']])</pre></div></div></div><div class=\"sk-item\"><div class=\"sk-estimator sk-toggleable\"><input class=\"sk-toggleable__control sk-hidden--visually\" id=\"98e62a71-d3df-47d8-9439-58b48c519291\" type=\"checkbox\" ><label class=\"sk-toggleable__label\" for=\"98e62a71-d3df-47d8-9439-58b48c519291\">StandardScaler</label><div class=\"sk-toggleable__content\"><pre>StandardScaler()</pre></div></div></div></div></div></div></div></div><div class=\"sk-parallel-item\"><div class=\"sk-item\"><div class=\"sk-label-container\"><div class=\"sk-label sk-toggleable\"><input class=\"sk-toggleable__control sk-hidden--visually\" id=\"44a1f56d-7003-4a34-b383-d0734ef8c478\" type=\"checkbox\" ><label class=\"sk-toggleable__label\" for=\"44a1f56d-7003-4a34-b383-d0734ef8c478\">nominal_pipe</label><div class=\"sk-toggleable__content\"><pre>['race', 'employment_status', 'census_msa']</pre></div></div></div><div class=\"sk-serial\"><div class=\"sk-item\"><div class=\"sk-serial\"><div class=\"sk-item\"><div class=\"sk-estimator sk-toggleable\"><input class=\"sk-toggleable__control sk-hidden--visually\" id=\"70345367-3112-4cdc-aee8-ec841bf90d49\" type=\"checkbox\" ><label class=\"sk-toggleable__label\" for=\"70345367-3112-4cdc-aee8-ec841bf90d49\">SimpleImputer</label><div class=\"sk-toggleable__content\"><pre>SimpleImputer(strategy='most_frequent')</pre></div></div></div><div class=\"sk-item\"><div class=\"sk-estimator sk-toggleable\"><input class=\"sk-toggleable__control sk-hidden--visually\" id=\"fe331019-31bc-4c89-93a2-50daa491395d\" type=\"checkbox\" ><label class=\"sk-toggleable__label\" for=\"fe331019-31bc-4c89-93a2-50daa491395d\">OneHotEncoder</label><div class=\"sk-toggleable__content\"><pre>OneHotEncoder(sparse=False)</pre></div></div></div><div class=\"sk-item\"><div class=\"sk-estimator sk-toggleable\"><input class=\"sk-toggleable__control sk-hidden--visually\" id=\"bc923a1d-f5b0-4c25-b128-1a4036e0ddbb\" type=\"checkbox\" ><label class=\"sk-toggleable__label\" for=\"bc923a1d-f5b0-4c25-b128-1a4036e0ddbb\">MaxAbsScaler</label><div class=\"sk-toggleable__content\"><pre>MaxAbsScaler()</pre></div></div></div></div></div></div></div></div><div class=\"sk-parallel-item\"><div class=\"sk-item\"><div class=\"sk-label-container\"><div class=\"sk-label sk-toggleable\"><input class=\"sk-toggleable__control sk-hidden--visually\" id=\"ecd8d7bd-e9dd-4a32-80ff-785bda00de79\" type=\"checkbox\" ><label class=\"sk-toggleable__label\" for=\"ecd8d7bd-e9dd-4a32-80ff-785bda00de79\">num_pipe</label><div class=\"sk-toggleable__content\"><pre>Index(['h1n1_concern', 'h1n1_knowledge', 'behavioral_antiviral_meds',\n",
       "       'behavioral_avoidance', 'behavioral_face_mask', 'behavioral_wash_hands',\n",
       "       'behavioral_large_gatherings', 'behavioral_outside_home',\n",
       "       'behavioral_touch_face', 'doctor_recc_h1n1', 'doctor_recc_seasonal',\n",
       "       'chronic_med_condition', 'child_under_6_months', 'health_worker',\n",
       "       'health_insurance', 'opinion_h1n1_vacc_effective', 'opinion_h1n1_risk',\n",
       "       'opinion_h1n1_sick_from_vacc', 'opinion_seas_vacc_effective',\n",
       "       'opinion_seas_risk', 'opinion_seas_sick_from_vacc', 'household_adults',\n",
       "       'household_children', 'sex_Female', 'sex_Male',\n",
       "       'marital_status_Married', 'marital_status_Not Married',\n",
       "       'rent_or_own_Own', 'rent_or_own_Rent'],\n",
       "      dtype='object')</pre></div></div></div><div class=\"sk-serial\"><div class=\"sk-item\"><div class=\"sk-serial\"><div class=\"sk-item\"><div class=\"sk-estimator sk-toggleable\"><input class=\"sk-toggleable__control sk-hidden--visually\" id=\"5410b3ca-90c5-493e-8e38-523181e3e6c3\" type=\"checkbox\" ><label class=\"sk-toggleable__label\" for=\"5410b3ca-90c5-493e-8e38-523181e3e6c3\">SimpleImputer</label><div class=\"sk-toggleable__content\"><pre>SimpleImputer()</pre></div></div></div><div class=\"sk-item\"><div class=\"sk-estimator sk-toggleable\"><input class=\"sk-toggleable__control sk-hidden--visually\" id=\"3e8d87a8-d1d1-4004-9660-e9a5be41bf9f\" type=\"checkbox\" ><label class=\"sk-toggleable__label\" for=\"3e8d87a8-d1d1-4004-9660-e9a5be41bf9f\">StandardScaler</label><div class=\"sk-toggleable__content\"><pre>StandardScaler()</pre></div></div></div></div></div></div></div></div></div></div><div class=\"sk-item\"><div class=\"sk-estimator sk-toggleable\"><input class=\"sk-toggleable__control sk-hidden--visually\" id=\"4bf534ad-7546-4c92-8429-3d62d9ce9619\" type=\"checkbox\" ><label class=\"sk-toggleable__label\" for=\"4bf534ad-7546-4c92-8429-3d62d9ce9619\">SMOTE</label><div class=\"sk-toggleable__content\"><pre>SMOTE()</pre></div></div></div><div class=\"sk-item\"><div class=\"sk-estimator sk-toggleable\"><input class=\"sk-toggleable__control sk-hidden--visually\" id=\"deccfeab-5fcc-49e1-93bf-215eaba647c3\" type=\"checkbox\" ><label class=\"sk-toggleable__label\" for=\"deccfeab-5fcc-49e1-93bf-215eaba647c3\">RandomForestClassifier</label><div class=\"sk-toggleable__content\"><pre>RandomForestClassifier(max_depth=10)</pre></div></div></div></div></div></div></div>"
      ],
      "text/plain": [
       "Pipeline(steps=[('preprocess',\n",
       "                 ColumnTransformer(transformers=[('ordinal_pipe',\n",
       "                                                  Pipeline(steps=[('ordimputer',\n",
       "                                                                   SimpleImputer(strategy='most_frequent')),\n",
       "                                                                  ('ordenc',\n",
       "                                                                   OrdinalEncoder(categories=[['18 '\n",
       "                                                                                               '- '\n",
       "                                                                                               '34 '\n",
       "                                                                                               'Years',\n",
       "                                                                                               '35 '\n",
       "                                                                                               '- '\n",
       "                                                                                               '44 '\n",
       "                                                                                               'Years',\n",
       "                                                                                               '45 '\n",
       "                                                                                               '- '\n",
       "                                                                                               '54 '\n",
       "                                                                                               'Years',\n",
       "                                                                                               '55 '\n",
       "                                                                                               '- '\n",
       "                                                                                               '64 '\n",
       "                                                                                               'Years',\n",
       "                                                                                               '65+ '\n",
       "                                                                                               'Years'],\n",
       "                                                                                              ['< '\n",
       "                                                                                               '12 '\n",
       "                                                                                               'Years',\n",
       "                                                                                               '12 '\n",
       "                                                                                               'Years',\n",
       "                                                                                               'Some '\n",
       "                                                                                               'College',\n",
       "                                                                                               'College '\n",
       "                                                                                               'Graduate'],\n",
       "                                                                                              ['Below '...\n",
       "       'opinion_h1n1_sick_from_vacc', 'opinion_seas_vacc_effective',\n",
       "       'opinion_seas_risk', 'opinion_seas_sick_from_vacc', 'household_adults',\n",
       "       'household_children', 'sex_Female', 'sex_Male',\n",
       "       'marital_status_Married', 'marital_status_Not Married',\n",
       "       'rent_or_own_Own', 'rent_or_own_Rent'],\n",
       "      dtype='object'))])),\n",
       "                ('smote', SMOTE()),\n",
       "                ('model', RandomForestClassifier(max_depth=10))])"
      ]
     },
     "execution_count": 39,
     "metadata": {},
     "output_type": "execute_result"
    }
   ],
   "source": [
    "pipeline_5.fit(X_train, y_train)"
   ]
  },
  {
   "cell_type": "code",
   "execution_count": 40,
   "metadata": {},
   "outputs": [],
   "source": [
    "y_pred5 = pipeline_5.predict(X_test)"
   ]
  },
  {
   "cell_type": "code",
   "execution_count": 41,
   "metadata": {},
   "outputs": [
    {
     "data": {
      "text/plain": [
       "<sklearn.metrics._plot.confusion_matrix.ConfusionMatrixDisplay at 0x183bed0eb50>"
      ]
     },
     "execution_count": 41,
     "metadata": {},
     "output_type": "execute_result"
    },
    {
     "data": {
      "image/png": "[encoded data removed]",
      "text/plain": [
       "<Figure size 432x288 with 2 Axes>"
      ]
     },
     "metadata": {
      "needs_background": "light"
     },
     "output_type": "display_data"
    }
   ],
   "source": [
    "plot_confusion_matrix(pipeline_5, X_test,y_test)"
   ]
  },
  {
   "cell_type": "code",
   "execution_count": 42,
   "metadata": {},
   "outputs": [
    {
     "name": "stdout",
     "output_type": "stream",
     "text": [
      "              precision    recall  f1-score   support\n",
      "\n",
      "           0       0.89      0.92      0.90      6311\n",
      "           1       0.65      0.56      0.61      1702\n",
      "\n",
      "    accuracy                           0.84      8013\n",
      "   macro avg       0.77      0.74      0.75      8013\n",
      "weighted avg       0.84      0.84      0.84      8013\n",
      "\n"
     ]
    }
   ],
   "source": [
    "print(classification_report(y_test, y_pred5))"
   ]
  },
  {
   "cell_type": "code",
   "execution_count": 43,
   "metadata": {},
   "outputs": [
    {
     "data": {
      "text/plain": [
       "<sklearn.metrics._plot.roc_curve.RocCurveDisplay at 0x183beca9e80>"
      ]
     },
     "execution_count": 43,
     "metadata": {},
     "output_type": "execute_result"
    },
    {
     "data": {
      "image/png": "[encoded data removed]",
      "text/plain": [
       "<Figure size 432x288 with 1 Axes>"
      ]
     },
     "metadata": {
      "needs_background": "light"
     },
     "output_type": "display_data"
    }
   ],
   "source": [
    "plot_roc_curve(pipeline_5, X_test, y_test)"
   ]
  },
  {
   "cell_type": "markdown",
   "metadata": {},
   "source": [
    "## Model 6 - Random Forest Classifier + Hyperparameter Tuning"
   ]
  },
  {
   "cell_type": "code",
   "execution_count": 44,
   "metadata": {},
   "outputs": [],
   "source": [
    "pipeline_6 = Pipeline([(\"preprocess\",ct),\n",
    "                       (\"smote\",smt),\n",
    "                       (\"model\",RandomForestClassifier())])"
   ]
  },
  {
   "cell_type": "code",
   "execution_count": 45,
   "metadata": {},
   "outputs": [],
   "source": [
    "param_grid = {\n",
    "    'model__n_estimators': [25, 50, 100, 150],\n",
    "    'model__max_features': ['sqrt', 'log2', None],\n",
    "    'model__max_depth': [3, 6, 9],\n",
    "    'model__max_leaf_nodes': [3, 6, 9],\n",
    "}\n",
    "\n",
    "## Find other features to edit based on previous model"
   ]
  },
  {
   "cell_type": "code",
   "execution_count": 46,
   "metadata": {},
   "outputs": [],
   "source": [
    "tuned_pipeline_6 = GridSearchCV(estimator=pipeline_6, \n",
    "                       param_grid=param_grid)"
   ]
  },
  {
   "cell_type": "code",
   "execution_count": 47,
   "metadata": {},
   "outputs": [
    {
     "data": {
      "text/html": [
       "<style>div.sk-top-container {color: black;background-color: white;}div.sk-toggleable {background-color: white;}label.sk-toggleable__label {cursor: pointer;display: block;width: 100%;margin-bottom: 0;padding: 0.2em 0.3em;box-sizing: border-box;text-align: center;}div.sk-toggleable__content {max-height: 0;max-width: 0;overflow: hidden;text-align: left;background-color: #f0f8ff;}div.sk-toggleable__content pre {margin: 0.2em;color: black;border-radius: 0.25em;background-color: #f0f8ff;}input.sk-toggleable__control:checked~div.sk-toggleable__content {max-height: 200px;max-width: 100%;overflow: auto;}div.sk-estimator input.sk-toggleable__control:checked~label.sk-toggleable__label {background-color: #d4ebff;}div.sk-label input.sk-toggleable__control:checked~label.sk-toggleable__label {background-color: #d4ebff;}input.sk-hidden--visually {border: 0;clip: rect(1px 1px 1px 1px);clip: rect(1px, 1px, 1px, 1px);height: 1px;margin: -1px;overflow: hidden;padding: 0;position: absolute;width: 1px;}div.sk-estimator {font-family: monospace;background-color: #f0f8ff;margin: 0.25em 0.25em;border: 1px dotted black;border-radius: 0.25em;box-sizing: border-box;}div.sk-estimator:hover {background-color: #d4ebff;}div.sk-parallel-item::after {content: \"\";width: 100%;border-bottom: 1px solid gray;flex-grow: 1;}div.sk-label:hover label.sk-toggleable__label {background-color: #d4ebff;}div.sk-serial::before {content: \"\";position: absolute;border-left: 1px solid gray;box-sizing: border-box;top: 2em;bottom: 0;left: 50%;}div.sk-serial {display: flex;flex-direction: column;align-items: center;background-color: white;}div.sk-item {z-index: 1;}div.sk-parallel {display: flex;align-items: stretch;justify-content: center;background-color: white;}div.sk-parallel-item {display: flex;flex-direction: column;position: relative;background-color: white;}div.sk-parallel-item:first-child::after {align-self: flex-end;width: 50%;}div.sk-parallel-item:last-child::after {align-self: flex-start;width: 50%;}div.sk-parallel-item:only-child::after {width: 0;}div.sk-dashed-wrapped {border: 1px dashed gray;margin: 0.2em;box-sizing: border-box;padding-bottom: 0.1em;background-color: white;position: relative;}div.sk-label label {font-family: monospace;font-weight: bold;background-color: white;display: inline-block;line-height: 1.2em;}div.sk-label-container {position: relative;z-index: 2;text-align: center;}div.sk-container {display: inline-block;position: relative;}</style><div class=\"sk-top-container\"><div class=\"sk-container\"><div class=\"sk-item sk-dashed-wrapped\"><div class=\"sk-label-container\"><div class=\"sk-label sk-toggleable\"><input class=\"sk-toggleable__control sk-hidden--visually\" id=\"fc53bee0-03d1-47e7-a33b-e387522403a5\" type=\"checkbox\" ><label class=\"sk-toggleable__label\" for=\"fc53bee0-03d1-47e7-a33b-e387522403a5\">GridSearchCV</label><div class=\"sk-toggleable__content\"><pre>GridSearchCV(estimator=Pipeline(steps=[('preprocess',\n",
       "                                        ColumnTransformer(transformers=[('ordinal_pipe',\n",
       "                                                                         Pipeline(steps=[('ordimputer',\n",
       "                                                                                          SimpleImputer(strategy='most_frequent')),\n",
       "                                                                                         ('ordenc',\n",
       "                                                                                          OrdinalEncoder(categories=[['18 '\n",
       "                                                                                                                      '- '\n",
       "                                                                                                                      '34 '\n",
       "                                                                                                                      'Years',\n",
       "                                                                                                                      '35 '\n",
       "                                                                                                                      '- '\n",
       "                                                                                                                      '44 '\n",
       "                                                                                                                      'Years',\n",
       "                                                                                                                      '45 '\n",
       "                                                                                                                      '- '\n",
       "                                                                                                                      '54 '\n",
       "                                                                                                                      'Years',\n",
       "                                                                                                                      '55 '\n",
       "                                                                                                                      '- '\n",
       "                                                                                                                      '64 '\n",
       "                                                                                                                      'Years',\n",
       "                                                                                                                      '65+ '\n",
       "                                                                                                                      'Years'],\n",
       "                                                                                                                     ['< '\n",
       "                                                                                                                      '12 '\n",
       "                                                                                                                      'Years',\n",
       "                                                                                                                      '12 '\n",
       "                                                                                                                      'Years',\n",
       "                                                                                                                      'Some '\n",
       "                                                                                                                      'College',\n",
       "                                                                                                                      'Colle...\n",
       "       'household_children', 'sex_Female', 'sex_Male',\n",
       "       'marital_status_Married', 'marital_status_Not Married',\n",
       "       'rent_or_own_Own', 'rent_or_own_Rent'],\n",
       "      dtype='object'))])),\n",
       "                                       ('smote', SMOTE()),\n",
       "                                       ('model', RandomForestClassifier())]),\n",
       "             param_grid={'model__max_depth': [3, 6, 9],\n",
       "                         'model__max_features': ['sqrt', 'log2', None],\n",
       "                         'model__max_leaf_nodes': [3, 6, 9],\n",
       "                         'model__n_estimators': [25, 50, 100, 150]})</pre></div></div></div><div class=\"sk-parallel\"><div class=\"sk-parallel-item\"><div class=\"sk-item\"><div class=\"sk-serial\"><div class=\"sk-item\"><div class=\"sk-serial\"><div class=\"sk-item sk-dashed-wrapped\"><div class=\"sk-label-container\"><div class=\"sk-label sk-toggleable\"><input class=\"sk-toggleable__control sk-hidden--visually\" id=\"14480cb3-d790-46a2-b238-0f9a14ed3d5b\" type=\"checkbox\" ><label class=\"sk-toggleable__label\" for=\"14480cb3-d790-46a2-b238-0f9a14ed3d5b\">preprocess: ColumnTransformer</label><div class=\"sk-toggleable__content\"><pre>ColumnTransformer(transformers=[('ordinal_pipe',\n",
       "                                 Pipeline(steps=[('ordimputer',\n",
       "                                                  SimpleImputer(strategy='most_frequent')),\n",
       "                                                 ('ordenc',\n",
       "                                                  OrdinalEncoder(categories=[['18 '\n",
       "                                                                              '- '\n",
       "                                                                              '34 '\n",
       "                                                                              'Years',\n",
       "                                                                              '35 '\n",
       "                                                                              '- '\n",
       "                                                                              '44 '\n",
       "                                                                              'Years',\n",
       "                                                                              '45 '\n",
       "                                                                              '- '\n",
       "                                                                              '54 '\n",
       "                                                                              'Years',\n",
       "                                                                              '55 '\n",
       "                                                                              '- '\n",
       "                                                                              '64 '\n",
       "                                                                              'Years',\n",
       "                                                                              '65+ '\n",
       "                                                                              'Years'],\n",
       "                                                                             ['< '\n",
       "                                                                              '12 '\n",
       "                                                                              'Years',\n",
       "                                                                              '12 '\n",
       "                                                                              'Years',\n",
       "                                                                              'Some '\n",
       "                                                                              'College',\n",
       "                                                                              'College '\n",
       "                                                                              'Graduate'],\n",
       "                                                                             ['Below '\n",
       "                                                                              'Poverty',\n",
       "                                                                              '<= '\n",
       "                                                                              '$75,000, '\n",
       "                                                                              'Above...\n",
       "       'health_insurance', 'opinion_h1n1_vacc_effective', 'opinion_h1n1_risk',\n",
       "       'opinion_h1n1_sick_from_vacc', 'opinion_seas_vacc_effective',\n",
       "       'opinion_seas_risk', 'opinion_seas_sick_from_vacc', 'household_adults',\n",
       "       'household_children', 'sex_Female', 'sex_Male',\n",
       "       'marital_status_Married', 'marital_status_Not Married',\n",
       "       'rent_or_own_Own', 'rent_or_own_Rent'],\n",
       "      dtype='object'))])</pre></div></div></div><div class=\"sk-parallel\"><div class=\"sk-parallel-item\"><div class=\"sk-item\"><div class=\"sk-label-container\"><div class=\"sk-label sk-toggleable\"><input class=\"sk-toggleable__control sk-hidden--visually\" id=\"ca90ad67-a525-42a7-9b88-49108366c02e\" type=\"checkbox\" ><label class=\"sk-toggleable__label\" for=\"ca90ad67-a525-42a7-9b88-49108366c02e\">ordinal_pipe</label><div class=\"sk-toggleable__content\"><pre>['age_group', 'education', 'income_poverty']</pre></div></div></div><div class=\"sk-serial\"><div class=\"sk-item\"><div class=\"sk-serial\"><div class=\"sk-item\"><div class=\"sk-estimator sk-toggleable\"><input class=\"sk-toggleable__control sk-hidden--visually\" id=\"50d7d010-caa4-4a0f-9c62-83fbfd010c01\" type=\"checkbox\" ><label class=\"sk-toggleable__label\" for=\"50d7d010-caa4-4a0f-9c62-83fbfd010c01\">SimpleImputer</label><div class=\"sk-toggleable__content\"><pre>SimpleImputer(strategy='most_frequent')</pre></div></div></div><div class=\"sk-item\"><div class=\"sk-estimator sk-toggleable\"><input class=\"sk-toggleable__control sk-hidden--visually\" id=\"e0ae00a7-c463-49be-8bd1-8b66ac4588b7\" type=\"checkbox\" ><label class=\"sk-toggleable__label\" for=\"e0ae00a7-c463-49be-8bd1-8b66ac4588b7\">OrdinalEncoder</label><div class=\"sk-toggleable__content\"><pre>OrdinalEncoder(categories=[['18 - 34 Years', '35 - 44 Years', '45 - 54 Years',\n",
       "                            '55 - 64 Years', '65+ Years'],\n",
       "                           ['< 12 Years', '12 Years', 'Some College',\n",
       "                            'College Graduate'],\n",
       "                           ['Below Poverty', '<= $75,000, Above Poverty',\n",
       "                            '> $75,000']])</pre></div></div></div><div class=\"sk-item\"><div class=\"sk-estimator sk-toggleable\"><input class=\"sk-toggleable__control sk-hidden--visually\" id=\"68379066-c28c-47c5-9cd1-a0a8439423ab\" type=\"checkbox\" ><label class=\"sk-toggleable__label\" for=\"68379066-c28c-47c5-9cd1-a0a8439423ab\">StandardScaler</label><div class=\"sk-toggleable__content\"><pre>StandardScaler()</pre></div></div></div></div></div></div></div></div><div class=\"sk-parallel-item\"><div class=\"sk-item\"><div class=\"sk-label-container\"><div class=\"sk-label sk-toggleable\"><input class=\"sk-toggleable__control sk-hidden--visually\" id=\"1d7ad279-a170-4bdf-a3ea-64b8109c168a\" type=\"checkbox\" ><label class=\"sk-toggleable__label\" for=\"1d7ad279-a170-4bdf-a3ea-64b8109c168a\">nominal_pipe</label><div class=\"sk-toggleable__content\"><pre>['race', 'employment_status', 'census_msa']</pre></div></div></div><div class=\"sk-serial\"><div class=\"sk-item\"><div class=\"sk-serial\"><div class=\"sk-item\"><div class=\"sk-estimator sk-toggleable\"><input class=\"sk-toggleable__control sk-hidden--visually\" id=\"95789445-80ad-4de4-87e4-28cffb5e7bd9\" type=\"checkbox\" ><label class=\"sk-toggleable__label\" for=\"95789445-80ad-4de4-87e4-28cffb5e7bd9\">SimpleImputer</label><div class=\"sk-toggleable__content\"><pre>SimpleImputer(strategy='most_frequent')</pre></div></div></div><div class=\"sk-item\"><div class=\"sk-estimator sk-toggleable\"><input class=\"sk-toggleable__control sk-hidden--visually\" id=\"4a4b1e8d-c707-4738-9cd2-45dbd7197554\" type=\"checkbox\" ><label class=\"sk-toggleable__label\" for=\"4a4b1e8d-c707-4738-9cd2-45dbd7197554\">OneHotEncoder</label><div class=\"sk-toggleable__content\"><pre>OneHotEncoder(sparse=False)</pre></div></div></div><div class=\"sk-item\"><div class=\"sk-estimator sk-toggleable\"><input class=\"sk-toggleable__control sk-hidden--visually\" id=\"9fdb7664-5aef-4a6d-8df4-fb247e042834\" type=\"checkbox\" ><label class=\"sk-toggleable__label\" for=\"9fdb7664-5aef-4a6d-8df4-fb247e042834\">MaxAbsScaler</label><div class=\"sk-toggleable__content\"><pre>MaxAbsScaler()</pre></div></div></div></div></div></div></div></div><div class=\"sk-parallel-item\"><div class=\"sk-item\"><div class=\"sk-label-container\"><div class=\"sk-label sk-toggleable\"><input class=\"sk-toggleable__control sk-hidden--visually\" id=\"729199ad-aa67-46de-8ee1-ddb556ed53cb\" type=\"checkbox\" ><label class=\"sk-toggleable__label\" for=\"729199ad-aa67-46de-8ee1-ddb556ed53cb\">num_pipe</label><div class=\"sk-toggleable__content\"><pre>Index(['h1n1_concern', 'h1n1_knowledge', 'behavioral_antiviral_meds',\n",
       "       'behavioral_avoidance', 'behavioral_face_mask', 'behavioral_wash_hands',\n",
       "       'behavioral_large_gatherings', 'behavioral_outside_home',\n",
       "       'behavioral_touch_face', 'doctor_recc_h1n1', 'doctor_recc_seasonal',\n",
       "       'chronic_med_condition', 'child_under_6_months', 'health_worker',\n",
       "       'health_insurance', 'opinion_h1n1_vacc_effective', 'opinion_h1n1_risk',\n",
       "       'opinion_h1n1_sick_from_vacc', 'opinion_seas_vacc_effective',\n",
       "       'opinion_seas_risk', 'opinion_seas_sick_from_vacc', 'household_adults',\n",
       "       'household_children', 'sex_Female', 'sex_Male',\n",
       "       'marital_status_Married', 'marital_status_Not Married',\n",
       "       'rent_or_own_Own', 'rent_or_own_Rent'],\n",
       "      dtype='object')</pre></div></div></div><div class=\"sk-serial\"><div class=\"sk-item\"><div class=\"sk-serial\"><div class=\"sk-item\"><div class=\"sk-estimator sk-toggleable\"><input class=\"sk-toggleable__control sk-hidden--visually\" id=\"af8f69c5-c21b-4c20-ae18-e24679db180c\" type=\"checkbox\" ><label class=\"sk-toggleable__label\" for=\"af8f69c5-c21b-4c20-ae18-e24679db180c\">SimpleImputer</label><div class=\"sk-toggleable__content\"><pre>SimpleImputer()</pre></div></div></div><div class=\"sk-item\"><div class=\"sk-estimator sk-toggleable\"><input class=\"sk-toggleable__control sk-hidden--visually\" id=\"f64ce002-daef-4c54-8d3e-dd4231f638c2\" type=\"checkbox\" ><label class=\"sk-toggleable__label\" for=\"f64ce002-daef-4c54-8d3e-dd4231f638c2\">StandardScaler</label><div class=\"sk-toggleable__content\"><pre>StandardScaler()</pre></div></div></div></div></div></div></div></div></div></div><div class=\"sk-item\"><div class=\"sk-estimator sk-toggleable\"><input class=\"sk-toggleable__control sk-hidden--visually\" id=\"5c9186ea-022a-4f46-8e85-648ff5609274\" type=\"checkbox\" ><label class=\"sk-toggleable__label\" for=\"5c9186ea-022a-4f46-8e85-648ff5609274\">SMOTE</label><div class=\"sk-toggleable__content\"><pre>SMOTE()</pre></div></div></div><div class=\"sk-item\"><div class=\"sk-estimator sk-toggleable\"><input class=\"sk-toggleable__control sk-hidden--visually\" id=\"bf864e08-ca49-450d-8987-c5b29a7ec88d\" type=\"checkbox\" ><label class=\"sk-toggleable__label\" for=\"bf864e08-ca49-450d-8987-c5b29a7ec88d\">RandomForestClassifier</label><div class=\"sk-toggleable__content\"><pre>RandomForestClassifier()</pre></div></div></div></div></div></div></div></div></div></div></div></div>"
      ],
      "text/plain": [
       "GridSearchCV(estimator=Pipeline(steps=[('preprocess',\n",
       "                                        ColumnTransformer(transformers=[('ordinal_pipe',\n",
       "                                                                         Pipeline(steps=[('ordimputer',\n",
       "                                                                                          SimpleImputer(strategy='most_frequent')),\n",
       "                                                                                         ('ordenc',\n",
       "                                                                                          OrdinalEncoder(categories=[['18 '\n",
       "                                                                                                                      '- '\n",
       "                                                                                                                      '34 '\n",
       "                                                                                                                      'Years',\n",
       "                                                                                                                      '35 '\n",
       "                                                                                                                      '- '\n",
       "                                                                                                                      '44 '\n",
       "                                                                                                                      'Years',\n",
       "                                                                                                                      '45 '\n",
       "                                                                                                                      '- '\n",
       "                                                                                                                      '54 '\n",
       "                                                                                                                      'Years',\n",
       "                                                                                                                      '55 '\n",
       "                                                                                                                      '- '\n",
       "                                                                                                                      '64 '\n",
       "                                                                                                                      'Years',\n",
       "                                                                                                                      '65+ '\n",
       "                                                                                                                      'Years'],\n",
       "                                                                                                                     ['< '\n",
       "                                                                                                                      '12 '\n",
       "                                                                                                                      'Years',\n",
       "                                                                                                                      '12 '\n",
       "                                                                                                                      'Years',\n",
       "                                                                                                                      'Some '\n",
       "                                                                                                                      'College',\n",
       "                                                                                                                      'Colle...\n",
       "       'household_children', 'sex_Female', 'sex_Male',\n",
       "       'marital_status_Married', 'marital_status_Not Married',\n",
       "       'rent_or_own_Own', 'rent_or_own_Rent'],\n",
       "      dtype='object'))])),\n",
       "                                       ('smote', SMOTE()),\n",
       "                                       ('model', RandomForestClassifier())]),\n",
       "             param_grid={'model__max_depth': [3, 6, 9],\n",
       "                         'model__max_features': ['sqrt', 'log2', None],\n",
       "                         'model__max_leaf_nodes': [3, 6, 9],\n",
       "                         'model__n_estimators': [25, 50, 100, 150]})"
      ]
     },
     "execution_count": 47,
     "metadata": {},
     "output_type": "execute_result"
    }
   ],
   "source": [
    "tuned_pipeline_6.fit(X_train,y_train)"
   ]
  },
  {
   "cell_type": "code",
   "execution_count": 48,
   "metadata": {},
   "outputs": [],
   "source": [
    "y_pred6 = tuned_pipeline_6.predict(X_test)"
   ]
  },
  {
   "cell_type": "code",
   "execution_count": 49,
   "metadata": {},
   "outputs": [
    {
     "data": {
      "text/plain": [
       "<sklearn.metrics._plot.confusion_matrix.ConfusionMatrixDisplay at 0x183c04bf880>"
      ]
     },
     "execution_count": 49,
     "metadata": {},
     "output_type": "execute_result"
    },
    {
     "data": {
      "image/png": "[encoded data removed]",
      "text/plain": [
       "<Figure size 432x288 with 2 Axes>"
      ]
     },
     "metadata": {
      "needs_background": "light"
     },
     "output_type": "display_data"
    }
   ],
   "source": [
    "plot_confusion_matrix(tuned_pipeline_6, X_test,y_test)"
   ]
  },
  {
   "cell_type": "code",
   "execution_count": 50,
   "metadata": {},
   "outputs": [
    {
     "name": "stdout",
     "output_type": "stream",
     "text": [
      "              precision    recall  f1-score   support\n",
      "\n",
      "           0       0.90      0.86      0.88      6311\n",
      "           1       0.55      0.65      0.60      1702\n",
      "\n",
      "    accuracy                           0.81      8013\n",
      "   macro avg       0.73      0.75      0.74      8013\n",
      "weighted avg       0.83      0.81      0.82      8013\n",
      "\n"
     ]
    }
   ],
   "source": [
    "print(classification_report(y_test, y_pred6))"
   ]
  },
  {
   "cell_type": "code",
   "execution_count": 51,
   "metadata": {},
   "outputs": [
    {
     "data": {
      "text/plain": [
       "<sklearn.metrics._plot.roc_curve.RocCurveDisplay at 0x183c04b6e80>"
      ]
     },
     "execution_count": 51,
     "metadata": {},
     "output_type": "execute_result"
    },
    {
     "data": {
      "image/png": "[encoded data removed]",
      "text/plain": [
       "<Figure size 432x288 with 1 Axes>"
      ]
     },
     "metadata": {
      "needs_background": "light"
     },
     "output_type": "display_data"
    }
   ],
   "source": [
    "plot_roc_curve(tuned_pipeline_6, X_test, y_test)"
   ]
  },
  {
   "cell_type": "markdown",
   "metadata": {},
   "source": [
    "## Model 7 - Gradient Boosting"
   ]
  },
  {
   "cell_type": "code",
   "execution_count": 52,
   "metadata": {},
   "outputs": [],
   "source": [
    "from sklearn.ensemble import GradientBoostingClassifier"
   ]
  },
  {
   "cell_type": "code",
   "execution_count": 53,
   "metadata": {},
   "outputs": [],
   "source": [
    "pipeline_7 = Pipeline([(\"preprocess\",ct),\n",
    "                       (\"smote\",smt),\n",
    "                       (\"model\",GradientBoostingClassifier())])"
   ]
  },
  {
   "cell_type": "code",
   "execution_count": 54,
   "metadata": {},
   "outputs": [
    {
     "data": {
      "text/html": [
       "<style>div.sk-top-container {color: black;background-color: white;}div.sk-toggleable {background-color: white;}label.sk-toggleable__label {cursor: pointer;display: block;width: 100%;margin-bottom: 0;padding: 0.2em 0.3em;box-sizing: border-box;text-align: center;}div.sk-toggleable__content {max-height: 0;max-width: 0;overflow: hidden;text-align: left;background-color: #f0f8ff;}div.sk-toggleable__content pre {margin: 0.2em;color: black;border-radius: 0.25em;background-color: #f0f8ff;}input.sk-toggleable__control:checked~div.sk-toggleable__content {max-height: 200px;max-width: 100%;overflow: auto;}div.sk-estimator input.sk-toggleable__control:checked~label.sk-toggleable__label {background-color: #d4ebff;}div.sk-label input.sk-toggleable__control:checked~label.sk-toggleable__label {background-color: #d4ebff;}input.sk-hidden--visually {border: 0;clip: rect(1px 1px 1px 1px);clip: rect(1px, 1px, 1px, 1px);height: 1px;margin: -1px;overflow: hidden;padding: 0;position: absolute;width: 1px;}div.sk-estimator {font-family: monospace;background-color: #f0f8ff;margin: 0.25em 0.25em;border: 1px dotted black;border-radius: 0.25em;box-sizing: border-box;}div.sk-estimator:hover {background-color: #d4ebff;}div.sk-parallel-item::after {content: \"\";width: 100%;border-bottom: 1px solid gray;flex-grow: 1;}div.sk-label:hover label.sk-toggleable__label {background-color: #d4ebff;}div.sk-serial::before {content: \"\";position: absolute;border-left: 1px solid gray;box-sizing: border-box;top: 2em;bottom: 0;left: 50%;}div.sk-serial {display: flex;flex-direction: column;align-items: center;background-color: white;}div.sk-item {z-index: 1;}div.sk-parallel {display: flex;align-items: stretch;justify-content: center;background-color: white;}div.sk-parallel-item {display: flex;flex-direction: column;position: relative;background-color: white;}div.sk-parallel-item:first-child::after {align-self: flex-end;width: 50%;}div.sk-parallel-item:last-child::after {align-self: flex-start;width: 50%;}div.sk-parallel-item:only-child::after {width: 0;}div.sk-dashed-wrapped {border: 1px dashed gray;margin: 0.2em;box-sizing: border-box;padding-bottom: 0.1em;background-color: white;position: relative;}div.sk-label label {font-family: monospace;font-weight: bold;background-color: white;display: inline-block;line-height: 1.2em;}div.sk-label-container {position: relative;z-index: 2;text-align: center;}div.sk-container {display: inline-block;position: relative;}</style><div class=\"sk-top-container\"><div class=\"sk-container\"><div class=\"sk-item sk-dashed-wrapped\"><div class=\"sk-label-container\"><div class=\"sk-label sk-toggleable\"><input class=\"sk-toggleable__control sk-hidden--visually\" id=\"1ec8eccc-dfe4-46d0-bd5f-5b1d72645ba4\" type=\"checkbox\" ><label class=\"sk-toggleable__label\" for=\"1ec8eccc-dfe4-46d0-bd5f-5b1d72645ba4\">Pipeline</label><div class=\"sk-toggleable__content\"><pre>Pipeline(steps=[('preprocess',\n",
       "                 ColumnTransformer(transformers=[('ordinal_pipe',\n",
       "                                                  Pipeline(steps=[('ordimputer',\n",
       "                                                                   SimpleImputer(strategy='most_frequent')),\n",
       "                                                                  ('ordenc',\n",
       "                                                                   OrdinalEncoder(categories=[['18 '\n",
       "                                                                                               '- '\n",
       "                                                                                               '34 '\n",
       "                                                                                               'Years',\n",
       "                                                                                               '35 '\n",
       "                                                                                               '- '\n",
       "                                                                                               '44 '\n",
       "                                                                                               'Years',\n",
       "                                                                                               '45 '\n",
       "                                                                                               '- '\n",
       "                                                                                               '54 '\n",
       "                                                                                               'Years',\n",
       "                                                                                               '55 '\n",
       "                                                                                               '- '\n",
       "                                                                                               '64 '\n",
       "                                                                                               'Years',\n",
       "                                                                                               '65+ '\n",
       "                                                                                               'Years'],\n",
       "                                                                                              ['< '\n",
       "                                                                                               '12 '\n",
       "                                                                                               'Years',\n",
       "                                                                                               '12 '\n",
       "                                                                                               'Years',\n",
       "                                                                                               'Some '\n",
       "                                                                                               'College',\n",
       "                                                                                               'College '\n",
       "                                                                                               'Graduate'],\n",
       "                                                                                              ['Below '...\n",
       "       'health_insurance', 'opinion_h1n1_vacc_effective', 'opinion_h1n1_risk',\n",
       "       'opinion_h1n1_sick_from_vacc', 'opinion_seas_vacc_effective',\n",
       "       'opinion_seas_risk', 'opinion_seas_sick_from_vacc', 'household_adults',\n",
       "       'household_children', 'sex_Female', 'sex_Male',\n",
       "       'marital_status_Married', 'marital_status_Not Married',\n",
       "       'rent_or_own_Own', 'rent_or_own_Rent'],\n",
       "      dtype='object'))])),\n",
       "                ('smote', SMOTE()), ('model', GradientBoostingClassifier())])</pre></div></div></div><div class=\"sk-serial\"><div class=\"sk-item sk-dashed-wrapped\"><div class=\"sk-label-container\"><div class=\"sk-label sk-toggleable\"><input class=\"sk-toggleable__control sk-hidden--visually\" id=\"a85a67bb-fd9f-43d0-a907-aa78932d674c\" type=\"checkbox\" ><label class=\"sk-toggleable__label\" for=\"a85a67bb-fd9f-43d0-a907-aa78932d674c\">preprocess: ColumnTransformer</label><div class=\"sk-toggleable__content\"><pre>ColumnTransformer(transformers=[('ordinal_pipe',\n",
       "                                 Pipeline(steps=[('ordimputer',\n",
       "                                                  SimpleImputer(strategy='most_frequent')),\n",
       "                                                 ('ordenc',\n",
       "                                                  OrdinalEncoder(categories=[['18 '\n",
       "                                                                              '- '\n",
       "                                                                              '34 '\n",
       "                                                                              'Years',\n",
       "                                                                              '35 '\n",
       "                                                                              '- '\n",
       "                                                                              '44 '\n",
       "                                                                              'Years',\n",
       "                                                                              '45 '\n",
       "                                                                              '- '\n",
       "                                                                              '54 '\n",
       "                                                                              'Years',\n",
       "                                                                              '55 '\n",
       "                                                                              '- '\n",
       "                                                                              '64 '\n",
       "                                                                              'Years',\n",
       "                                                                              '65+ '\n",
       "                                                                              'Years'],\n",
       "                                                                             ['< '\n",
       "                                                                              '12 '\n",
       "                                                                              'Years',\n",
       "                                                                              '12 '\n",
       "                                                                              'Years',\n",
       "                                                                              'Some '\n",
       "                                                                              'College',\n",
       "                                                                              'College '\n",
       "                                                                              'Graduate'],\n",
       "                                                                             ['Below '\n",
       "                                                                              'Poverty',\n",
       "                                                                              '<= '\n",
       "                                                                              '$75,000, '\n",
       "                                                                              'Above...\n",
       "       'health_insurance', 'opinion_h1n1_vacc_effective', 'opinion_h1n1_risk',\n",
       "       'opinion_h1n1_sick_from_vacc', 'opinion_seas_vacc_effective',\n",
       "       'opinion_seas_risk', 'opinion_seas_sick_from_vacc', 'household_adults',\n",
       "       'household_children', 'sex_Female', 'sex_Male',\n",
       "       'marital_status_Married', 'marital_status_Not Married',\n",
       "       'rent_or_own_Own', 'rent_or_own_Rent'],\n",
       "      dtype='object'))])</pre></div></div></div><div class=\"sk-parallel\"><div class=\"sk-parallel-item\"><div class=\"sk-item\"><div class=\"sk-label-container\"><div class=\"sk-label sk-toggleable\"><input class=\"sk-toggleable__control sk-hidden--visually\" id=\"4dfe8eaf-b60f-48d8-aea9-b0d1c47a278b\" type=\"checkbox\" ><label class=\"sk-toggleable__label\" for=\"4dfe8eaf-b60f-48d8-aea9-b0d1c47a278b\">ordinal_pipe</label><div class=\"sk-toggleable__content\"><pre>['age_group', 'education', 'income_poverty']</pre></div></div></div><div class=\"sk-serial\"><div class=\"sk-item\"><div class=\"sk-serial\"><div class=\"sk-item\"><div class=\"sk-estimator sk-toggleable\"><input class=\"sk-toggleable__control sk-hidden--visually\" id=\"b7c61502-f5d2-4dcb-9832-415a65d546ff\" type=\"checkbox\" ><label class=\"sk-toggleable__label\" for=\"b7c61502-f5d2-4dcb-9832-415a65d546ff\">SimpleImputer</label><div class=\"sk-toggleable__content\"><pre>SimpleImputer(strategy='most_frequent')</pre></div></div></div><div class=\"sk-item\"><div class=\"sk-estimator sk-toggleable\"><input class=\"sk-toggleable__control sk-hidden--visually\" id=\"d71bd4e1-be3d-4ecd-bc5c-60dcbc0adcfd\" type=\"checkbox\" ><label class=\"sk-toggleable__label\" for=\"d71bd4e1-be3d-4ecd-bc5c-60dcbc0adcfd\">OrdinalEncoder</label><div class=\"sk-toggleable__content\"><pre>OrdinalEncoder(categories=[['18 - 34 Years', '35 - 44 Years', '45 - 54 Years',\n",
       "                            '55 - 64 Years', '65+ Years'],\n",
       "                           ['< 12 Years', '12 Years', 'Some College',\n",
       "                            'College Graduate'],\n",
       "                           ['Below Poverty', '<= $75,000, Above Poverty',\n",
       "                            '> $75,000']])</pre></div></div></div><div class=\"sk-item\"><div class=\"sk-estimator sk-toggleable\"><input class=\"sk-toggleable__control sk-hidden--visually\" id=\"15025bb2-a075-4d46-acf1-d65e07564796\" type=\"checkbox\" ><label class=\"sk-toggleable__label\" for=\"15025bb2-a075-4d46-acf1-d65e07564796\">StandardScaler</label><div class=\"sk-toggleable__content\"><pre>StandardScaler()</pre></div></div></div></div></div></div></div></div><div class=\"sk-parallel-item\"><div class=\"sk-item\"><div class=\"sk-label-container\"><div class=\"sk-label sk-toggleable\"><input class=\"sk-toggleable__control sk-hidden--visually\" id=\"7c38c9b5-053b-423c-b5c5-3ce76bc9be8a\" type=\"checkbox\" ><label class=\"sk-toggleable__label\" for=\"7c38c9b5-053b-423c-b5c5-3ce76bc9be8a\">nominal_pipe</label><div class=\"sk-toggleable__content\"><pre>['race', 'employment_status', 'census_msa']</pre></div></div></div><div class=\"sk-serial\"><div class=\"sk-item\"><div class=\"sk-serial\"><div class=\"sk-item\"><div class=\"sk-estimator sk-toggleable\"><input class=\"sk-toggleable__control sk-hidden--visually\" id=\"f657f9e6-ac70-436d-9674-7ed24c0b4104\" type=\"checkbox\" ><label class=\"sk-toggleable__label\" for=\"f657f9e6-ac70-436d-9674-7ed24c0b4104\">SimpleImputer</label><div class=\"sk-toggleable__content\"><pre>SimpleImputer(strategy='most_frequent')</pre></div></div></div><div class=\"sk-item\"><div class=\"sk-estimator sk-toggleable\"><input class=\"sk-toggleable__control sk-hidden--visually\" id=\"849c66d3-5a4a-428e-900f-1c79179e8003\" type=\"checkbox\" ><label class=\"sk-toggleable__label\" for=\"849c66d3-5a4a-428e-900f-1c79179e8003\">OneHotEncoder</label><div class=\"sk-toggleable__content\"><pre>OneHotEncoder(sparse=False)</pre></div></div></div><div class=\"sk-item\"><div class=\"sk-estimator sk-toggleable\"><input class=\"sk-toggleable__control sk-hidden--visually\" id=\"ad9b1d4d-df04-4857-9a34-d414c4b46160\" type=\"checkbox\" ><label class=\"sk-toggleable__label\" for=\"ad9b1d4d-df04-4857-9a34-d414c4b46160\">MaxAbsScaler</label><div class=\"sk-toggleable__content\"><pre>MaxAbsScaler()</pre></div></div></div></div></div></div></div></div><div class=\"sk-parallel-item\"><div class=\"sk-item\"><div class=\"sk-label-container\"><div class=\"sk-label sk-toggleable\"><input class=\"sk-toggleable__control sk-hidden--visually\" id=\"31d7300c-cff6-4106-a0de-1b37506bea07\" type=\"checkbox\" ><label class=\"sk-toggleable__label\" for=\"31d7300c-cff6-4106-a0de-1b37506bea07\">num_pipe</label><div class=\"sk-toggleable__content\"><pre>Index(['h1n1_concern', 'h1n1_knowledge', 'behavioral_antiviral_meds',\n",
       "       'behavioral_avoidance', 'behavioral_face_mask', 'behavioral_wash_hands',\n",
       "       'behavioral_large_gatherings', 'behavioral_outside_home',\n",
       "       'behavioral_touch_face', 'doctor_recc_h1n1', 'doctor_recc_seasonal',\n",
       "       'chronic_med_condition', 'child_under_6_months', 'health_worker',\n",
       "       'health_insurance', 'opinion_h1n1_vacc_effective', 'opinion_h1n1_risk',\n",
       "       'opinion_h1n1_sick_from_vacc', 'opinion_seas_vacc_effective',\n",
       "       'opinion_seas_risk', 'opinion_seas_sick_from_vacc', 'household_adults',\n",
       "       'household_children', 'sex_Female', 'sex_Male',\n",
       "       'marital_status_Married', 'marital_status_Not Married',\n",
       "       'rent_or_own_Own', 'rent_or_own_Rent'],\n",
       "      dtype='object')</pre></div></div></div><div class=\"sk-serial\"><div class=\"sk-item\"><div class=\"sk-serial\"><div class=\"sk-item\"><div class=\"sk-estimator sk-toggleable\"><input class=\"sk-toggleable__control sk-hidden--visually\" id=\"0edb16f4-14ee-4001-bc65-3434ad713676\" type=\"checkbox\" ><label class=\"sk-toggleable__label\" for=\"0edb16f4-14ee-4001-bc65-3434ad713676\">SimpleImputer</label><div class=\"sk-toggleable__content\"><pre>SimpleImputer()</pre></div></div></div><div class=\"sk-item\"><div class=\"sk-estimator sk-toggleable\"><input class=\"sk-toggleable__control sk-hidden--visually\" id=\"530022c9-8d23-44f1-a30d-c14b37591f29\" type=\"checkbox\" ><label class=\"sk-toggleable__label\" for=\"530022c9-8d23-44f1-a30d-c14b37591f29\">StandardScaler</label><div class=\"sk-toggleable__content\"><pre>StandardScaler()</pre></div></div></div></div></div></div></div></div></div></div><div class=\"sk-item\"><div class=\"sk-estimator sk-toggleable\"><input class=\"sk-toggleable__control sk-hidden--visually\" id=\"82b54e66-15eb-4de7-b068-e78581f44af5\" type=\"checkbox\" ><label class=\"sk-toggleable__label\" for=\"82b54e66-15eb-4de7-b068-e78581f44af5\">SMOTE</label><div class=\"sk-toggleable__content\"><pre>SMOTE()</pre></div></div></div><div class=\"sk-item\"><div class=\"sk-estimator sk-toggleable\"><input class=\"sk-toggleable__control sk-hidden--visually\" id=\"6723a999-2666-453d-9787-0a6a99c50041\" type=\"checkbox\" ><label class=\"sk-toggleable__label\" for=\"6723a999-2666-453d-9787-0a6a99c50041\">GradientBoostingClassifier</label><div class=\"sk-toggleable__content\"><pre>GradientBoostingClassifier()</pre></div></div></div></div></div></div></div>"
      ],
      "text/plain": [
       "Pipeline(steps=[('preprocess',\n",
       "                 ColumnTransformer(transformers=[('ordinal_pipe',\n",
       "                                                  Pipeline(steps=[('ordimputer',\n",
       "                                                                   SimpleImputer(strategy='most_frequent')),\n",
       "                                                                  ('ordenc',\n",
       "                                                                   OrdinalEncoder(categories=[['18 '\n",
       "                                                                                               '- '\n",
       "                                                                                               '34 '\n",
       "                                                                                               'Years',\n",
       "                                                                                               '35 '\n",
       "                                                                                               '- '\n",
       "                                                                                               '44 '\n",
       "                                                                                               'Years',\n",
       "                                                                                               '45 '\n",
       "                                                                                               '- '\n",
       "                                                                                               '54 '\n",
       "                                                                                               'Years',\n",
       "                                                                                               '55 '\n",
       "                                                                                               '- '\n",
       "                                                                                               '64 '\n",
       "                                                                                               'Years',\n",
       "                                                                                               '65+ '\n",
       "                                                                                               'Years'],\n",
       "                                                                                              ['< '\n",
       "                                                                                               '12 '\n",
       "                                                                                               'Years',\n",
       "                                                                                               '12 '\n",
       "                                                                                               'Years',\n",
       "                                                                                               'Some '\n",
       "                                                                                               'College',\n",
       "                                                                                               'College '\n",
       "                                                                                               'Graduate'],\n",
       "                                                                                              ['Below '...\n",
       "       'health_insurance', 'opinion_h1n1_vacc_effective', 'opinion_h1n1_risk',\n",
       "       'opinion_h1n1_sick_from_vacc', 'opinion_seas_vacc_effective',\n",
       "       'opinion_seas_risk', 'opinion_seas_sick_from_vacc', 'household_adults',\n",
       "       'household_children', 'sex_Female', 'sex_Male',\n",
       "       'marital_status_Married', 'marital_status_Not Married',\n",
       "       'rent_or_own_Own', 'rent_or_own_Rent'],\n",
       "      dtype='object'))])),\n",
       "                ('smote', SMOTE()), ('model', GradientBoostingClassifier())])"
      ]
     },
     "execution_count": 54,
     "metadata": {},
     "output_type": "execute_result"
    }
   ],
   "source": [
    "pipeline_7.fit(X_train, y_train)"
   ]
  },
  {
   "cell_type": "code",
   "execution_count": 55,
   "metadata": {},
   "outputs": [],
   "source": [
    "y_pred7 = pipeline_7.predict(X_test)"
   ]
  },
  {
   "cell_type": "code",
   "execution_count": 56,
   "metadata": {},
   "outputs": [
    {
     "data": {
      "text/plain": [
       "<sklearn.metrics._plot.confusion_matrix.ConfusionMatrixDisplay at 0x183bedaf0a0>"
      ]
     },
     "execution_count": 56,
     "metadata": {},
     "output_type": "execute_result"
    },
    {
     "data": {
      "image/png": "[encoded data removed]",
      "text/plain": [
       "<Figure size 432x288 with 2 Axes>"
      ]
     },
     "metadata": {
      "needs_background": "light"
     },
     "output_type": "display_data"
    }
   ],
   "source": [
    "plot_confusion_matrix(pipeline_7, X_test,y_test)"
   ]
  },
  {
   "cell_type": "code",
   "execution_count": 57,
   "metadata": {},
   "outputs": [
    {
     "name": "stdout",
     "output_type": "stream",
     "text": [
      "              precision    recall  f1-score   support\n",
      "\n",
      "           0       0.88      0.93      0.90      6311\n",
      "           1       0.67      0.54      0.60      1702\n",
      "\n",
      "    accuracy                           0.85      8013\n",
      "   macro avg       0.78      0.73      0.75      8013\n",
      "weighted avg       0.84      0.85      0.84      8013\n",
      "\n"
     ]
    }
   ],
   "source": [
    "print(classification_report(y_test, y_pred7))"
   ]
  },
  {
   "cell_type": "code",
   "execution_count": 58,
   "metadata": {},
   "outputs": [
    {
     "data": {
      "text/plain": [
       "<sklearn.metrics._plot.roc_curve.RocCurveDisplay at 0x183c01f2a90>"
      ]
     },
     "execution_count": 58,
     "metadata": {},
     "output_type": "execute_result"
    },
    {
     "data": {
      "image/png": "[encoded data removed]",
      "text/plain": [
       "<Figure size 432x288 with 1 Axes>"
      ]
     },
     "metadata": {
      "needs_background": "light"
     },
     "output_type": "display_data"
    }
   ],
   "source": [
    "plot_roc_curve(pipeline_7, X_test, y_test)"
   ]
  },
  {
   "cell_type": "markdown",
   "metadata": {},
   "source": [
    "## Model 8 - Gradient Boosting + Hyperparameter Tuning"
   ]
  },
  {
   "cell_type": "code",
   "execution_count": 59,
   "metadata": {},
   "outputs": [],
   "source": [
    "pipeline_8 = Pipeline([(\"preprocess\",ct),\n",
    "                       (\"smote\",smt),\n",
    "                       (\"model\",GradientBoostingClassifier())])"
   ]
  },
  {
   "cell_type": "code",
   "execution_count": 60,
   "metadata": {},
   "outputs": [],
   "source": [
    "param_grid = {\n",
    "    'model__learning_rate': [0.1, 0.05, 0.01],\n",
    "    \"model__n_estimators\" : [32, 64, 100, 200],\n",
    "    \"model__max_depth\" : [3,5,7]\n",
    "}"
   ]
  },
  {
   "cell_type": "code",
   "execution_count": 61,
   "metadata": {},
   "outputs": [],
   "source": [
    "tuned_pipeline_8 = GridSearchCV(estimator=pipeline_8, \n",
    "                       param_grid=param_grid)"
   ]
  },
  {
   "cell_type": "code",
   "execution_count": 62,
   "metadata": {},
   "outputs": [
    {
     "data": {
      "text/html": [
       "<style>div.sk-top-container {color: black;background-color: white;}div.sk-toggleable {background-color: white;}label.sk-toggleable__label {cursor: pointer;display: block;width: 100%;margin-bottom: 0;padding: 0.2em 0.3em;box-sizing: border-box;text-align: center;}div.sk-toggleable__content {max-height: 0;max-width: 0;overflow: hidden;text-align: left;background-color: #f0f8ff;}div.sk-toggleable__content pre {margin: 0.2em;color: black;border-radius: 0.25em;background-color: #f0f8ff;}input.sk-toggleable__control:checked~div.sk-toggleable__content {max-height: 200px;max-width: 100%;overflow: auto;}div.sk-estimator input.sk-toggleable__control:checked~label.sk-toggleable__label {background-color: #d4ebff;}div.sk-label input.sk-toggleable__control:checked~label.sk-toggleable__label {background-color: #d4ebff;}input.sk-hidden--visually {border: 0;clip: rect(1px 1px 1px 1px);clip: rect(1px, 1px, 1px, 1px);height: 1px;margin: -1px;overflow: hidden;padding: 0;position: absolute;width: 1px;}div.sk-estimator {font-family: monospace;background-color: #f0f8ff;margin: 0.25em 0.25em;border: 1px dotted black;border-radius: 0.25em;box-sizing: border-box;}div.sk-estimator:hover {background-color: #d4ebff;}div.sk-parallel-item::after {content: \"\";width: 100%;border-bottom: 1px solid gray;flex-grow: 1;}div.sk-label:hover label.sk-toggleable__label {background-color: #d4ebff;}div.sk-serial::before {content: \"\";position: absolute;border-left: 1px solid gray;box-sizing: border-box;top: 2em;bottom: 0;left: 50%;}div.sk-serial {display: flex;flex-direction: column;align-items: center;background-color: white;}div.sk-item {z-index: 1;}div.sk-parallel {display: flex;align-items: stretch;justify-content: center;background-color: white;}div.sk-parallel-item {display: flex;flex-direction: column;position: relative;background-color: white;}div.sk-parallel-item:first-child::after {align-self: flex-end;width: 50%;}div.sk-parallel-item:last-child::after {align-self: flex-start;width: 50%;}div.sk-parallel-item:only-child::after {width: 0;}div.sk-dashed-wrapped {border: 1px dashed gray;margin: 0.2em;box-sizing: border-box;padding-bottom: 0.1em;background-color: white;position: relative;}div.sk-label label {font-family: monospace;font-weight: bold;background-color: white;display: inline-block;line-height: 1.2em;}div.sk-label-container {position: relative;z-index: 2;text-align: center;}div.sk-container {display: inline-block;position: relative;}</style><div class=\"sk-top-container\"><div class=\"sk-container\"><div class=\"sk-item sk-dashed-wrapped\"><div class=\"sk-label-container\"><div class=\"sk-label sk-toggleable\"><input class=\"sk-toggleable__control sk-hidden--visually\" id=\"f16294c2-6a7f-420b-934c-a796125c6fd2\" type=\"checkbox\" ><label class=\"sk-toggleable__label\" for=\"f16294c2-6a7f-420b-934c-a796125c6fd2\">GridSearchCV</label><div class=\"sk-toggleable__content\"><pre>GridSearchCV(estimator=Pipeline(steps=[('preprocess',\n",
       "                                        ColumnTransformer(transformers=[('ordinal_pipe',\n",
       "                                                                         Pipeline(steps=[('ordimputer',\n",
       "                                                                                          SimpleImputer(strategy='most_frequent')),\n",
       "                                                                                         ('ordenc',\n",
       "                                                                                          OrdinalEncoder(categories=[['18 '\n",
       "                                                                                                                      '- '\n",
       "                                                                                                                      '34 '\n",
       "                                                                                                                      'Years',\n",
       "                                                                                                                      '35 '\n",
       "                                                                                                                      '- '\n",
       "                                                                                                                      '44 '\n",
       "                                                                                                                      'Years',\n",
       "                                                                                                                      '45 '\n",
       "                                                                                                                      '- '\n",
       "                                                                                                                      '54 '\n",
       "                                                                                                                      'Years',\n",
       "                                                                                                                      '55 '\n",
       "                                                                                                                      '- '\n",
       "                                                                                                                      '64 '\n",
       "                                                                                                                      'Years',\n",
       "                                                                                                                      '65+ '\n",
       "                                                                                                                      'Years'],\n",
       "                                                                                                                     ['< '\n",
       "                                                                                                                      '12 '\n",
       "                                                                                                                      'Years',\n",
       "                                                                                                                      '12 '\n",
       "                                                                                                                      'Years',\n",
       "                                                                                                                      'Some '\n",
       "                                                                                                                      'College',\n",
       "                                                                                                                      'Colle...\n",
       "       'opinion_seas_risk', 'opinion_seas_sick_from_vacc', 'household_adults',\n",
       "       'household_children', 'sex_Female', 'sex_Male',\n",
       "       'marital_status_Married', 'marital_status_Not Married',\n",
       "       'rent_or_own_Own', 'rent_or_own_Rent'],\n",
       "      dtype='object'))])),\n",
       "                                       ('smote', SMOTE()),\n",
       "                                       ('model',\n",
       "                                        GradientBoostingClassifier())]),\n",
       "             param_grid={'model__learning_rate': [0.1, 0.05, 0.01],\n",
       "                         'model__max_depth': [3, 5, 7],\n",
       "                         'model__n_estimators': [32, 64, 100, 200]})</pre></div></div></div><div class=\"sk-parallel\"><div class=\"sk-parallel-item\"><div class=\"sk-item\"><div class=\"sk-serial\"><div class=\"sk-item\"><div class=\"sk-serial\"><div class=\"sk-item sk-dashed-wrapped\"><div class=\"sk-label-container\"><div class=\"sk-label sk-toggleable\"><input class=\"sk-toggleable__control sk-hidden--visually\" id=\"527e6d0b-204e-424c-b1d2-1b46c64e6b70\" type=\"checkbox\" ><label class=\"sk-toggleable__label\" for=\"527e6d0b-204e-424c-b1d2-1b46c64e6b70\">preprocess: ColumnTransformer</label><div class=\"sk-toggleable__content\"><pre>ColumnTransformer(transformers=[('ordinal_pipe',\n",
       "                                 Pipeline(steps=[('ordimputer',\n",
       "                                                  SimpleImputer(strategy='most_frequent')),\n",
       "                                                 ('ordenc',\n",
       "                                                  OrdinalEncoder(categories=[['18 '\n",
       "                                                                              '- '\n",
       "                                                                              '34 '\n",
       "                                                                              'Years',\n",
       "                                                                              '35 '\n",
       "                                                                              '- '\n",
       "                                                                              '44 '\n",
       "                                                                              'Years',\n",
       "                                                                              '45 '\n",
       "                                                                              '- '\n",
       "                                                                              '54 '\n",
       "                                                                              'Years',\n",
       "                                                                              '55 '\n",
       "                                                                              '- '\n",
       "                                                                              '64 '\n",
       "                                                                              'Years',\n",
       "                                                                              '65+ '\n",
       "                                                                              'Years'],\n",
       "                                                                             ['< '\n",
       "                                                                              '12 '\n",
       "                                                                              'Years',\n",
       "                                                                              '12 '\n",
       "                                                                              'Years',\n",
       "                                                                              'Some '\n",
       "                                                                              'College',\n",
       "                                                                              'College '\n",
       "                                                                              'Graduate'],\n",
       "                                                                             ['Below '\n",
       "                                                                              'Poverty',\n",
       "                                                                              '<= '\n",
       "                                                                              '$75,000, '\n",
       "                                                                              'Above...\n",
       "       'health_insurance', 'opinion_h1n1_vacc_effective', 'opinion_h1n1_risk',\n",
       "       'opinion_h1n1_sick_from_vacc', 'opinion_seas_vacc_effective',\n",
       "       'opinion_seas_risk', 'opinion_seas_sick_from_vacc', 'household_adults',\n",
       "       'household_children', 'sex_Female', 'sex_Male',\n",
       "       'marital_status_Married', 'marital_status_Not Married',\n",
       "       'rent_or_own_Own', 'rent_or_own_Rent'],\n",
       "      dtype='object'))])</pre></div></div></div><div class=\"sk-parallel\"><div class=\"sk-parallel-item\"><div class=\"sk-item\"><div class=\"sk-label-container\"><div class=\"sk-label sk-toggleable\"><input class=\"sk-toggleable__control sk-hidden--visually\" id=\"c16d575a-6d41-4bf8-bfe7-e3c1d3612732\" type=\"checkbox\" ><label class=\"sk-toggleable__label\" for=\"c16d575a-6d41-4bf8-bfe7-e3c1d3612732\">ordinal_pipe</label><div class=\"sk-toggleable__content\"><pre>['age_group', 'education', 'income_poverty']</pre></div></div></div><div class=\"sk-serial\"><div class=\"sk-item\"><div class=\"sk-serial\"><div class=\"sk-item\"><div class=\"sk-estimator sk-toggleable\"><input class=\"sk-toggleable__control sk-hidden--visually\" id=\"edeb1583-80e4-42c8-8700-2371f7971c80\" type=\"checkbox\" ><label class=\"sk-toggleable__label\" for=\"edeb1583-80e4-42c8-8700-2371f7971c80\">SimpleImputer</label><div class=\"sk-toggleable__content\"><pre>SimpleImputer(strategy='most_frequent')</pre></div></div></div><div class=\"sk-item\"><div class=\"sk-estimator sk-toggleable\"><input class=\"sk-toggleable__control sk-hidden--visually\" id=\"0776261c-67e3-4428-aec9-5509fc7565f6\" type=\"checkbox\" ><label class=\"sk-toggleable__label\" for=\"0776261c-67e3-4428-aec9-5509fc7565f6\">OrdinalEncoder</label><div class=\"sk-toggleable__content\"><pre>OrdinalEncoder(categories=[['18 - 34 Years', '35 - 44 Years', '45 - 54 Years',\n",
       "                            '55 - 64 Years', '65+ Years'],\n",
       "                           ['< 12 Years', '12 Years', 'Some College',\n",
       "                            'College Graduate'],\n",
       "                           ['Below Poverty', '<= $75,000, Above Poverty',\n",
       "                            '> $75,000']])</pre></div></div></div><div class=\"sk-item\"><div class=\"sk-estimator sk-toggleable\"><input class=\"sk-toggleable__control sk-hidden--visually\" id=\"1e44042c-e963-473f-8f19-167ad2135c83\" type=\"checkbox\" ><label class=\"sk-toggleable__label\" for=\"1e44042c-e963-473f-8f19-167ad2135c83\">StandardScaler</label><div class=\"sk-toggleable__content\"><pre>StandardScaler()</pre></div></div></div></div></div></div></div></div><div class=\"sk-parallel-item\"><div class=\"sk-item\"><div class=\"sk-label-container\"><div class=\"sk-label sk-toggleable\"><input class=\"sk-toggleable__control sk-hidden--visually\" id=\"906a9dd9-1da3-434d-b11b-2efd3323599b\" type=\"checkbox\" ><label class=\"sk-toggleable__label\" for=\"906a9dd9-1da3-434d-b11b-2efd3323599b\">nominal_pipe</label><div class=\"sk-toggleable__content\"><pre>['race', 'employment_status', 'census_msa']</pre></div></div></div><div class=\"sk-serial\"><div class=\"sk-item\"><div class=\"sk-serial\"><div class=\"sk-item\"><div class=\"sk-estimator sk-toggleable\"><input class=\"sk-toggleable__control sk-hidden--visually\" id=\"0a9f0a56-722e-432b-8828-56eb492de5a5\" type=\"checkbox\" ><label class=\"sk-toggleable__label\" for=\"0a9f0a56-722e-432b-8828-56eb492de5a5\">SimpleImputer</label><div class=\"sk-toggleable__content\"><pre>SimpleImputer(strategy='most_frequent')</pre></div></div></div><div class=\"sk-item\"><div class=\"sk-estimator sk-toggleable\"><input class=\"sk-toggleable__control sk-hidden--visually\" id=\"2e9f045f-cb35-4f94-aef5-14ff5ddd005a\" type=\"checkbox\" ><label class=\"sk-toggleable__label\" for=\"2e9f045f-cb35-4f94-aef5-14ff5ddd005a\">OneHotEncoder</label><div class=\"sk-toggleable__content\"><pre>OneHotEncoder(sparse=False)</pre></div></div></div><div class=\"sk-item\"><div class=\"sk-estimator sk-toggleable\"><input class=\"sk-toggleable__control sk-hidden--visually\" id=\"f847e0b7-417a-46af-9446-162dfe09b487\" type=\"checkbox\" ><label class=\"sk-toggleable__label\" for=\"f847e0b7-417a-46af-9446-162dfe09b487\">MaxAbsScaler</label><div class=\"sk-toggleable__content\"><pre>MaxAbsScaler()</pre></div></div></div></div></div></div></div></div><div class=\"sk-parallel-item\"><div class=\"sk-item\"><div class=\"sk-label-container\"><div class=\"sk-label sk-toggleable\"><input class=\"sk-toggleable__control sk-hidden--visually\" id=\"8dee002c-0508-4c74-9319-ee2c27372803\" type=\"checkbox\" ><label class=\"sk-toggleable__label\" for=\"8dee002c-0508-4c74-9319-ee2c27372803\">num_pipe</label><div class=\"sk-toggleable__content\"><pre>Index(['h1n1_concern', 'h1n1_knowledge', 'behavioral_antiviral_meds',\n",
       "       'behavioral_avoidance', 'behavioral_face_mask', 'behavioral_wash_hands',\n",
       "       'behavioral_large_gatherings', 'behavioral_outside_home',\n",
       "       'behavioral_touch_face', 'doctor_recc_h1n1', 'doctor_recc_seasonal',\n",
       "       'chronic_med_condition', 'child_under_6_months', 'health_worker',\n",
       "       'health_insurance', 'opinion_h1n1_vacc_effective', 'opinion_h1n1_risk',\n",
       "       'opinion_h1n1_sick_from_vacc', 'opinion_seas_vacc_effective',\n",
       "       'opinion_seas_risk', 'opinion_seas_sick_from_vacc', 'household_adults',\n",
       "       'household_children', 'sex_Female', 'sex_Male',\n",
       "       'marital_status_Married', 'marital_status_Not Married',\n",
       "       'rent_or_own_Own', 'rent_or_own_Rent'],\n",
       "      dtype='object')</pre></div></div></div><div class=\"sk-serial\"><div class=\"sk-item\"><div class=\"sk-serial\"><div class=\"sk-item\"><div class=\"sk-estimator sk-toggleable\"><input class=\"sk-toggleable__control sk-hidden--visually\" id=\"4a91f816-592e-42ab-a7c4-51ae022b2a1b\" type=\"checkbox\" ><label class=\"sk-toggleable__label\" for=\"4a91f816-592e-42ab-a7c4-51ae022b2a1b\">SimpleImputer</label><div class=\"sk-toggleable__content\"><pre>SimpleImputer()</pre></div></div></div><div class=\"sk-item\"><div class=\"sk-estimator sk-toggleable\"><input class=\"sk-toggleable__control sk-hidden--visually\" id=\"66fb3c4d-8f92-4041-aa10-f4879c2ec971\" type=\"checkbox\" ><label class=\"sk-toggleable__label\" for=\"66fb3c4d-8f92-4041-aa10-f4879c2ec971\">StandardScaler</label><div class=\"sk-toggleable__content\"><pre>StandardScaler()</pre></div></div></div></div></div></div></div></div></div></div><div class=\"sk-item\"><div class=\"sk-estimator sk-toggleable\"><input class=\"sk-toggleable__control sk-hidden--visually\" id=\"2db28628-5732-4e8b-a845-20412fc71ac7\" type=\"checkbox\" ><label class=\"sk-toggleable__label\" for=\"2db28628-5732-4e8b-a845-20412fc71ac7\">SMOTE</label><div class=\"sk-toggleable__content\"><pre>SMOTE()</pre></div></div></div><div class=\"sk-item\"><div class=\"sk-estimator sk-toggleable\"><input class=\"sk-toggleable__control sk-hidden--visually\" id=\"26e0b8ed-4c1c-4968-819f-d6e2f8b74362\" type=\"checkbox\" ><label class=\"sk-toggleable__label\" for=\"26e0b8ed-4c1c-4968-819f-d6e2f8b74362\">GradientBoostingClassifier</label><div class=\"sk-toggleable__content\"><pre>GradientBoostingClassifier()</pre></div></div></div></div></div></div></div></div></div></div></div></div>"
      ],
      "text/plain": [
       "GridSearchCV(estimator=Pipeline(steps=[('preprocess',\n",
       "                                        ColumnTransformer(transformers=[('ordinal_pipe',\n",
       "                                                                         Pipeline(steps=[('ordimputer',\n",
       "                                                                                          SimpleImputer(strategy='most_frequent')),\n",
       "                                                                                         ('ordenc',\n",
       "                                                                                          OrdinalEncoder(categories=[['18 '\n",
       "                                                                                                                      '- '\n",
       "                                                                                                                      '34 '\n",
       "                                                                                                                      'Years',\n",
       "                                                                                                                      '35 '\n",
       "                                                                                                                      '- '\n",
       "                                                                                                                      '44 '\n",
       "                                                                                                                      'Years',\n",
       "                                                                                                                      '45 '\n",
       "                                                                                                                      '- '\n",
       "                                                                                                                      '54 '\n",
       "                                                                                                                      'Years',\n",
       "                                                                                                                      '55 '\n",
       "                                                                                                                      '- '\n",
       "                                                                                                                      '64 '\n",
       "                                                                                                                      'Years',\n",
       "                                                                                                                      '65+ '\n",
       "                                                                                                                      'Years'],\n",
       "                                                                                                                     ['< '\n",
       "                                                                                                                      '12 '\n",
       "                                                                                                                      'Years',\n",
       "                                                                                                                      '12 '\n",
       "                                                                                                                      'Years',\n",
       "                                                                                                                      'Some '\n",
       "                                                                                                                      'College',\n",
       "                                                                                                                      'Colle...\n",
       "       'opinion_seas_risk', 'opinion_seas_sick_from_vacc', 'household_adults',\n",
       "       'household_children', 'sex_Female', 'sex_Male',\n",
       "       'marital_status_Married', 'marital_status_Not Married',\n",
       "       'rent_or_own_Own', 'rent_or_own_Rent'],\n",
       "      dtype='object'))])),\n",
       "                                       ('smote', SMOTE()),\n",
       "                                       ('model',\n",
       "                                        GradientBoostingClassifier())]),\n",
       "             param_grid={'model__learning_rate': [0.1, 0.05, 0.01],\n",
       "                         'model__max_depth': [3, 5, 7],\n",
       "                         'model__n_estimators': [32, 64, 100, 200]})"
      ]
     },
     "execution_count": 62,
     "metadata": {},
     "output_type": "execute_result"
    }
   ],
   "source": [
    "tuned_pipeline_8.fit(X_train, y_train)"
   ]
  },
  {
   "cell_type": "code",
   "execution_count": 63,
   "metadata": {},
   "outputs": [
    {
     "data": {
      "text/plain": [
       "{'model__learning_rate': 0.05,\n",
       " 'model__max_depth': 5,\n",
       " 'model__n_estimators': 200}"
      ]
     },
     "execution_count": 63,
     "metadata": {},
     "output_type": "execute_result"
    }
   ],
   "source": [
    "tuned_pipeline_8.best_params_"
   ]
  },
  {
   "cell_type": "code",
   "execution_count": 64,
   "metadata": {},
   "outputs": [],
   "source": [
    "y_pred8 = tuned_pipeline_8.predict(X_test)"
   ]
  },
  {
   "cell_type": "code",
   "execution_count": 65,
   "metadata": {},
   "outputs": [
    {
     "data": {
      "text/plain": [
       "<sklearn.metrics._plot.confusion_matrix.ConfusionMatrixDisplay at 0x183bf07ed00>"
      ]
     },
     "execution_count": 65,
     "metadata": {},
     "output_type": "execute_result"
    },
    {
     "data": {
      "image/png": "[encoded data removed]",
      "text/plain": [
       "<Figure size 432x288 with 2 Axes>"
      ]
     },
     "metadata": {
      "needs_background": "light"
     },
     "output_type": "display_data"
    }
   ],
   "source": [
    "plot_confusion_matrix(tuned_pipeline_8, X_test,y_test)"
   ]
  },
  {
   "cell_type": "code",
   "execution_count": 66,
   "metadata": {},
   "outputs": [
    {
     "name": "stdout",
     "output_type": "stream",
     "text": [
      "              precision    recall  f1-score   support\n",
      "\n",
      "           0       0.88      0.93      0.91      6311\n",
      "           1       0.68      0.53      0.59      1702\n",
      "\n",
      "    accuracy                           0.85      8013\n",
      "   macro avg       0.78      0.73      0.75      8013\n",
      "weighted avg       0.84      0.85      0.84      8013\n",
      "\n"
     ]
    }
   ],
   "source": [
    "print(classification_report(y_test, y_pred8))"
   ]
  },
  {
   "cell_type": "code",
   "execution_count": 67,
   "metadata": {},
   "outputs": [
    {
     "data": {
      "text/plain": [
       "<sklearn.metrics._plot.roc_curve.RocCurveDisplay at 0x183c01159d0>"
      ]
     },
     "execution_count": 67,
     "metadata": {},
     "output_type": "execute_result"
    },
    {
     "data": {
      "image/png": "[encoded data removed]",
      "text/plain": [
       "<Figure size 432x288 with 1 Axes>"
      ]
     },
     "metadata": {
      "needs_background": "light"
     },
     "output_type": "display_data"
    }
   ],
   "source": [
    "plot_roc_curve(tuned_pipeline_8, X_test, y_test)"
   ]
  },
  {
   "cell_type": "markdown",
   "metadata": {},
   "source": [
    "## Feature Importance "
   ]
  },
  {
   "cell_type": "code",
   "execution_count": 68,
   "metadata": {},
   "outputs": [],
   "source": [
    "final_pipe = Pipeline([(\"preprocess\",ct),\n",
    "                       (\"smote\",smt),\n",
    "                       (\"model\",GradientBoostingClassifier(learning_rate=0.1,\n",
    "                                                          max_depth=5,\n",
    "                                                          n_estimators=100))])"
   ]
  },
  {
   "cell_type": "code",
   "execution_count": 69,
   "metadata": {},
   "outputs": [],
   "source": [
    "final_pipe = final_pipe.fit(X_train, y_train)"
   ]
  },
  {
   "cell_type": "code",
   "execution_count": 70,
   "metadata": {},
   "outputs": [
    {
     "data": {
      "text/plain": [
       "array([8.74569327e-03, 1.32824866e-02, 9.76898738e-04, 2.25175386e-03,\n",
       "       1.23778053e-03, 2.79462543e-04, 5.08079880e-03, 3.37992113e-03,\n",
       "       2.07142882e-03, 5.38351229e-04, 5.60778106e-03, 2.12996889e-03,\n",
       "       6.38444743e-03, 5.87572998e-03, 1.86749222e-02, 1.30241378e-03,\n",
       "       7.36083060e-04, 7.86454875e-04, 5.59470130e-04, 1.02529827e-03,\n",
       "       3.77812121e-04, 6.58402842e-04, 1.47784590e-01, 7.77932789e-03,\n",
       "       6.79490808e-04, 1.06831843e-03, 2.25016524e-02, 2.08888891e-01,\n",
       "       3.08795329e-01, 1.40665869e-01, 6.40849751e-03, 2.71659413e-02,\n",
       "       2.52124308e-02, 1.21511806e-02, 2.78101225e-03, 2.11096793e-03,\n",
       "       8.47100077e-04, 7.77527953e-04, 2.69314911e-04, 8.42632593e-04,\n",
       "       8.06495724e-04, 5.00068825e-04])"
      ]
     },
     "execution_count": 70,
     "metadata": {},
     "output_type": "execute_result"
    }
   ],
   "source": [
    "importances = final_pipe.named_steps['model'].feature_importances_\n",
    "importances"
   ]
  },
  {
   "cell_type": "code",
   "execution_count": 71,
   "metadata": {},
   "outputs": [
    {
     "data": {
      "text/plain": [
       "Index(['h1n1_concern', 'h1n1_knowledge', 'behavioral_antiviral_meds',\n",
       "       'behavioral_avoidance', 'behavioral_face_mask', 'behavioral_wash_hands',\n",
       "       'behavioral_large_gatherings', 'behavioral_outside_home',\n",
       "       'behavioral_touch_face', 'doctor_recc_h1n1', 'doctor_recc_seasonal',\n",
       "       'chronic_med_condition', 'child_under_6_months', 'health_worker',\n",
       "       'health_insurance', 'opinion_h1n1_vacc_effective', 'opinion_h1n1_risk',\n",
       "       'opinion_h1n1_sick_from_vacc', 'opinion_seas_vacc_effective',\n",
       "       'opinion_seas_risk', 'opinion_seas_sick_from_vacc', 'age_group',\n",
       "       'education', 'race', 'income_poverty', 'employment_status',\n",
       "       'census_msa', 'household_adults', 'household_children',\n",
       "       'seasonal_vaccine', 'sex_Female', 'sex_Male', 'marital_status_Married',\n",
       "       'marital_status_Not Married', 'rent_or_own_Own', 'rent_or_own_Rent'],\n",
       "      dtype='object')"
      ]
     },
     "execution_count": 71,
     "metadata": {},
     "output_type": "execute_result"
    }
   ],
   "source": [
    "col = X_train.columns\n",
    "col"
   ]
  },
  {
   "cell_type": "code",
   "execution_count": 72,
   "metadata": {},
   "outputs": [
    {
     "data": {
      "text/plain": [
       "array(['x0_Black', 'x0_Hispanic', 'x0_Other or Multiple', 'x0_White',\n",
       "       'x1_Employed', 'x1_Not in Labor Force', 'x1_Unemployed',\n",
       "       'x2_MSA, Not Principle  City', 'x2_MSA, Principle City',\n",
       "       'x2_Non-MSA'], dtype=object)"
      ]
     },
     "execution_count": 72,
     "metadata": {},
     "output_type": "execute_result"
    }
   ],
   "source": [
    "enc_col = final_pipe.steps[0][1].transformers_[1][1].steps[1][1].get_feature_names()\n",
    "enc_col"
   ]
  },
  {
   "cell_type": "code",
   "execution_count": 73,
   "metadata": {},
   "outputs": [],
   "source": [
    "names = ['h1n1_concern', 'h1n1_knowledge', 'behavioral_antiviral_meds',\n",
    "       'behavioral_avoidance', 'behavioral_face_mask', 'behavioral_wash_hands',\n",
    "       'behavioral_large_gatherings', 'behavioral_outside_home',\n",
    "       'behavioral_touch_face', 'doctor_recc_h1n1', 'doctor_recc_seasonal',\n",
    "       'chronic_med_condition', 'child_under_6_months', 'health_worker',\n",
    "       'health_insurance', 'opinion_h1n1_vacc_effective', 'opinion_h1n1_risk',\n",
    "       'opinion_h1n1_sick_from_vacc', 'opinion_seas_vacc_effective',\n",
    "       'opinion_seas_risk', 'opinion_seas_sick_from_vacc', 'age_group',\n",
    "       'education', 'black', 'hispanic','Other or Multiple','White',\n",
    "         'income_poverty', 'Employed', 'Not in Labor Force', 'Unemployed',\n",
    "       'MSA Not Principle', 'MSA Principle','Non-MSA','household_adults', 'household_children',\n",
    "       'seasonal_vaccine', 'sex_Female', 'sex_Male', 'marital_status_Married',\n",
    "       'marital_status_Not Married', 'rent_or_own_Own', 'rent_or_own_Rent']"
   ]
  },
  {
   "cell_type": "code",
   "execution_count": 74,
   "metadata": {
    "scrolled": false
   },
   "outputs": [
    {
     "data": {
      "text/plain": [
       "[('Employed', 0.3087953294813999),\n",
       " ('income_poverty', 0.20888889133438224),\n",
       " ('education', 0.14778458976820308),\n",
       " ('Not in Labor Force', 0.1406658692290269),\n",
       " ('MSA Not Principle', 0.02716594127134808),\n",
       " ('MSA Principle', 0.025212430818921463),\n",
       " ('White', 0.022501652408162143),\n",
       " ('health_insurance', 0.01867492223997865),\n",
       " ('h1n1_knowledge', 0.013282486610836287),\n",
       " ('Non-MSA', 0.012151180596701954)]"
      ]
     },
     "execution_count": 74,
     "metadata": {},
     "output_type": "execute_result"
    }
   ],
   "source": [
    "feature_importance = dict(zip(names,importances))\n",
    "sorted_feat = sorted(feature_importance.items(), key=lambda x:x[1],reverse=True)\n",
    "sorted_feat = sorted_feat[:10]\n",
    "sorted_feat"
   ]
  },
  {
   "cell_type": "code",
   "execution_count": 75,
   "metadata": {},
   "outputs": [
    {
     "name": "stderr",
     "output_type": "stream",
     "text": [
      "C:\\Users\\biann\\anaconda3\\envs\\learn-env\\lib\\site-packages\\seaborn\\_decorators.py:36: FutureWarning: Pass the following variables as keyword args: x, y. From version 0.12, the only valid positional argument will be `data`, and passing other arguments without an explicit keyword will result in an error or misinterpretation.\n",
      "  warnings.warn(\n"
     ]
    },
    {
     "data": {
      "text/plain": [
       "<AxesSubplot:title={'center':'Gradient Boosting Model Feature Importance'}, xlabel='Features', ylabel='Feature Importance Score '>"
      ]
     },
     "execution_count": 75,
     "metadata": {},
     "output_type": "execute_result"
    },
    {
     "data": {
      "image/png": "[encoded data removed]",
      "text/plain": [
       "<Figure size 432x288 with 1 Axes>"
      ]
     },
     "metadata": {
      "needs_background": "light"
     },
     "output_type": "display_data"
    }
   ],
   "source": [
    "x = [x[0] for x in sorted_feat]\n",
    "y = [x[1] for x in sorted_feat]\n",
    "fig, ax = plt.subplots()\n",
    "plt.xticks(rotation=45, ha='right')\n",
    "\n",
    "plt.xlabel('Features', fontsize =10)\n",
    "plt.ylabel('Feature Importance Score ', fontsize =10)\n",
    "ax.set_title('Gradient Boosting Model Feature Importance', fontsize= 12, pad =12)\n",
    "\n",
    "sns.barplot(x,y,palette=\"Spectral\")"
   ]
  },
  {
   "cell_type": "code",
   "execution_count": null,
   "metadata": {},
   "outputs": [],
   "source": []
  }
 ],
 "metadata": {
  "kernelspec": {
   "display_name": "Python (learn-env)",
   "language": "python",
   "name": "learn-env"
  },
  "language_info": {
   "codemirror_mode": {
    "name": "ipython",
    "version": 3
   },
   "file_extension": ".py",
   "mimetype": "text/x-python",
   "name": "python",
   "nbconvert_exporter": "python",
   "pygments_lexer": "ipython3",
   "version": "3.8.5"
  }
 },
 "nbformat": 4,
 "nbformat_minor": 4
}
