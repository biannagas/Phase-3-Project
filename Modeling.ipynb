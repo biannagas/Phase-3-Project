{
 "cells": [
  {
   "cell_type": "code",
   "execution_count": 1,
   "metadata": {},
   "outputs": [],
   "source": [
    "import pandas as pd\n",
    "training = pd.read_pickle(\"training_joined\")"
   ]
  },
  {
   "cell_type": "code",
   "execution_count": 2,
   "metadata": {},
   "outputs": [],
   "source": [
    "import numpy as np\n",
    "import pandas as pd\n",
    "from matplotlib import pyplot as plt\n",
    "import seaborn as sns\n",
    "from scipy import stats as stats\n",
    "\n",
    "from sklearn.linear_model import LogisticRegression\n",
    "from sklearn.neighbors import KNeighborsClassifier\n",
    "from sklearn.tree import DecisionTreeClassifier\n",
    "\n",
    "from sklearn.metrics import precision_score, recall_score, plot_confusion_matrix,classification_report\n",
    "from sklearn.model_selection import train_test_split, GridSearchCV,\\\n",
    "cross_val_score, RandomizedSearchCV\n",
    "\n",
    "from sklearn.preprocessing import Normalizer\n",
    "\n",
    "from sklearn.compose import ColumnTransformer\n",
    "\n",
    "from sklearn.pipeline import Pipeline\n",
    "from sklearn import set_config\n",
    "set_config(display= 'diagram')\n",
    "\n",
    "from sklearn.pipeline import Pipeline\n",
    "from imblearn.pipeline import Pipeline\n",
    "from sklearn.impute import SimpleImputer\n",
    "from sklearn.preprocessing import LabelEncoder\n",
    "from sklearn.preprocessing import OrdinalEncoder\n",
    "from sklearn.preprocessing import OneHotEncoder\n",
    "from sklearn.preprocessing import StandardScaler\n",
    "from sklearn.preprocessing import MaxAbsScaler\n",
    "from sklearn.compose import ColumnTransformer\n",
    "\n",
    "from sklearn.metrics import plot_roc_curve\n",
    "from sklearn.metrics import roc_auc_score\n",
    "\n",
    "from imblearn.over_sampling import RandomOverSampler\n",
    "from imblearn.under_sampling import RandomUnderSampler\n",
    "\n"
   ]
  },
  {
   "cell_type": "code",
   "execution_count": 3,
   "metadata": {},
   "outputs": [],
   "source": [
    "X = training.drop(columns = \"h1n1_vaccine\",axis=1)\n",
    "y = training[\"h1n1_vaccine\"]\n",
    "\n",
    "X_train, X_test, y_train, y_test = train_test_split(X, y, stratify = y, test_size = 0.30, random_state = 42)"
   ]
  },
  {
   "cell_type": "code",
   "execution_count": 4,
   "metadata": {},
   "outputs": [
    {
     "data": {
      "text/plain": [
       "h1n1_concern                   float64\n",
       "h1n1_knowledge                 float64\n",
       "behavioral_antiviral_meds      float64\n",
       "behavioral_avoidance           float64\n",
       "behavioral_face_mask           float64\n",
       "behavioral_wash_hands          float64\n",
       "behavioral_large_gatherings    float64\n",
       "behavioral_outside_home        float64\n",
       "behavioral_touch_face          float64\n",
       "doctor_recc_h1n1               float64\n",
       "doctor_recc_seasonal           float64\n",
       "chronic_med_condition          float64\n",
       "child_under_6_months           float64\n",
       "health_worker                  float64\n",
       "health_insurance               float64\n",
       "opinion_h1n1_vacc_effective    float64\n",
       "opinion_h1n1_risk              float64\n",
       "opinion_h1n1_sick_from_vacc    float64\n",
       "opinion_seas_vacc_effective    float64\n",
       "opinion_seas_risk              float64\n",
       "opinion_seas_sick_from_vacc    float64\n",
       "age_group                       object\n",
       "education                       object\n",
       "race                            object\n",
       "sex                             object\n",
       "income_poverty                  object\n",
       "marital_status                  object\n",
       "rent_or_own                     object\n",
       "employment_status               object\n",
       "census_msa                      object\n",
       "household_adults               float64\n",
       "household_children             float64\n",
       "seasonal_vaccine                 int64\n",
       "dtype: object"
      ]
     },
     "execution_count": 4,
     "metadata": {},
     "output_type": "execute_result"
    }
   ],
   "source": [
    "X.dtypes"
   ]
  },
  {
   "cell_type": "code",
   "execution_count": 5,
   "metadata": {},
   "outputs": [
    {
     "name": "stdout",
     "output_type": "stream",
     "text": [
      "age_group:\n",
      " 65+ Years        25.622496\n",
      "55 - 64 Years    20.829745\n",
      "45 - 54 Years    19.612836\n",
      "18 - 34 Years    19.526716\n",
      "35 - 44 Years    14.408208\n",
      "Name: age_group, dtype: float64 \n",
      "\n",
      "education:\n",
      " College Graduate    39.909091\n",
      "Some College        27.837945\n",
      "12 Years            22.913043\n",
      "< 12 Years           9.339921\n",
      "Name: education, dtype: float64 \n",
      "\n",
      "race:\n",
      " White                79.462313\n",
      "Black                 7.930505\n",
      "Hispanic              6.571311\n",
      "Other or Multiple     6.035871\n",
      "Name: race, dtype: float64 \n",
      "\n",
      "sex:\n",
      " Female    59.377691\n",
      "Male      40.622309\n",
      "Name: sex, dtype: float64 \n",
      "\n",
      "income_poverty:\n",
      " <= $75,000, Above Poverty    57.337103\n",
      "> $75,000                    30.560043\n",
      "Below Poverty                12.102854\n",
      "Name: income_poverty, dtype: float64 \n",
      "\n",
      "marital_status:\n",
      " Married        53.579193\n",
      "Not Married    46.420807\n",
      "Name: marital_status, dtype: float64 \n",
      "\n",
      "rent_or_own:\n",
      " Own     75.961889\n",
      "Rent    24.038111\n",
      "Name: rent_or_own, dtype: float64 \n",
      "\n",
      "employment_status:\n",
      " Employed              53.715734\n",
      "Not in Labor Force    40.528442\n",
      "Unemployed             5.755823\n",
      "Name: employment_status, dtype: float64 \n",
      "\n",
      "census_msa:\n",
      " MSA, Not Principle  City    43.602801\n",
      "MSA, Principle City         29.445464\n",
      "Non-MSA                     26.951736\n",
      "Name: census_msa, dtype: float64 \n",
      "\n"
     ]
    }
   ],
   "source": [
    "for col in training.columns[training.dtypes == \"object\"]:\n",
    "    print(f'{col}:\\n', training[col].value_counts(normalize = True)*100, '\\n')"
   ]
  },
  {
   "cell_type": "markdown",
   "metadata": {},
   "source": [
    "## Model 1 - Baseline Logistic Regression"
   ]
  },
  {
   "cell_type": "code",
   "execution_count": 6,
   "metadata": {},
   "outputs": [],
   "source": [
    "age_list = [\"18 - 34 Years\", \"35 - 44 Years\",\"45 - 54 Years\",\"55 - 64 Years\",\"65+ Years\"]\n",
    "ed_list = [\"< 12 Years\",\"12 Years\",\"Some College\",\"College Graduate\"]\n",
    "income_list = [\"Below Poverty\",\"<= $75,000, Above Poverty\",\"> $75,000\"]"
   ]
  },
  {
   "cell_type": "code",
   "execution_count": 7,
   "metadata": {},
   "outputs": [],
   "source": [
    "numeric_pipeline = Pipeline([(\"numimputer\",SimpleImputer(strategy = \"mean\")),\n",
    "                             (\"numnorm\",StandardScaler())])\n",
    "ordinal_pipeline = Pipeline([\n",
    "    ('ordimputer', SimpleImputer(strategy = 'most_frequent')),\n",
    "    ('ordenc', OrdinalEncoder(categories = [age_list,ed_list,income_list])),\n",
    "    ('ordnorm', StandardScaler())])\n",
    "\n",
    "nominal_pipeline = Pipeline([\n",
    "    ('onehotimputer', SimpleImputer(strategy = 'most_frequent')),\n",
    "    ('onehotenc', OneHotEncoder(sparse = False, drop = 'first')), \n",
    "    ('onehotnorm', MaxAbsScaler())])"
   ]
  },
  {
   "cell_type": "code",
   "execution_count": 8,
   "metadata": {},
   "outputs": [],
   "source": [
    "num_cols = X_train.select_dtypes([\"int\",\"float\"]).columns\n",
    "\n",
    "ct = ColumnTransformer(\n",
    "    [(\"ordinal_pipe\", ordinal_pipeline,[\"age_group\",\"education\",\"income_poverty\"]),\n",
    "     (\"nominal_pipe\", nominal_pipeline,[\"race\",\"sex\",\"marital_status\",\"rent_or_own\",\"employment_status\",\"census_msa\"]),\n",
    "     (\"num_pipe\", numeric_pipeline, num_cols)])"
   ]
  },
  {
   "cell_type": "code",
   "execution_count": 9,
   "metadata": {},
   "outputs": [],
   "source": [
    "pipeline_1 = Pipeline([(\"preprocess\",ct),\n",
    "                           (\"model\",LogisticRegression())])"
   ]
  },
  {
   "cell_type": "code",
   "execution_count": 10,
   "metadata": {},
   "outputs": [
    {
     "data": {
      "text/html": [
       "<style>div.sk-top-container {color: black;background-color: white;}div.sk-toggleable {background-color: white;}label.sk-toggleable__label {cursor: pointer;display: block;width: 100%;margin-bottom: 0;padding: 0.2em 0.3em;box-sizing: border-box;text-align: center;}div.sk-toggleable__content {max-height: 0;max-width: 0;overflow: hidden;text-align: left;background-color: #f0f8ff;}div.sk-toggleable__content pre {margin: 0.2em;color: black;border-radius: 0.25em;background-color: #f0f8ff;}input.sk-toggleable__control:checked~div.sk-toggleable__content {max-height: 200px;max-width: 100%;overflow: auto;}div.sk-estimator input.sk-toggleable__control:checked~label.sk-toggleable__label {background-color: #d4ebff;}div.sk-label input.sk-toggleable__control:checked~label.sk-toggleable__label {background-color: #d4ebff;}input.sk-hidden--visually {border: 0;clip: rect(1px 1px 1px 1px);clip: rect(1px, 1px, 1px, 1px);height: 1px;margin: -1px;overflow: hidden;padding: 0;position: absolute;width: 1px;}div.sk-estimator {font-family: monospace;background-color: #f0f8ff;margin: 0.25em 0.25em;border: 1px dotted black;border-radius: 0.25em;box-sizing: border-box;}div.sk-estimator:hover {background-color: #d4ebff;}div.sk-parallel-item::after {content: \"\";width: 100%;border-bottom: 1px solid gray;flex-grow: 1;}div.sk-label:hover label.sk-toggleable__label {background-color: #d4ebff;}div.sk-serial::before {content: \"\";position: absolute;border-left: 1px solid gray;box-sizing: border-box;top: 2em;bottom: 0;left: 50%;}div.sk-serial {display: flex;flex-direction: column;align-items: center;background-color: white;}div.sk-item {z-index: 1;}div.sk-parallel {display: flex;align-items: stretch;justify-content: center;background-color: white;}div.sk-parallel-item {display: flex;flex-direction: column;position: relative;background-color: white;}div.sk-parallel-item:first-child::after {align-self: flex-end;width: 50%;}div.sk-parallel-item:last-child::after {align-self: flex-start;width: 50%;}div.sk-parallel-item:only-child::after {width: 0;}div.sk-dashed-wrapped {border: 1px dashed gray;margin: 0.2em;box-sizing: border-box;padding-bottom: 0.1em;background-color: white;position: relative;}div.sk-label label {font-family: monospace;font-weight: bold;background-color: white;display: inline-block;line-height: 1.2em;}div.sk-label-container {position: relative;z-index: 2;text-align: center;}div.sk-container {display: inline-block;position: relative;}</style><div class=\"sk-top-container\"><div class=\"sk-container\"><div class=\"sk-item sk-dashed-wrapped\"><div class=\"sk-label-container\"><div class=\"sk-label sk-toggleable\"><input class=\"sk-toggleable__control sk-hidden--visually\" id=\"10c62077-2889-4684-8420-154616d23e82\" type=\"checkbox\" ><label class=\"sk-toggleable__label\" for=\"10c62077-2889-4684-8420-154616d23e82\">Pipeline</label><div class=\"sk-toggleable__content\"><pre>Pipeline(steps=[('preprocess',\n",
       "                 ColumnTransformer(transformers=[('ordinal_pipe',\n",
       "                                                  Pipeline(steps=[('ordimputer',\n",
       "                                                                   SimpleImputer(strategy='most_frequent')),\n",
       "                                                                  ('ordenc',\n",
       "                                                                   OrdinalEncoder(categories=[['18 '\n",
       "                                                                                               '- '\n",
       "                                                                                               '34 '\n",
       "                                                                                               'Years',\n",
       "                                                                                               '35 '\n",
       "                                                                                               '- '\n",
       "                                                                                               '44 '\n",
       "                                                                                               'Years',\n",
       "                                                                                               '45 '\n",
       "                                                                                               '- '\n",
       "                                                                                               '54 '\n",
       "                                                                                               'Years',\n",
       "                                                                                               '55 '\n",
       "                                                                                               '- '\n",
       "                                                                                               '64 '\n",
       "                                                                                               'Years',\n",
       "                                                                                               '65+ '\n",
       "                                                                                               'Years'],\n",
       "                                                                                              ['< '\n",
       "                                                                                               '12 '\n",
       "                                                                                               'Years',\n",
       "                                                                                               '12 '\n",
       "                                                                                               'Years',\n",
       "                                                                                               'Some '\n",
       "                                                                                               'College',\n",
       "                                                                                               'College '\n",
       "                                                                                               'Graduate'],\n",
       "                                                                                              ['Below '...\n",
       "       'behavioral_touch_face', 'doctor_recc_h1n1', 'doctor_recc_seasonal',\n",
       "       'chronic_med_condition', 'child_under_6_months', 'health_worker',\n",
       "       'health_insurance', 'opinion_h1n1_vacc_effective', 'opinion_h1n1_risk',\n",
       "       'opinion_h1n1_sick_from_vacc', 'opinion_seas_vacc_effective',\n",
       "       'opinion_seas_risk', 'opinion_seas_sick_from_vacc', 'household_adults',\n",
       "       'household_children'],\n",
       "      dtype='object'))])),\n",
       "                ('model', LogisticRegression())])</pre></div></div></div><div class=\"sk-serial\"><div class=\"sk-item sk-dashed-wrapped\"><div class=\"sk-label-container\"><div class=\"sk-label sk-toggleable\"><input class=\"sk-toggleable__control sk-hidden--visually\" id=\"0541ee28-a33f-4b8c-9d89-766f3ef60144\" type=\"checkbox\" ><label class=\"sk-toggleable__label\" for=\"0541ee28-a33f-4b8c-9d89-766f3ef60144\">preprocess: ColumnTransformer</label><div class=\"sk-toggleable__content\"><pre>ColumnTransformer(transformers=[('ordinal_pipe',\n",
       "                                 Pipeline(steps=[('ordimputer',\n",
       "                                                  SimpleImputer(strategy='most_frequent')),\n",
       "                                                 ('ordenc',\n",
       "                                                  OrdinalEncoder(categories=[['18 '\n",
       "                                                                              '- '\n",
       "                                                                              '34 '\n",
       "                                                                              'Years',\n",
       "                                                                              '35 '\n",
       "                                                                              '- '\n",
       "                                                                              '44 '\n",
       "                                                                              'Years',\n",
       "                                                                              '45 '\n",
       "                                                                              '- '\n",
       "                                                                              '54 '\n",
       "                                                                              'Years',\n",
       "                                                                              '55 '\n",
       "                                                                              '- '\n",
       "                                                                              '64 '\n",
       "                                                                              'Years',\n",
       "                                                                              '65+ '\n",
       "                                                                              'Years'],\n",
       "                                                                             ['< '\n",
       "                                                                              '12 '\n",
       "                                                                              'Years',\n",
       "                                                                              '12 '\n",
       "                                                                              'Years',\n",
       "                                                                              'Some '\n",
       "                                                                              'College',\n",
       "                                                                              'College '\n",
       "                                                                              'Graduate'],\n",
       "                                                                             ['Below '\n",
       "                                                                              'Poverty',\n",
       "                                                                              '<= '\n",
       "                                                                              '$75,000, '\n",
       "                                                                              'Above...\n",
       "       'behavioral_touch_face', 'doctor_recc_h1n1', 'doctor_recc_seasonal',\n",
       "       'chronic_med_condition', 'child_under_6_months', 'health_worker',\n",
       "       'health_insurance', 'opinion_h1n1_vacc_effective', 'opinion_h1n1_risk',\n",
       "       'opinion_h1n1_sick_from_vacc', 'opinion_seas_vacc_effective',\n",
       "       'opinion_seas_risk', 'opinion_seas_sick_from_vacc', 'household_adults',\n",
       "       'household_children'],\n",
       "      dtype='object'))])</pre></div></div></div><div class=\"sk-parallel\"><div class=\"sk-parallel-item\"><div class=\"sk-item\"><div class=\"sk-label-container\"><div class=\"sk-label sk-toggleable\"><input class=\"sk-toggleable__control sk-hidden--visually\" id=\"f8031328-f4b5-4b19-94e6-ae274905de71\" type=\"checkbox\" ><label class=\"sk-toggleable__label\" for=\"f8031328-f4b5-4b19-94e6-ae274905de71\">ordinal_pipe</label><div class=\"sk-toggleable__content\"><pre>['age_group', 'education', 'income_poverty']</pre></div></div></div><div class=\"sk-serial\"><div class=\"sk-item\"><div class=\"sk-serial\"><div class=\"sk-item\"><div class=\"sk-estimator sk-toggleable\"><input class=\"sk-toggleable__control sk-hidden--visually\" id=\"61db4943-ce26-48d6-9508-8ce89b4279b5\" type=\"checkbox\" ><label class=\"sk-toggleable__label\" for=\"61db4943-ce26-48d6-9508-8ce89b4279b5\">SimpleImputer</label><div class=\"sk-toggleable__content\"><pre>SimpleImputer(strategy='most_frequent')</pre></div></div></div><div class=\"sk-item\"><div class=\"sk-estimator sk-toggleable\"><input class=\"sk-toggleable__control sk-hidden--visually\" id=\"33a63baa-742e-4e8a-8cf1-aca360dfade3\" type=\"checkbox\" ><label class=\"sk-toggleable__label\" for=\"33a63baa-742e-4e8a-8cf1-aca360dfade3\">OrdinalEncoder</label><div class=\"sk-toggleable__content\"><pre>OrdinalEncoder(categories=[['18 - 34 Years', '35 - 44 Years', '45 - 54 Years',\n",
       "                            '55 - 64 Years', '65+ Years'],\n",
       "                           ['< 12 Years', '12 Years', 'Some College',\n",
       "                            'College Graduate'],\n",
       "                           ['Below Poverty', '<= $75,000, Above Poverty',\n",
       "                            '> $75,000']])</pre></div></div></div><div class=\"sk-item\"><div class=\"sk-estimator sk-toggleable\"><input class=\"sk-toggleable__control sk-hidden--visually\" id=\"9f2ed25e-dca0-4f02-8dc8-2357102e9d91\" type=\"checkbox\" ><label class=\"sk-toggleable__label\" for=\"9f2ed25e-dca0-4f02-8dc8-2357102e9d91\">StandardScaler</label><div class=\"sk-toggleable__content\"><pre>StandardScaler()</pre></div></div></div></div></div></div></div></div><div class=\"sk-parallel-item\"><div class=\"sk-item\"><div class=\"sk-label-container\"><div class=\"sk-label sk-toggleable\"><input class=\"sk-toggleable__control sk-hidden--visually\" id=\"d12d04f3-e0c6-4e88-bb03-d206400a670e\" type=\"checkbox\" ><label class=\"sk-toggleable__label\" for=\"d12d04f3-e0c6-4e88-bb03-d206400a670e\">nominal_pipe</label><div class=\"sk-toggleable__content\"><pre>['race', 'sex', 'marital_status', 'rent_or_own', 'employment_status', 'census_msa']</pre></div></div></div><div class=\"sk-serial\"><div class=\"sk-item\"><div class=\"sk-serial\"><div class=\"sk-item\"><div class=\"sk-estimator sk-toggleable\"><input class=\"sk-toggleable__control sk-hidden--visually\" id=\"e85658f8-7269-4d8d-9233-b3828ed3cc73\" type=\"checkbox\" ><label class=\"sk-toggleable__label\" for=\"e85658f8-7269-4d8d-9233-b3828ed3cc73\">SimpleImputer</label><div class=\"sk-toggleable__content\"><pre>SimpleImputer(strategy='most_frequent')</pre></div></div></div><div class=\"sk-item\"><div class=\"sk-estimator sk-toggleable\"><input class=\"sk-toggleable__control sk-hidden--visually\" id=\"782504cc-b61a-4c93-85b4-d205f927ed85\" type=\"checkbox\" ><label class=\"sk-toggleable__label\" for=\"782504cc-b61a-4c93-85b4-d205f927ed85\">OneHotEncoder</label><div class=\"sk-toggleable__content\"><pre>OneHotEncoder(drop='first', sparse=False)</pre></div></div></div><div class=\"sk-item\"><div class=\"sk-estimator sk-toggleable\"><input class=\"sk-toggleable__control sk-hidden--visually\" id=\"67f8c153-1d19-4e67-9f29-bafbde645bfe\" type=\"checkbox\" ><label class=\"sk-toggleable__label\" for=\"67f8c153-1d19-4e67-9f29-bafbde645bfe\">MaxAbsScaler</label><div class=\"sk-toggleable__content\"><pre>MaxAbsScaler()</pre></div></div></div></div></div></div></div></div><div class=\"sk-parallel-item\"><div class=\"sk-item\"><div class=\"sk-label-container\"><div class=\"sk-label sk-toggleable\"><input class=\"sk-toggleable__control sk-hidden--visually\" id=\"1bb05673-09ff-4548-9af2-5af831489c96\" type=\"checkbox\" ><label class=\"sk-toggleable__label\" for=\"1bb05673-09ff-4548-9af2-5af831489c96\">num_pipe</label><div class=\"sk-toggleable__content\"><pre>Index(['h1n1_concern', 'h1n1_knowledge', 'behavioral_antiviral_meds',\n",
       "       'behavioral_avoidance', 'behavioral_face_mask', 'behavioral_wash_hands',\n",
       "       'behavioral_large_gatherings', 'behavioral_outside_home',\n",
       "       'behavioral_touch_face', 'doctor_recc_h1n1', 'doctor_recc_seasonal',\n",
       "       'chronic_med_condition', 'child_under_6_months', 'health_worker',\n",
       "       'health_insurance', 'opinion_h1n1_vacc_effective', 'opinion_h1n1_risk',\n",
       "       'opinion_h1n1_sick_from_vacc', 'opinion_seas_vacc_effective',\n",
       "       'opinion_seas_risk', 'opinion_seas_sick_from_vacc', 'household_adults',\n",
       "       'household_children'],\n",
       "      dtype='object')</pre></div></div></div><div class=\"sk-serial\"><div class=\"sk-item\"><div class=\"sk-serial\"><div class=\"sk-item\"><div class=\"sk-estimator sk-toggleable\"><input class=\"sk-toggleable__control sk-hidden--visually\" id=\"58a5629e-a647-48ed-8abf-c862d40075d9\" type=\"checkbox\" ><label class=\"sk-toggleable__label\" for=\"58a5629e-a647-48ed-8abf-c862d40075d9\">SimpleImputer</label><div class=\"sk-toggleable__content\"><pre>SimpleImputer()</pre></div></div></div><div class=\"sk-item\"><div class=\"sk-estimator sk-toggleable\"><input class=\"sk-toggleable__control sk-hidden--visually\" id=\"0cdab548-25c4-4595-a1c2-e36e0dbadfbd\" type=\"checkbox\" ><label class=\"sk-toggleable__label\" for=\"0cdab548-25c4-4595-a1c2-e36e0dbadfbd\">StandardScaler</label><div class=\"sk-toggleable__content\"><pre>StandardScaler()</pre></div></div></div></div></div></div></div></div></div></div><div class=\"sk-item\"><div class=\"sk-estimator sk-toggleable\"><input class=\"sk-toggleable__control sk-hidden--visually\" id=\"5dcdf9bb-dc3a-491d-9f72-4c88b23513cf\" type=\"checkbox\" ><label class=\"sk-toggleable__label\" for=\"5dcdf9bb-dc3a-491d-9f72-4c88b23513cf\">LogisticRegression</label><div class=\"sk-toggleable__content\"><pre>LogisticRegression()</pre></div></div></div></div></div></div></div>"
      ],
      "text/plain": [
       "Pipeline(steps=[('preprocess',\n",
       "                 ColumnTransformer(transformers=[('ordinal_pipe',\n",
       "                                                  Pipeline(steps=[('ordimputer',\n",
       "                                                                   SimpleImputer(strategy='most_frequent')),\n",
       "                                                                  ('ordenc',\n",
       "                                                                   OrdinalEncoder(categories=[['18 '\n",
       "                                                                                               '- '\n",
       "                                                                                               '34 '\n",
       "                                                                                               'Years',\n",
       "                                                                                               '35 '\n",
       "                                                                                               '- '\n",
       "                                                                                               '44 '\n",
       "                                                                                               'Years',\n",
       "                                                                                               '45 '\n",
       "                                                                                               '- '\n",
       "                                                                                               '54 '\n",
       "                                                                                               'Years',\n",
       "                                                                                               '55 '\n",
       "                                                                                               '- '\n",
       "                                                                                               '64 '\n",
       "                                                                                               'Years',\n",
       "                                                                                               '65+ '\n",
       "                                                                                               'Years'],\n",
       "                                                                                              ['< '\n",
       "                                                                                               '12 '\n",
       "                                                                                               'Years',\n",
       "                                                                                               '12 '\n",
       "                                                                                               'Years',\n",
       "                                                                                               'Some '\n",
       "                                                                                               'College',\n",
       "                                                                                               'College '\n",
       "                                                                                               'Graduate'],\n",
       "                                                                                              ['Below '...\n",
       "       'behavioral_touch_face', 'doctor_recc_h1n1', 'doctor_recc_seasonal',\n",
       "       'chronic_med_condition', 'child_under_6_months', 'health_worker',\n",
       "       'health_insurance', 'opinion_h1n1_vacc_effective', 'opinion_h1n1_risk',\n",
       "       'opinion_h1n1_sick_from_vacc', 'opinion_seas_vacc_effective',\n",
       "       'opinion_seas_risk', 'opinion_seas_sick_from_vacc', 'household_adults',\n",
       "       'household_children'],\n",
       "      dtype='object'))])),\n",
       "                ('model', LogisticRegression())])"
      ]
     },
     "execution_count": 10,
     "metadata": {},
     "output_type": "execute_result"
    }
   ],
   "source": [
    "pipeline_1.fit(X_train, y_train)"
   ]
  },
  {
   "cell_type": "code",
   "execution_count": 11,
   "metadata": {},
   "outputs": [],
   "source": [
    "y_pred1 = pipeline_1.predict(X_test)"
   ]
  },
  {
   "cell_type": "code",
   "execution_count": 12,
   "metadata": {},
   "outputs": [
    {
     "data": {
      "text/plain": [
       "<sklearn.metrics._plot.confusion_matrix.ConfusionMatrixDisplay at 0x244909aaf10>"
      ]
     },
     "execution_count": 12,
     "metadata": {},
     "output_type": "execute_result"
    },
    {
     "data": {
      "image/png": "[encoded data removed]",
      "text/plain": [
       "<Figure size 432x288 with 2 Axes>"
      ]
     },
     "metadata": {
      "needs_background": "light"
     },
     "output_type": "display_data"
    }
   ],
   "source": [
    "plot_confusion_matrix(pipeline_1, X_test,y_test)"
   ]
  },
  {
   "cell_type": "code",
   "execution_count": 13,
   "metadata": {},
   "outputs": [
    {
     "name": "stdout",
     "output_type": "stream",
     "text": [
      "              precision    recall  f1-score   support\n",
      "\n",
      "           0       0.86      0.95      0.90      6311\n",
      "           1       0.69      0.43      0.53      1702\n",
      "\n",
      "    accuracy                           0.84      8013\n",
      "   macro avg       0.77      0.69      0.72      8013\n",
      "weighted avg       0.82      0.84      0.82      8013\n",
      "\n"
     ]
    }
   ],
   "source": [
    "print(classification_report(y_test, y_pred1))"
   ]
  },
  {
   "cell_type": "code",
   "execution_count": 14,
   "metadata": {},
   "outputs": [
    {
     "data": {
      "text/plain": [
       "<sklearn.metrics._plot.roc_curve.RocCurveDisplay at 0x2449168eb50>"
      ]
     },
     "execution_count": 14,
     "metadata": {},
     "output_type": "execute_result"
    },
    {
     "data": {
      "image/png": "[encoded data removed]",
      "text/plain": [
       "<Figure size 432x288 with 1 Axes>"
      ]
     },
     "metadata": {
      "needs_background": "light"
     },
     "output_type": "display_data"
    }
   ],
   "source": [
    "plot_roc_curve(pipeline_1, X_test, y_test)"
   ]
  },
  {
   "cell_type": "markdown",
   "metadata": {},
   "source": [
    "## Model 2 -  Logistic Regression + SMOTE"
   ]
  },
  {
   "cell_type": "code",
   "execution_count": 15,
   "metadata": {},
   "outputs": [],
   "source": [
    "from imblearn.over_sampling import SMOTE\n",
    "\n",
    "smt = SMOTE()"
   ]
  },
  {
   "cell_type": "code",
   "execution_count": 16,
   "metadata": {},
   "outputs": [],
   "source": [
    "pipeline_2 = Pipeline([(\"preprocess\",ct),\n",
    "                       (\"smote\",smt),\n",
    "                       (\"model\",LogisticRegression())])"
   ]
  },
  {
   "cell_type": "code",
   "execution_count": 17,
   "metadata": {},
   "outputs": [
    {
     "data": {
      "text/html": [
       "<style>div.sk-top-container {color: black;background-color: white;}div.sk-toggleable {background-color: white;}label.sk-toggleable__label {cursor: pointer;display: block;width: 100%;margin-bottom: 0;padding: 0.2em 0.3em;box-sizing: border-box;text-align: center;}div.sk-toggleable__content {max-height: 0;max-width: 0;overflow: hidden;text-align: left;background-color: #f0f8ff;}div.sk-toggleable__content pre {margin: 0.2em;color: black;border-radius: 0.25em;background-color: #f0f8ff;}input.sk-toggleable__control:checked~div.sk-toggleable__content {max-height: 200px;max-width: 100%;overflow: auto;}div.sk-estimator input.sk-toggleable__control:checked~label.sk-toggleable__label {background-color: #d4ebff;}div.sk-label input.sk-toggleable__control:checked~label.sk-toggleable__label {background-color: #d4ebff;}input.sk-hidden--visually {border: 0;clip: rect(1px 1px 1px 1px);clip: rect(1px, 1px, 1px, 1px);height: 1px;margin: -1px;overflow: hidden;padding: 0;position: absolute;width: 1px;}div.sk-estimator {font-family: monospace;background-color: #f0f8ff;margin: 0.25em 0.25em;border: 1px dotted black;border-radius: 0.25em;box-sizing: border-box;}div.sk-estimator:hover {background-color: #d4ebff;}div.sk-parallel-item::after {content: \"\";width: 100%;border-bottom: 1px solid gray;flex-grow: 1;}div.sk-label:hover label.sk-toggleable__label {background-color: #d4ebff;}div.sk-serial::before {content: \"\";position: absolute;border-left: 1px solid gray;box-sizing: border-box;top: 2em;bottom: 0;left: 50%;}div.sk-serial {display: flex;flex-direction: column;align-items: center;background-color: white;}div.sk-item {z-index: 1;}div.sk-parallel {display: flex;align-items: stretch;justify-content: center;background-color: white;}div.sk-parallel-item {display: flex;flex-direction: column;position: relative;background-color: white;}div.sk-parallel-item:first-child::after {align-self: flex-end;width: 50%;}div.sk-parallel-item:last-child::after {align-self: flex-start;width: 50%;}div.sk-parallel-item:only-child::after {width: 0;}div.sk-dashed-wrapped {border: 1px dashed gray;margin: 0.2em;box-sizing: border-box;padding-bottom: 0.1em;background-color: white;position: relative;}div.sk-label label {font-family: monospace;font-weight: bold;background-color: white;display: inline-block;line-height: 1.2em;}div.sk-label-container {position: relative;z-index: 2;text-align: center;}div.sk-container {display: inline-block;position: relative;}</style><div class=\"sk-top-container\"><div class=\"sk-container\"><div class=\"sk-item sk-dashed-wrapped\"><div class=\"sk-label-container\"><div class=\"sk-label sk-toggleable\"><input class=\"sk-toggleable__control sk-hidden--visually\" id=\"c0b3840b-e4e6-4c49-8699-d8945d36c025\" type=\"checkbox\" ><label class=\"sk-toggleable__label\" for=\"c0b3840b-e4e6-4c49-8699-d8945d36c025\">Pipeline</label><div class=\"sk-toggleable__content\"><pre>Pipeline(steps=[('preprocess',\n",
       "                 ColumnTransformer(transformers=[('ordinal_pipe',\n",
       "                                                  Pipeline(steps=[('ordimputer',\n",
       "                                                                   SimpleImputer(strategy='most_frequent')),\n",
       "                                                                  ('ordenc',\n",
       "                                                                   OrdinalEncoder(categories=[['18 '\n",
       "                                                                                               '- '\n",
       "                                                                                               '34 '\n",
       "                                                                                               'Years',\n",
       "                                                                                               '35 '\n",
       "                                                                                               '- '\n",
       "                                                                                               '44 '\n",
       "                                                                                               'Years',\n",
       "                                                                                               '45 '\n",
       "                                                                                               '- '\n",
       "                                                                                               '54 '\n",
       "                                                                                               'Years',\n",
       "                                                                                               '55 '\n",
       "                                                                                               '- '\n",
       "                                                                                               '64 '\n",
       "                                                                                               'Years',\n",
       "                                                                                               '65+ '\n",
       "                                                                                               'Years'],\n",
       "                                                                                              ['< '\n",
       "                                                                                               '12 '\n",
       "                                                                                               'Years',\n",
       "                                                                                               '12 '\n",
       "                                                                                               'Years',\n",
       "                                                                                               'Some '\n",
       "                                                                                               'College',\n",
       "                                                                                               'College '\n",
       "                                                                                               'Graduate'],\n",
       "                                                                                              ['Below '...\n",
       "       'chronic_med_condition', 'child_under_6_months', 'health_worker',\n",
       "       'health_insurance', 'opinion_h1n1_vacc_effective', 'opinion_h1n1_risk',\n",
       "       'opinion_h1n1_sick_from_vacc', 'opinion_seas_vacc_effective',\n",
       "       'opinion_seas_risk', 'opinion_seas_sick_from_vacc', 'household_adults',\n",
       "       'household_children'],\n",
       "      dtype='object'))])),\n",
       "                ('smote', SMOTE()), ('model', LogisticRegression())])</pre></div></div></div><div class=\"sk-serial\"><div class=\"sk-item sk-dashed-wrapped\"><div class=\"sk-label-container\"><div class=\"sk-label sk-toggleable\"><input class=\"sk-toggleable__control sk-hidden--visually\" id=\"3d6304c7-ab7d-4c72-998a-b31e3cf52e92\" type=\"checkbox\" ><label class=\"sk-toggleable__label\" for=\"3d6304c7-ab7d-4c72-998a-b31e3cf52e92\">preprocess: ColumnTransformer</label><div class=\"sk-toggleable__content\"><pre>ColumnTransformer(transformers=[('ordinal_pipe',\n",
       "                                 Pipeline(steps=[('ordimputer',\n",
       "                                                  SimpleImputer(strategy='most_frequent')),\n",
       "                                                 ('ordenc',\n",
       "                                                  OrdinalEncoder(categories=[['18 '\n",
       "                                                                              '- '\n",
       "                                                                              '34 '\n",
       "                                                                              'Years',\n",
       "                                                                              '35 '\n",
       "                                                                              '- '\n",
       "                                                                              '44 '\n",
       "                                                                              'Years',\n",
       "                                                                              '45 '\n",
       "                                                                              '- '\n",
       "                                                                              '54 '\n",
       "                                                                              'Years',\n",
       "                                                                              '55 '\n",
       "                                                                              '- '\n",
       "                                                                              '64 '\n",
       "                                                                              'Years',\n",
       "                                                                              '65+ '\n",
       "                                                                              'Years'],\n",
       "                                                                             ['< '\n",
       "                                                                              '12 '\n",
       "                                                                              'Years',\n",
       "                                                                              '12 '\n",
       "                                                                              'Years',\n",
       "                                                                              'Some '\n",
       "                                                                              'College',\n",
       "                                                                              'College '\n",
       "                                                                              'Graduate'],\n",
       "                                                                             ['Below '\n",
       "                                                                              'Poverty',\n",
       "                                                                              '<= '\n",
       "                                                                              '$75,000, '\n",
       "                                                                              'Above...\n",
       "       'behavioral_touch_face', 'doctor_recc_h1n1', 'doctor_recc_seasonal',\n",
       "       'chronic_med_condition', 'child_under_6_months', 'health_worker',\n",
       "       'health_insurance', 'opinion_h1n1_vacc_effective', 'opinion_h1n1_risk',\n",
       "       'opinion_h1n1_sick_from_vacc', 'opinion_seas_vacc_effective',\n",
       "       'opinion_seas_risk', 'opinion_seas_sick_from_vacc', 'household_adults',\n",
       "       'household_children'],\n",
       "      dtype='object'))])</pre></div></div></div><div class=\"sk-parallel\"><div class=\"sk-parallel-item\"><div class=\"sk-item\"><div class=\"sk-label-container\"><div class=\"sk-label sk-toggleable\"><input class=\"sk-toggleable__control sk-hidden--visually\" id=\"ddcc1fa3-775b-4809-925d-284c3968acd4\" type=\"checkbox\" ><label class=\"sk-toggleable__label\" for=\"ddcc1fa3-775b-4809-925d-284c3968acd4\">ordinal_pipe</label><div class=\"sk-toggleable__content\"><pre>['age_group', 'education', 'income_poverty']</pre></div></div></div><div class=\"sk-serial\"><div class=\"sk-item\"><div class=\"sk-serial\"><div class=\"sk-item\"><div class=\"sk-estimator sk-toggleable\"><input class=\"sk-toggleable__control sk-hidden--visually\" id=\"2c0d3f69-401c-40e7-926a-2cfcf723b011\" type=\"checkbox\" ><label class=\"sk-toggleable__label\" for=\"2c0d3f69-401c-40e7-926a-2cfcf723b011\">SimpleImputer</label><div class=\"sk-toggleable__content\"><pre>SimpleImputer(strategy='most_frequent')</pre></div></div></div><div class=\"sk-item\"><div class=\"sk-estimator sk-toggleable\"><input class=\"sk-toggleable__control sk-hidden--visually\" id=\"816b4e06-1529-4adb-8c75-55279e6a2786\" type=\"checkbox\" ><label class=\"sk-toggleable__label\" for=\"816b4e06-1529-4adb-8c75-55279e6a2786\">OrdinalEncoder</label><div class=\"sk-toggleable__content\"><pre>OrdinalEncoder(categories=[['18 - 34 Years', '35 - 44 Years', '45 - 54 Years',\n",
       "                            '55 - 64 Years', '65+ Years'],\n",
       "                           ['< 12 Years', '12 Years', 'Some College',\n",
       "                            'College Graduate'],\n",
       "                           ['Below Poverty', '<= $75,000, Above Poverty',\n",
       "                            '> $75,000']])</pre></div></div></div><div class=\"sk-item\"><div class=\"sk-estimator sk-toggleable\"><input class=\"sk-toggleable__control sk-hidden--visually\" id=\"9fb45e98-9e94-4543-a6c4-045876fb2def\" type=\"checkbox\" ><label class=\"sk-toggleable__label\" for=\"9fb45e98-9e94-4543-a6c4-045876fb2def\">StandardScaler</label><div class=\"sk-toggleable__content\"><pre>StandardScaler()</pre></div></div></div></div></div></div></div></div><div class=\"sk-parallel-item\"><div class=\"sk-item\"><div class=\"sk-label-container\"><div class=\"sk-label sk-toggleable\"><input class=\"sk-toggleable__control sk-hidden--visually\" id=\"992c9632-1478-40c0-b9e4-58c5560593e4\" type=\"checkbox\" ><label class=\"sk-toggleable__label\" for=\"992c9632-1478-40c0-b9e4-58c5560593e4\">nominal_pipe</label><div class=\"sk-toggleable__content\"><pre>['race', 'sex', 'marital_status', 'rent_or_own', 'employment_status', 'census_msa']</pre></div></div></div><div class=\"sk-serial\"><div class=\"sk-item\"><div class=\"sk-serial\"><div class=\"sk-item\"><div class=\"sk-estimator sk-toggleable\"><input class=\"sk-toggleable__control sk-hidden--visually\" id=\"e9a5e9ed-7c45-4388-a85f-742cb1145501\" type=\"checkbox\" ><label class=\"sk-toggleable__label\" for=\"e9a5e9ed-7c45-4388-a85f-742cb1145501\">SimpleImputer</label><div class=\"sk-toggleable__content\"><pre>SimpleImputer(strategy='most_frequent')</pre></div></div></div><div class=\"sk-item\"><div class=\"sk-estimator sk-toggleable\"><input class=\"sk-toggleable__control sk-hidden--visually\" id=\"01a47c2c-cc07-49a9-a8bc-61c3b461ac88\" type=\"checkbox\" ><label class=\"sk-toggleable__label\" for=\"01a47c2c-cc07-49a9-a8bc-61c3b461ac88\">OneHotEncoder</label><div class=\"sk-toggleable__content\"><pre>OneHotEncoder(drop='first', sparse=False)</pre></div></div></div><div class=\"sk-item\"><div class=\"sk-estimator sk-toggleable\"><input class=\"sk-toggleable__control sk-hidden--visually\" id=\"8ba6f08c-2134-45e7-8024-d817679b7797\" type=\"checkbox\" ><label class=\"sk-toggleable__label\" for=\"8ba6f08c-2134-45e7-8024-d817679b7797\">MaxAbsScaler</label><div class=\"sk-toggleable__content\"><pre>MaxAbsScaler()</pre></div></div></div></div></div></div></div></div><div class=\"sk-parallel-item\"><div class=\"sk-item\"><div class=\"sk-label-container\"><div class=\"sk-label sk-toggleable\"><input class=\"sk-toggleable__control sk-hidden--visually\" id=\"d1290da3-f76a-4ae6-ba62-d17b0078129c\" type=\"checkbox\" ><label class=\"sk-toggleable__label\" for=\"d1290da3-f76a-4ae6-ba62-d17b0078129c\">num_pipe</label><div class=\"sk-toggleable__content\"><pre>Index(['h1n1_concern', 'h1n1_knowledge', 'behavioral_antiviral_meds',\n",
       "       'behavioral_avoidance', 'behavioral_face_mask', 'behavioral_wash_hands',\n",
       "       'behavioral_large_gatherings', 'behavioral_outside_home',\n",
       "       'behavioral_touch_face', 'doctor_recc_h1n1', 'doctor_recc_seasonal',\n",
       "       'chronic_med_condition', 'child_under_6_months', 'health_worker',\n",
       "       'health_insurance', 'opinion_h1n1_vacc_effective', 'opinion_h1n1_risk',\n",
       "       'opinion_h1n1_sick_from_vacc', 'opinion_seas_vacc_effective',\n",
       "       'opinion_seas_risk', 'opinion_seas_sick_from_vacc', 'household_adults',\n",
       "       'household_children'],\n",
       "      dtype='object')</pre></div></div></div><div class=\"sk-serial\"><div class=\"sk-item\"><div class=\"sk-serial\"><div class=\"sk-item\"><div class=\"sk-estimator sk-toggleable\"><input class=\"sk-toggleable__control sk-hidden--visually\" id=\"dee51d7d-e300-4ae0-8294-e537352355cd\" type=\"checkbox\" ><label class=\"sk-toggleable__label\" for=\"dee51d7d-e300-4ae0-8294-e537352355cd\">SimpleImputer</label><div class=\"sk-toggleable__content\"><pre>SimpleImputer()</pre></div></div></div><div class=\"sk-item\"><div class=\"sk-estimator sk-toggleable\"><input class=\"sk-toggleable__control sk-hidden--visually\" id=\"0d38dc5a-960e-41c2-8272-84b6403e4ed2\" type=\"checkbox\" ><label class=\"sk-toggleable__label\" for=\"0d38dc5a-960e-41c2-8272-84b6403e4ed2\">StandardScaler</label><div class=\"sk-toggleable__content\"><pre>StandardScaler()</pre></div></div></div></div></div></div></div></div></div></div><div class=\"sk-item\"><div class=\"sk-estimator sk-toggleable\"><input class=\"sk-toggleable__control sk-hidden--visually\" id=\"ab48bada-b256-40fb-b98d-20a6e4209b4b\" type=\"checkbox\" ><label class=\"sk-toggleable__label\" for=\"ab48bada-b256-40fb-b98d-20a6e4209b4b\">SMOTE</label><div class=\"sk-toggleable__content\"><pre>SMOTE()</pre></div></div></div><div class=\"sk-item\"><div class=\"sk-estimator sk-toggleable\"><input class=\"sk-toggleable__control sk-hidden--visually\" id=\"a2677732-0e2d-4178-b721-c73e8b1f8944\" type=\"checkbox\" ><label class=\"sk-toggleable__label\" for=\"a2677732-0e2d-4178-b721-c73e8b1f8944\">LogisticRegression</label><div class=\"sk-toggleable__content\"><pre>LogisticRegression()</pre></div></div></div></div></div></div></div>"
      ],
      "text/plain": [
       "Pipeline(steps=[('preprocess',\n",
       "                 ColumnTransformer(transformers=[('ordinal_pipe',\n",
       "                                                  Pipeline(steps=[('ordimputer',\n",
       "                                                                   SimpleImputer(strategy='most_frequent')),\n",
       "                                                                  ('ordenc',\n",
       "                                                                   OrdinalEncoder(categories=[['18 '\n",
       "                                                                                               '- '\n",
       "                                                                                               '34 '\n",
       "                                                                                               'Years',\n",
       "                                                                                               '35 '\n",
       "                                                                                               '- '\n",
       "                                                                                               '44 '\n",
       "                                                                                               'Years',\n",
       "                                                                                               '45 '\n",
       "                                                                                               '- '\n",
       "                                                                                               '54 '\n",
       "                                                                                               'Years',\n",
       "                                                                                               '55 '\n",
       "                                                                                               '- '\n",
       "                                                                                               '64 '\n",
       "                                                                                               'Years',\n",
       "                                                                                               '65+ '\n",
       "                                                                                               'Years'],\n",
       "                                                                                              ['< '\n",
       "                                                                                               '12 '\n",
       "                                                                                               'Years',\n",
       "                                                                                               '12 '\n",
       "                                                                                               'Years',\n",
       "                                                                                               'Some '\n",
       "                                                                                               'College',\n",
       "                                                                                               'College '\n",
       "                                                                                               'Graduate'],\n",
       "                                                                                              ['Below '...\n",
       "       'chronic_med_condition', 'child_under_6_months', 'health_worker',\n",
       "       'health_insurance', 'opinion_h1n1_vacc_effective', 'opinion_h1n1_risk',\n",
       "       'opinion_h1n1_sick_from_vacc', 'opinion_seas_vacc_effective',\n",
       "       'opinion_seas_risk', 'opinion_seas_sick_from_vacc', 'household_adults',\n",
       "       'household_children'],\n",
       "      dtype='object'))])),\n",
       "                ('smote', SMOTE()), ('model', LogisticRegression())])"
      ]
     },
     "execution_count": 17,
     "metadata": {},
     "output_type": "execute_result"
    }
   ],
   "source": [
    "pipeline_2.fit(X_train, y_train)"
   ]
  },
  {
   "cell_type": "code",
   "execution_count": 18,
   "metadata": {},
   "outputs": [],
   "source": [
    "y_pred2 = pipeline_2.predict(X_test)"
   ]
  },
  {
   "cell_type": "code",
   "execution_count": 19,
   "metadata": {},
   "outputs": [
    {
     "data": {
      "text/plain": [
       "<sklearn.metrics._plot.confusion_matrix.ConfusionMatrixDisplay at 0x24492aaeca0>"
      ]
     },
     "execution_count": 19,
     "metadata": {},
     "output_type": "execute_result"
    },
    {
     "data": {
      "image/png": "[encoded data removed]",
      "text/plain": [
       "<Figure size 432x288 with 2 Axes>"
      ]
     },
     "metadata": {
      "needs_background": "light"
     },
     "output_type": "display_data"
    }
   ],
   "source": [
    "plot_confusion_matrix(pipeline_2, X_test,y_test)"
   ]
  },
  {
   "cell_type": "code",
   "execution_count": 20,
   "metadata": {},
   "outputs": [
    {
     "name": "stdout",
     "output_type": "stream",
     "text": [
      "              precision    recall  f1-score   support\n",
      "\n",
      "           0       0.91      0.78      0.84      6311\n",
      "           1       0.48      0.73      0.58      1702\n",
      "\n",
      "    accuracy                           0.77      8013\n",
      "   macro avg       0.70      0.76      0.71      8013\n",
      "weighted avg       0.82      0.77      0.79      8013\n",
      "\n"
     ]
    }
   ],
   "source": [
    "print(classification_report(y_test, y_pred2))"
   ]
  },
  {
   "cell_type": "code",
   "execution_count": 21,
   "metadata": {},
   "outputs": [
    {
     "data": {
      "text/plain": [
       "<sklearn.metrics._plot.roc_curve.RocCurveDisplay at 0x244929ad9d0>"
      ]
     },
     "execution_count": 21,
     "metadata": {},
     "output_type": "execute_result"
    },
    {
     "data": {
      "image/png": "[encoded data removed]",
      "text/plain": [
       "<Figure size 432x288 with 1 Axes>"
      ]
     },
     "metadata": {
      "needs_background": "light"
     },
     "output_type": "display_data"
    }
   ],
   "source": [
    "plot_roc_curve(pipeline_2, X_test, y_test)"
   ]
  },
  {
   "cell_type": "markdown",
   "metadata": {},
   "source": [
    "## Model 3 - Logistic Regression + Oversampling"
   ]
  },
  {
   "cell_type": "code",
   "execution_count": 22,
   "metadata": {},
   "outputs": [],
   "source": [
    "oversample = RandomOverSampler()"
   ]
  },
  {
   "cell_type": "code",
   "execution_count": 23,
   "metadata": {},
   "outputs": [],
   "source": [
    "pipeline_3 = Pipeline([(\"preprocess\",ct),\n",
    "                       (\"oversample\",oversample),\n",
    "                       (\"model\",LogisticRegression())])"
   ]
  },
  {
   "cell_type": "code",
   "execution_count": 24,
   "metadata": {},
   "outputs": [
    {
     "data": {
      "text/html": [
       "<style>div.sk-top-container {color: black;background-color: white;}div.sk-toggleable {background-color: white;}label.sk-toggleable__label {cursor: pointer;display: block;width: 100%;margin-bottom: 0;padding: 0.2em 0.3em;box-sizing: border-box;text-align: center;}div.sk-toggleable__content {max-height: 0;max-width: 0;overflow: hidden;text-align: left;background-color: #f0f8ff;}div.sk-toggleable__content pre {margin: 0.2em;color: black;border-radius: 0.25em;background-color: #f0f8ff;}input.sk-toggleable__control:checked~div.sk-toggleable__content {max-height: 200px;max-width: 100%;overflow: auto;}div.sk-estimator input.sk-toggleable__control:checked~label.sk-toggleable__label {background-color: #d4ebff;}div.sk-label input.sk-toggleable__control:checked~label.sk-toggleable__label {background-color: #d4ebff;}input.sk-hidden--visually {border: 0;clip: rect(1px 1px 1px 1px);clip: rect(1px, 1px, 1px, 1px);height: 1px;margin: -1px;overflow: hidden;padding: 0;position: absolute;width: 1px;}div.sk-estimator {font-family: monospace;background-color: #f0f8ff;margin: 0.25em 0.25em;border: 1px dotted black;border-radius: 0.25em;box-sizing: border-box;}div.sk-estimator:hover {background-color: #d4ebff;}div.sk-parallel-item::after {content: \"\";width: 100%;border-bottom: 1px solid gray;flex-grow: 1;}div.sk-label:hover label.sk-toggleable__label {background-color: #d4ebff;}div.sk-serial::before {content: \"\";position: absolute;border-left: 1px solid gray;box-sizing: border-box;top: 2em;bottom: 0;left: 50%;}div.sk-serial {display: flex;flex-direction: column;align-items: center;background-color: white;}div.sk-item {z-index: 1;}div.sk-parallel {display: flex;align-items: stretch;justify-content: center;background-color: white;}div.sk-parallel-item {display: flex;flex-direction: column;position: relative;background-color: white;}div.sk-parallel-item:first-child::after {align-self: flex-end;width: 50%;}div.sk-parallel-item:last-child::after {align-self: flex-start;width: 50%;}div.sk-parallel-item:only-child::after {width: 0;}div.sk-dashed-wrapped {border: 1px dashed gray;margin: 0.2em;box-sizing: border-box;padding-bottom: 0.1em;background-color: white;position: relative;}div.sk-label label {font-family: monospace;font-weight: bold;background-color: white;display: inline-block;line-height: 1.2em;}div.sk-label-container {position: relative;z-index: 2;text-align: center;}div.sk-container {display: inline-block;position: relative;}</style><div class=\"sk-top-container\"><div class=\"sk-container\"><div class=\"sk-item sk-dashed-wrapped\"><div class=\"sk-label-container\"><div class=\"sk-label sk-toggleable\"><input class=\"sk-toggleable__control sk-hidden--visually\" id=\"f2800fcf-21f7-4c46-9a9a-655a63f401bc\" type=\"checkbox\" ><label class=\"sk-toggleable__label\" for=\"f2800fcf-21f7-4c46-9a9a-655a63f401bc\">Pipeline</label><div class=\"sk-toggleable__content\"><pre>Pipeline(steps=[('preprocess',\n",
       "                 ColumnTransformer(transformers=[('ordinal_pipe',\n",
       "                                                  Pipeline(steps=[('ordimputer',\n",
       "                                                                   SimpleImputer(strategy='most_frequent')),\n",
       "                                                                  ('ordenc',\n",
       "                                                                   OrdinalEncoder(categories=[['18 '\n",
       "                                                                                               '- '\n",
       "                                                                                               '34 '\n",
       "                                                                                               'Years',\n",
       "                                                                                               '35 '\n",
       "                                                                                               '- '\n",
       "                                                                                               '44 '\n",
       "                                                                                               'Years',\n",
       "                                                                                               '45 '\n",
       "                                                                                               '- '\n",
       "                                                                                               '54 '\n",
       "                                                                                               'Years',\n",
       "                                                                                               '55 '\n",
       "                                                                                               '- '\n",
       "                                                                                               '64 '\n",
       "                                                                                               'Years',\n",
       "                                                                                               '65+ '\n",
       "                                                                                               'Years'],\n",
       "                                                                                              ['< '\n",
       "                                                                                               '12 '\n",
       "                                                                                               'Years',\n",
       "                                                                                               '12 '\n",
       "                                                                                               'Years',\n",
       "                                                                                               'Some '\n",
       "                                                                                               'College',\n",
       "                                                                                               'College '\n",
       "                                                                                               'Graduate'],\n",
       "                                                                                              ['Below '...\n",
       "       'chronic_med_condition', 'child_under_6_months', 'health_worker',\n",
       "       'health_insurance', 'opinion_h1n1_vacc_effective', 'opinion_h1n1_risk',\n",
       "       'opinion_h1n1_sick_from_vacc', 'opinion_seas_vacc_effective',\n",
       "       'opinion_seas_risk', 'opinion_seas_sick_from_vacc', 'household_adults',\n",
       "       'household_children'],\n",
       "      dtype='object'))])),\n",
       "                ('oversample', RandomOverSampler()),\n",
       "                ('model', LogisticRegression())])</pre></div></div></div><div class=\"sk-serial\"><div class=\"sk-item sk-dashed-wrapped\"><div class=\"sk-label-container\"><div class=\"sk-label sk-toggleable\"><input class=\"sk-toggleable__control sk-hidden--visually\" id=\"7c18b77b-6823-4921-a2c1-07fd1c443994\" type=\"checkbox\" ><label class=\"sk-toggleable__label\" for=\"7c18b77b-6823-4921-a2c1-07fd1c443994\">preprocess: ColumnTransformer</label><div class=\"sk-toggleable__content\"><pre>ColumnTransformer(transformers=[('ordinal_pipe',\n",
       "                                 Pipeline(steps=[('ordimputer',\n",
       "                                                  SimpleImputer(strategy='most_frequent')),\n",
       "                                                 ('ordenc',\n",
       "                                                  OrdinalEncoder(categories=[['18 '\n",
       "                                                                              '- '\n",
       "                                                                              '34 '\n",
       "                                                                              'Years',\n",
       "                                                                              '35 '\n",
       "                                                                              '- '\n",
       "                                                                              '44 '\n",
       "                                                                              'Years',\n",
       "                                                                              '45 '\n",
       "                                                                              '- '\n",
       "                                                                              '54 '\n",
       "                                                                              'Years',\n",
       "                                                                              '55 '\n",
       "                                                                              '- '\n",
       "                                                                              '64 '\n",
       "                                                                              'Years',\n",
       "                                                                              '65+ '\n",
       "                                                                              'Years'],\n",
       "                                                                             ['< '\n",
       "                                                                              '12 '\n",
       "                                                                              'Years',\n",
       "                                                                              '12 '\n",
       "                                                                              'Years',\n",
       "                                                                              'Some '\n",
       "                                                                              'College',\n",
       "                                                                              'College '\n",
       "                                                                              'Graduate'],\n",
       "                                                                             ['Below '\n",
       "                                                                              'Poverty',\n",
       "                                                                              '<= '\n",
       "                                                                              '$75,000, '\n",
       "                                                                              'Above...\n",
       "       'behavioral_touch_face', 'doctor_recc_h1n1', 'doctor_recc_seasonal',\n",
       "       'chronic_med_condition', 'child_under_6_months', 'health_worker',\n",
       "       'health_insurance', 'opinion_h1n1_vacc_effective', 'opinion_h1n1_risk',\n",
       "       'opinion_h1n1_sick_from_vacc', 'opinion_seas_vacc_effective',\n",
       "       'opinion_seas_risk', 'opinion_seas_sick_from_vacc', 'household_adults',\n",
       "       'household_children'],\n",
       "      dtype='object'))])</pre></div></div></div><div class=\"sk-parallel\"><div class=\"sk-parallel-item\"><div class=\"sk-item\"><div class=\"sk-label-container\"><div class=\"sk-label sk-toggleable\"><input class=\"sk-toggleable__control sk-hidden--visually\" id=\"8329a3a7-d8ba-4ab3-9ed3-e470ae2e8b7a\" type=\"checkbox\" ><label class=\"sk-toggleable__label\" for=\"8329a3a7-d8ba-4ab3-9ed3-e470ae2e8b7a\">ordinal_pipe</label><div class=\"sk-toggleable__content\"><pre>['age_group', 'education', 'income_poverty']</pre></div></div></div><div class=\"sk-serial\"><div class=\"sk-item\"><div class=\"sk-serial\"><div class=\"sk-item\"><div class=\"sk-estimator sk-toggleable\"><input class=\"sk-toggleable__control sk-hidden--visually\" id=\"8a0b9878-6111-4ca0-a3f8-fd8607fb12cb\" type=\"checkbox\" ><label class=\"sk-toggleable__label\" for=\"8a0b9878-6111-4ca0-a3f8-fd8607fb12cb\">SimpleImputer</label><div class=\"sk-toggleable__content\"><pre>SimpleImputer(strategy='most_frequent')</pre></div></div></div><div class=\"sk-item\"><div class=\"sk-estimator sk-toggleable\"><input class=\"sk-toggleable__control sk-hidden--visually\" id=\"7c64e359-14a3-4ca1-a755-8d9870c31b29\" type=\"checkbox\" ><label class=\"sk-toggleable__label\" for=\"7c64e359-14a3-4ca1-a755-8d9870c31b29\">OrdinalEncoder</label><div class=\"sk-toggleable__content\"><pre>OrdinalEncoder(categories=[['18 - 34 Years', '35 - 44 Years', '45 - 54 Years',\n",
       "                            '55 - 64 Years', '65+ Years'],\n",
       "                           ['< 12 Years', '12 Years', 'Some College',\n",
       "                            'College Graduate'],\n",
       "                           ['Below Poverty', '<= $75,000, Above Poverty',\n",
       "                            '> $75,000']])</pre></div></div></div><div class=\"sk-item\"><div class=\"sk-estimator sk-toggleable\"><input class=\"sk-toggleable__control sk-hidden--visually\" id=\"ac9654aa-3509-4caf-b64c-adb6376a3b45\" type=\"checkbox\" ><label class=\"sk-toggleable__label\" for=\"ac9654aa-3509-4caf-b64c-adb6376a3b45\">StandardScaler</label><div class=\"sk-toggleable__content\"><pre>StandardScaler()</pre></div></div></div></div></div></div></div></div><div class=\"sk-parallel-item\"><div class=\"sk-item\"><div class=\"sk-label-container\"><div class=\"sk-label sk-toggleable\"><input class=\"sk-toggleable__control sk-hidden--visually\" id=\"ee36fa60-7661-4781-b3e9-28056ec878c1\" type=\"checkbox\" ><label class=\"sk-toggleable__label\" for=\"ee36fa60-7661-4781-b3e9-28056ec878c1\">nominal_pipe</label><div class=\"sk-toggleable__content\"><pre>['race', 'sex', 'marital_status', 'rent_or_own', 'employment_status', 'census_msa']</pre></div></div></div><div class=\"sk-serial\"><div class=\"sk-item\"><div class=\"sk-serial\"><div class=\"sk-item\"><div class=\"sk-estimator sk-toggleable\"><input class=\"sk-toggleable__control sk-hidden--visually\" id=\"d4771522-ab7f-4c5c-b094-d120bb197abc\" type=\"checkbox\" ><label class=\"sk-toggleable__label\" for=\"d4771522-ab7f-4c5c-b094-d120bb197abc\">SimpleImputer</label><div class=\"sk-toggleable__content\"><pre>SimpleImputer(strategy='most_frequent')</pre></div></div></div><div class=\"sk-item\"><div class=\"sk-estimator sk-toggleable\"><input class=\"sk-toggleable__control sk-hidden--visually\" id=\"15ed7e56-5dbb-4811-bce0-23577096868f\" type=\"checkbox\" ><label class=\"sk-toggleable__label\" for=\"15ed7e56-5dbb-4811-bce0-23577096868f\">OneHotEncoder</label><div class=\"sk-toggleable__content\"><pre>OneHotEncoder(drop='first', sparse=False)</pre></div></div></div><div class=\"sk-item\"><div class=\"sk-estimator sk-toggleable\"><input class=\"sk-toggleable__control sk-hidden--visually\" id=\"13492ba3-f0f2-4fb2-96ad-d0d84ba0dd9e\" type=\"checkbox\" ><label class=\"sk-toggleable__label\" for=\"13492ba3-f0f2-4fb2-96ad-d0d84ba0dd9e\">MaxAbsScaler</label><div class=\"sk-toggleable__content\"><pre>MaxAbsScaler()</pre></div></div></div></div></div></div></div></div><div class=\"sk-parallel-item\"><div class=\"sk-item\"><div class=\"sk-label-container\"><div class=\"sk-label sk-toggleable\"><input class=\"sk-toggleable__control sk-hidden--visually\" id=\"0ba767f3-9293-4b55-9baf-060580a22bea\" type=\"checkbox\" ><label class=\"sk-toggleable__label\" for=\"0ba767f3-9293-4b55-9baf-060580a22bea\">num_pipe</label><div class=\"sk-toggleable__content\"><pre>Index(['h1n1_concern', 'h1n1_knowledge', 'behavioral_antiviral_meds',\n",
       "       'behavioral_avoidance', 'behavioral_face_mask', 'behavioral_wash_hands',\n",
       "       'behavioral_large_gatherings', 'behavioral_outside_home',\n",
       "       'behavioral_touch_face', 'doctor_recc_h1n1', 'doctor_recc_seasonal',\n",
       "       'chronic_med_condition', 'child_under_6_months', 'health_worker',\n",
       "       'health_insurance', 'opinion_h1n1_vacc_effective', 'opinion_h1n1_risk',\n",
       "       'opinion_h1n1_sick_from_vacc', 'opinion_seas_vacc_effective',\n",
       "       'opinion_seas_risk', 'opinion_seas_sick_from_vacc', 'household_adults',\n",
       "       'household_children'],\n",
       "      dtype='object')</pre></div></div></div><div class=\"sk-serial\"><div class=\"sk-item\"><div class=\"sk-serial\"><div class=\"sk-item\"><div class=\"sk-estimator sk-toggleable\"><input class=\"sk-toggleable__control sk-hidden--visually\" id=\"a9909580-f29f-4b3c-98fe-b54a2fb3204a\" type=\"checkbox\" ><label class=\"sk-toggleable__label\" for=\"a9909580-f29f-4b3c-98fe-b54a2fb3204a\">SimpleImputer</label><div class=\"sk-toggleable__content\"><pre>SimpleImputer()</pre></div></div></div><div class=\"sk-item\"><div class=\"sk-estimator sk-toggleable\"><input class=\"sk-toggleable__control sk-hidden--visually\" id=\"4aedab39-3405-4494-81c1-080818ef9bd1\" type=\"checkbox\" ><label class=\"sk-toggleable__label\" for=\"4aedab39-3405-4494-81c1-080818ef9bd1\">StandardScaler</label><div class=\"sk-toggleable__content\"><pre>StandardScaler()</pre></div></div></div></div></div></div></div></div></div></div><div class=\"sk-item\"><div class=\"sk-estimator sk-toggleable\"><input class=\"sk-toggleable__control sk-hidden--visually\" id=\"7f0e729a-1e92-403c-9ca9-dc3fe995f917\" type=\"checkbox\" ><label class=\"sk-toggleable__label\" for=\"7f0e729a-1e92-403c-9ca9-dc3fe995f917\">RandomOverSampler</label><div class=\"sk-toggleable__content\"><pre>RandomOverSampler()</pre></div></div></div><div class=\"sk-item\"><div class=\"sk-estimator sk-toggleable\"><input class=\"sk-toggleable__control sk-hidden--visually\" id=\"8c28d2ee-38cc-4bd2-8523-36496c6f4848\" type=\"checkbox\" ><label class=\"sk-toggleable__label\" for=\"8c28d2ee-38cc-4bd2-8523-36496c6f4848\">LogisticRegression</label><div class=\"sk-toggleable__content\"><pre>LogisticRegression()</pre></div></div></div></div></div></div></div>"
      ],
      "text/plain": [
       "Pipeline(steps=[('preprocess',\n",
       "                 ColumnTransformer(transformers=[('ordinal_pipe',\n",
       "                                                  Pipeline(steps=[('ordimputer',\n",
       "                                                                   SimpleImputer(strategy='most_frequent')),\n",
       "                                                                  ('ordenc',\n",
       "                                                                   OrdinalEncoder(categories=[['18 '\n",
       "                                                                                               '- '\n",
       "                                                                                               '34 '\n",
       "                                                                                               'Years',\n",
       "                                                                                               '35 '\n",
       "                                                                                               '- '\n",
       "                                                                                               '44 '\n",
       "                                                                                               'Years',\n",
       "                                                                                               '45 '\n",
       "                                                                                               '- '\n",
       "                                                                                               '54 '\n",
       "                                                                                               'Years',\n",
       "                                                                                               '55 '\n",
       "                                                                                               '- '\n",
       "                                                                                               '64 '\n",
       "                                                                                               'Years',\n",
       "                                                                                               '65+ '\n",
       "                                                                                               'Years'],\n",
       "                                                                                              ['< '\n",
       "                                                                                               '12 '\n",
       "                                                                                               'Years',\n",
       "                                                                                               '12 '\n",
       "                                                                                               'Years',\n",
       "                                                                                               'Some '\n",
       "                                                                                               'College',\n",
       "                                                                                               'College '\n",
       "                                                                                               'Graduate'],\n",
       "                                                                                              ['Below '...\n",
       "       'chronic_med_condition', 'child_under_6_months', 'health_worker',\n",
       "       'health_insurance', 'opinion_h1n1_vacc_effective', 'opinion_h1n1_risk',\n",
       "       'opinion_h1n1_sick_from_vacc', 'opinion_seas_vacc_effective',\n",
       "       'opinion_seas_risk', 'opinion_seas_sick_from_vacc', 'household_adults',\n",
       "       'household_children'],\n",
       "      dtype='object'))])),\n",
       "                ('oversample', RandomOverSampler()),\n",
       "                ('model', LogisticRegression())])"
      ]
     },
     "execution_count": 24,
     "metadata": {},
     "output_type": "execute_result"
    }
   ],
   "source": [
    "pipeline_3.fit(X_train, y_train)"
   ]
  },
  {
   "cell_type": "code",
   "execution_count": 25,
   "metadata": {},
   "outputs": [],
   "source": [
    "y_pred3 = pipeline_3.predict(X_test)"
   ]
  },
  {
   "cell_type": "code",
   "execution_count": 26,
   "metadata": {},
   "outputs": [
    {
     "data": {
      "text/plain": [
       "<sklearn.metrics._plot.confusion_matrix.ConfusionMatrixDisplay at 0x24492cc37f0>"
      ]
     },
     "execution_count": 26,
     "metadata": {},
     "output_type": "execute_result"
    },
    {
     "data": {
      "image/png": "[encoded data removed]",
      "text/plain": [
       "<Figure size 432x288 with 2 Axes>"
      ]
     },
     "metadata": {
      "needs_background": "light"
     },
     "output_type": "display_data"
    }
   ],
   "source": [
    "plot_confusion_matrix(pipeline_3, X_test,y_test)"
   ]
  },
  {
   "cell_type": "code",
   "execution_count": 27,
   "metadata": {},
   "outputs": [
    {
     "name": "stdout",
     "output_type": "stream",
     "text": [
      "              precision    recall  f1-score   support\n",
      "\n",
      "           0       0.91      0.78      0.84      6311\n",
      "           1       0.48      0.73      0.58      1702\n",
      "\n",
      "    accuracy                           0.77      8013\n",
      "   macro avg       0.69      0.76      0.71      8013\n",
      "weighted avg       0.82      0.77      0.79      8013\n",
      "\n"
     ]
    }
   ],
   "source": [
    "print(classification_report(y_test, y_pred3))"
   ]
  },
  {
   "cell_type": "code",
   "execution_count": 28,
   "metadata": {},
   "outputs": [
    {
     "data": {
      "text/plain": [
       "<sklearn.metrics._plot.roc_curve.RocCurveDisplay at 0x24492d6b3a0>"
      ]
     },
     "execution_count": 28,
     "metadata": {},
     "output_type": "execute_result"
    },
    {
     "data": {
      "image/png": "[encoded data removed]",
      "text/plain": [
       "<Figure size 432x288 with 1 Axes>"
      ]
     },
     "metadata": {
      "needs_background": "light"
     },
     "output_type": "display_data"
    }
   ],
   "source": [
    "plot_roc_curve(pipeline_3, X_test, y_test)"
   ]
  },
  {
   "cell_type": "markdown",
   "metadata": {},
   "source": [
    "## Model 4 - Logistic Regression + Undersampling"
   ]
  },
  {
   "cell_type": "code",
   "execution_count": 29,
   "metadata": {},
   "outputs": [],
   "source": [
    "undersample = RandomUnderSampler()"
   ]
  },
  {
   "cell_type": "code",
   "execution_count": 30,
   "metadata": {},
   "outputs": [],
   "source": [
    "pipeline_4 = Pipeline([(\"preprocess\",ct),\n",
    "                       (\"undersample\",undersample),\n",
    "                       (\"model\",LogisticRegression())])"
   ]
  },
  {
   "cell_type": "code",
   "execution_count": 31,
   "metadata": {},
   "outputs": [
    {
     "data": {
      "text/html": [
       "<style>div.sk-top-container {color: black;background-color: white;}div.sk-toggleable {background-color: white;}label.sk-toggleable__label {cursor: pointer;display: block;width: 100%;margin-bottom: 0;padding: 0.2em 0.3em;box-sizing: border-box;text-align: center;}div.sk-toggleable__content {max-height: 0;max-width: 0;overflow: hidden;text-align: left;background-color: #f0f8ff;}div.sk-toggleable__content pre {margin: 0.2em;color: black;border-radius: 0.25em;background-color: #f0f8ff;}input.sk-toggleable__control:checked~div.sk-toggleable__content {max-height: 200px;max-width: 100%;overflow: auto;}div.sk-estimator input.sk-toggleable__control:checked~label.sk-toggleable__label {background-color: #d4ebff;}div.sk-label input.sk-toggleable__control:checked~label.sk-toggleable__label {background-color: #d4ebff;}input.sk-hidden--visually {border: 0;clip: rect(1px 1px 1px 1px);clip: rect(1px, 1px, 1px, 1px);height: 1px;margin: -1px;overflow: hidden;padding: 0;position: absolute;width: 1px;}div.sk-estimator {font-family: monospace;background-color: #f0f8ff;margin: 0.25em 0.25em;border: 1px dotted black;border-radius: 0.25em;box-sizing: border-box;}div.sk-estimator:hover {background-color: #d4ebff;}div.sk-parallel-item::after {content: \"\";width: 100%;border-bottom: 1px solid gray;flex-grow: 1;}div.sk-label:hover label.sk-toggleable__label {background-color: #d4ebff;}div.sk-serial::before {content: \"\";position: absolute;border-left: 1px solid gray;box-sizing: border-box;top: 2em;bottom: 0;left: 50%;}div.sk-serial {display: flex;flex-direction: column;align-items: center;background-color: white;}div.sk-item {z-index: 1;}div.sk-parallel {display: flex;align-items: stretch;justify-content: center;background-color: white;}div.sk-parallel-item {display: flex;flex-direction: column;position: relative;background-color: white;}div.sk-parallel-item:first-child::after {align-self: flex-end;width: 50%;}div.sk-parallel-item:last-child::after {align-self: flex-start;width: 50%;}div.sk-parallel-item:only-child::after {width: 0;}div.sk-dashed-wrapped {border: 1px dashed gray;margin: 0.2em;box-sizing: border-box;padding-bottom: 0.1em;background-color: white;position: relative;}div.sk-label label {font-family: monospace;font-weight: bold;background-color: white;display: inline-block;line-height: 1.2em;}div.sk-label-container {position: relative;z-index: 2;text-align: center;}div.sk-container {display: inline-block;position: relative;}</style><div class=\"sk-top-container\"><div class=\"sk-container\"><div class=\"sk-item sk-dashed-wrapped\"><div class=\"sk-label-container\"><div class=\"sk-label sk-toggleable\"><input class=\"sk-toggleable__control sk-hidden--visually\" id=\"aea61c1f-d9fe-4e62-946d-2526790b440c\" type=\"checkbox\" ><label class=\"sk-toggleable__label\" for=\"aea61c1f-d9fe-4e62-946d-2526790b440c\">Pipeline</label><div class=\"sk-toggleable__content\"><pre>Pipeline(steps=[('preprocess',\n",
       "                 ColumnTransformer(transformers=[('ordinal_pipe',\n",
       "                                                  Pipeline(steps=[('ordimputer',\n",
       "                                                                   SimpleImputer(strategy='most_frequent')),\n",
       "                                                                  ('ordenc',\n",
       "                                                                   OrdinalEncoder(categories=[['18 '\n",
       "                                                                                               '- '\n",
       "                                                                                               '34 '\n",
       "                                                                                               'Years',\n",
       "                                                                                               '35 '\n",
       "                                                                                               '- '\n",
       "                                                                                               '44 '\n",
       "                                                                                               'Years',\n",
       "                                                                                               '45 '\n",
       "                                                                                               '- '\n",
       "                                                                                               '54 '\n",
       "                                                                                               'Years',\n",
       "                                                                                               '55 '\n",
       "                                                                                               '- '\n",
       "                                                                                               '64 '\n",
       "                                                                                               'Years',\n",
       "                                                                                               '65+ '\n",
       "                                                                                               'Years'],\n",
       "                                                                                              ['< '\n",
       "                                                                                               '12 '\n",
       "                                                                                               'Years',\n",
       "                                                                                               '12 '\n",
       "                                                                                               'Years',\n",
       "                                                                                               'Some '\n",
       "                                                                                               'College',\n",
       "                                                                                               'College '\n",
       "                                                                                               'Graduate'],\n",
       "                                                                                              ['Below '...\n",
       "       'chronic_med_condition', 'child_under_6_months', 'health_worker',\n",
       "       'health_insurance', 'opinion_h1n1_vacc_effective', 'opinion_h1n1_risk',\n",
       "       'opinion_h1n1_sick_from_vacc', 'opinion_seas_vacc_effective',\n",
       "       'opinion_seas_risk', 'opinion_seas_sick_from_vacc', 'household_adults',\n",
       "       'household_children'],\n",
       "      dtype='object'))])),\n",
       "                ('undersample', RandomUnderSampler()),\n",
       "                ('model', LogisticRegression())])</pre></div></div></div><div class=\"sk-serial\"><div class=\"sk-item sk-dashed-wrapped\"><div class=\"sk-label-container\"><div class=\"sk-label sk-toggleable\"><input class=\"sk-toggleable__control sk-hidden--visually\" id=\"31384c5c-28a5-40b7-b50f-ba96339bcf84\" type=\"checkbox\" ><label class=\"sk-toggleable__label\" for=\"31384c5c-28a5-40b7-b50f-ba96339bcf84\">preprocess: ColumnTransformer</label><div class=\"sk-toggleable__content\"><pre>ColumnTransformer(transformers=[('ordinal_pipe',\n",
       "                                 Pipeline(steps=[('ordimputer',\n",
       "                                                  SimpleImputer(strategy='most_frequent')),\n",
       "                                                 ('ordenc',\n",
       "                                                  OrdinalEncoder(categories=[['18 '\n",
       "                                                                              '- '\n",
       "                                                                              '34 '\n",
       "                                                                              'Years',\n",
       "                                                                              '35 '\n",
       "                                                                              '- '\n",
       "                                                                              '44 '\n",
       "                                                                              'Years',\n",
       "                                                                              '45 '\n",
       "                                                                              '- '\n",
       "                                                                              '54 '\n",
       "                                                                              'Years',\n",
       "                                                                              '55 '\n",
       "                                                                              '- '\n",
       "                                                                              '64 '\n",
       "                                                                              'Years',\n",
       "                                                                              '65+ '\n",
       "                                                                              'Years'],\n",
       "                                                                             ['< '\n",
       "                                                                              '12 '\n",
       "                                                                              'Years',\n",
       "                                                                              '12 '\n",
       "                                                                              'Years',\n",
       "                                                                              'Some '\n",
       "                                                                              'College',\n",
       "                                                                              'College '\n",
       "                                                                              'Graduate'],\n",
       "                                                                             ['Below '\n",
       "                                                                              'Poverty',\n",
       "                                                                              '<= '\n",
       "                                                                              '$75,000, '\n",
       "                                                                              'Above...\n",
       "       'behavioral_touch_face', 'doctor_recc_h1n1', 'doctor_recc_seasonal',\n",
       "       'chronic_med_condition', 'child_under_6_months', 'health_worker',\n",
       "       'health_insurance', 'opinion_h1n1_vacc_effective', 'opinion_h1n1_risk',\n",
       "       'opinion_h1n1_sick_from_vacc', 'opinion_seas_vacc_effective',\n",
       "       'opinion_seas_risk', 'opinion_seas_sick_from_vacc', 'household_adults',\n",
       "       'household_children'],\n",
       "      dtype='object'))])</pre></div></div></div><div class=\"sk-parallel\"><div class=\"sk-parallel-item\"><div class=\"sk-item\"><div class=\"sk-label-container\"><div class=\"sk-label sk-toggleable\"><input class=\"sk-toggleable__control sk-hidden--visually\" id=\"4eaf3002-54be-4368-b617-d1f34cb9d8b2\" type=\"checkbox\" ><label class=\"sk-toggleable__label\" for=\"4eaf3002-54be-4368-b617-d1f34cb9d8b2\">ordinal_pipe</label><div class=\"sk-toggleable__content\"><pre>['age_group', 'education', 'income_poverty']</pre></div></div></div><div class=\"sk-serial\"><div class=\"sk-item\"><div class=\"sk-serial\"><div class=\"sk-item\"><div class=\"sk-estimator sk-toggleable\"><input class=\"sk-toggleable__control sk-hidden--visually\" id=\"a7e64bf4-7339-4502-8706-c0f3facf48ad\" type=\"checkbox\" ><label class=\"sk-toggleable__label\" for=\"a7e64bf4-7339-4502-8706-c0f3facf48ad\">SimpleImputer</label><div class=\"sk-toggleable__content\"><pre>SimpleImputer(strategy='most_frequent')</pre></div></div></div><div class=\"sk-item\"><div class=\"sk-estimator sk-toggleable\"><input class=\"sk-toggleable__control sk-hidden--visually\" id=\"1a5b0bb5-148b-4d7c-8152-ce274d89707a\" type=\"checkbox\" ><label class=\"sk-toggleable__label\" for=\"1a5b0bb5-148b-4d7c-8152-ce274d89707a\">OrdinalEncoder</label><div class=\"sk-toggleable__content\"><pre>OrdinalEncoder(categories=[['18 - 34 Years', '35 - 44 Years', '45 - 54 Years',\n",
       "                            '55 - 64 Years', '65+ Years'],\n",
       "                           ['< 12 Years', '12 Years', 'Some College',\n",
       "                            'College Graduate'],\n",
       "                           ['Below Poverty', '<= $75,000, Above Poverty',\n",
       "                            '> $75,000']])</pre></div></div></div><div class=\"sk-item\"><div class=\"sk-estimator sk-toggleable\"><input class=\"sk-toggleable__control sk-hidden--visually\" id=\"6af1f4d4-c3b9-47e7-bb62-196672cf47e5\" type=\"checkbox\" ><label class=\"sk-toggleable__label\" for=\"6af1f4d4-c3b9-47e7-bb62-196672cf47e5\">StandardScaler</label><div class=\"sk-toggleable__content\"><pre>StandardScaler()</pre></div></div></div></div></div></div></div></div><div class=\"sk-parallel-item\"><div class=\"sk-item\"><div class=\"sk-label-container\"><div class=\"sk-label sk-toggleable\"><input class=\"sk-toggleable__control sk-hidden--visually\" id=\"b5bb9786-1c28-4c89-ab99-54fcc04017d3\" type=\"checkbox\" ><label class=\"sk-toggleable__label\" for=\"b5bb9786-1c28-4c89-ab99-54fcc04017d3\">nominal_pipe</label><div class=\"sk-toggleable__content\"><pre>['race', 'sex', 'marital_status', 'rent_or_own', 'employment_status', 'census_msa']</pre></div></div></div><div class=\"sk-serial\"><div class=\"sk-item\"><div class=\"sk-serial\"><div class=\"sk-item\"><div class=\"sk-estimator sk-toggleable\"><input class=\"sk-toggleable__control sk-hidden--visually\" id=\"fd2ec6d1-3a66-4cb8-b3c8-aaa9e00ebbff\" type=\"checkbox\" ><label class=\"sk-toggleable__label\" for=\"fd2ec6d1-3a66-4cb8-b3c8-aaa9e00ebbff\">SimpleImputer</label><div class=\"sk-toggleable__content\"><pre>SimpleImputer(strategy='most_frequent')</pre></div></div></div><div class=\"sk-item\"><div class=\"sk-estimator sk-toggleable\"><input class=\"sk-toggleable__control sk-hidden--visually\" id=\"2b0123e5-fe23-4b17-b035-1de742c1ca33\" type=\"checkbox\" ><label class=\"sk-toggleable__label\" for=\"2b0123e5-fe23-4b17-b035-1de742c1ca33\">OneHotEncoder</label><div class=\"sk-toggleable__content\"><pre>OneHotEncoder(drop='first', sparse=False)</pre></div></div></div><div class=\"sk-item\"><div class=\"sk-estimator sk-toggleable\"><input class=\"sk-toggleable__control sk-hidden--visually\" id=\"3657b93e-8e91-4953-910a-33e7c39e4a8a\" type=\"checkbox\" ><label class=\"sk-toggleable__label\" for=\"3657b93e-8e91-4953-910a-33e7c39e4a8a\">MaxAbsScaler</label><div class=\"sk-toggleable__content\"><pre>MaxAbsScaler()</pre></div></div></div></div></div></div></div></div><div class=\"sk-parallel-item\"><div class=\"sk-item\"><div class=\"sk-label-container\"><div class=\"sk-label sk-toggleable\"><input class=\"sk-toggleable__control sk-hidden--visually\" id=\"9a2f3978-da23-4f79-bac1-f8a0baccad00\" type=\"checkbox\" ><label class=\"sk-toggleable__label\" for=\"9a2f3978-da23-4f79-bac1-f8a0baccad00\">num_pipe</label><div class=\"sk-toggleable__content\"><pre>Index(['h1n1_concern', 'h1n1_knowledge', 'behavioral_antiviral_meds',\n",
       "       'behavioral_avoidance', 'behavioral_face_mask', 'behavioral_wash_hands',\n",
       "       'behavioral_large_gatherings', 'behavioral_outside_home',\n",
       "       'behavioral_touch_face', 'doctor_recc_h1n1', 'doctor_recc_seasonal',\n",
       "       'chronic_med_condition', 'child_under_6_months', 'health_worker',\n",
       "       'health_insurance', 'opinion_h1n1_vacc_effective', 'opinion_h1n1_risk',\n",
       "       'opinion_h1n1_sick_from_vacc', 'opinion_seas_vacc_effective',\n",
       "       'opinion_seas_risk', 'opinion_seas_sick_from_vacc', 'household_adults',\n",
       "       'household_children'],\n",
       "      dtype='object')</pre></div></div></div><div class=\"sk-serial\"><div class=\"sk-item\"><div class=\"sk-serial\"><div class=\"sk-item\"><div class=\"sk-estimator sk-toggleable\"><input class=\"sk-toggleable__control sk-hidden--visually\" id=\"1c5ad4db-8e2f-44fe-8290-46711a3704e1\" type=\"checkbox\" ><label class=\"sk-toggleable__label\" for=\"1c5ad4db-8e2f-44fe-8290-46711a3704e1\">SimpleImputer</label><div class=\"sk-toggleable__content\"><pre>SimpleImputer()</pre></div></div></div><div class=\"sk-item\"><div class=\"sk-estimator sk-toggleable\"><input class=\"sk-toggleable__control sk-hidden--visually\" id=\"9da0887e-09b1-4e57-ac12-aa3da7cb5d2c\" type=\"checkbox\" ><label class=\"sk-toggleable__label\" for=\"9da0887e-09b1-4e57-ac12-aa3da7cb5d2c\">StandardScaler</label><div class=\"sk-toggleable__content\"><pre>StandardScaler()</pre></div></div></div></div></div></div></div></div></div></div><div class=\"sk-item\"><div class=\"sk-estimator sk-toggleable\"><input class=\"sk-toggleable__control sk-hidden--visually\" id=\"ddef9946-85f0-4670-94f6-3804bec0f8f7\" type=\"checkbox\" ><label class=\"sk-toggleable__label\" for=\"ddef9946-85f0-4670-94f6-3804bec0f8f7\">RandomUnderSampler</label><div class=\"sk-toggleable__content\"><pre>RandomUnderSampler()</pre></div></div></div><div class=\"sk-item\"><div class=\"sk-estimator sk-toggleable\"><input class=\"sk-toggleable__control sk-hidden--visually\" id=\"cfcacac6-c992-4c4b-bf3a-0ca911dd789e\" type=\"checkbox\" ><label class=\"sk-toggleable__label\" for=\"cfcacac6-c992-4c4b-bf3a-0ca911dd789e\">LogisticRegression</label><div class=\"sk-toggleable__content\"><pre>LogisticRegression()</pre></div></div></div></div></div></div></div>"
      ],
      "text/plain": [
       "Pipeline(steps=[('preprocess',\n",
       "                 ColumnTransformer(transformers=[('ordinal_pipe',\n",
       "                                                  Pipeline(steps=[('ordimputer',\n",
       "                                                                   SimpleImputer(strategy='most_frequent')),\n",
       "                                                                  ('ordenc',\n",
       "                                                                   OrdinalEncoder(categories=[['18 '\n",
       "                                                                                               '- '\n",
       "                                                                                               '34 '\n",
       "                                                                                               'Years',\n",
       "                                                                                               '35 '\n",
       "                                                                                               '- '\n",
       "                                                                                               '44 '\n",
       "                                                                                               'Years',\n",
       "                                                                                               '45 '\n",
       "                                                                                               '- '\n",
       "                                                                                               '54 '\n",
       "                                                                                               'Years',\n",
       "                                                                                               '55 '\n",
       "                                                                                               '- '\n",
       "                                                                                               '64 '\n",
       "                                                                                               'Years',\n",
       "                                                                                               '65+ '\n",
       "                                                                                               'Years'],\n",
       "                                                                                              ['< '\n",
       "                                                                                               '12 '\n",
       "                                                                                               'Years',\n",
       "                                                                                               '12 '\n",
       "                                                                                               'Years',\n",
       "                                                                                               'Some '\n",
       "                                                                                               'College',\n",
       "                                                                                               'College '\n",
       "                                                                                               'Graduate'],\n",
       "                                                                                              ['Below '...\n",
       "       'chronic_med_condition', 'child_under_6_months', 'health_worker',\n",
       "       'health_insurance', 'opinion_h1n1_vacc_effective', 'opinion_h1n1_risk',\n",
       "       'opinion_h1n1_sick_from_vacc', 'opinion_seas_vacc_effective',\n",
       "       'opinion_seas_risk', 'opinion_seas_sick_from_vacc', 'household_adults',\n",
       "       'household_children'],\n",
       "      dtype='object'))])),\n",
       "                ('undersample', RandomUnderSampler()),\n",
       "                ('model', LogisticRegression())])"
      ]
     },
     "execution_count": 31,
     "metadata": {},
     "output_type": "execute_result"
    }
   ],
   "source": [
    "pipeline_4.fit(X_train, y_train)"
   ]
  },
  {
   "cell_type": "code",
   "execution_count": 32,
   "metadata": {},
   "outputs": [],
   "source": [
    "y_pred4 = pipeline_4.predict(X_test)"
   ]
  },
  {
   "cell_type": "code",
   "execution_count": 33,
   "metadata": {},
   "outputs": [
    {
     "data": {
      "text/plain": [
       "<sklearn.metrics._plot.confusion_matrix.ConfusionMatrixDisplay at 0x24492ccc940>"
      ]
     },
     "execution_count": 33,
     "metadata": {},
     "output_type": "execute_result"
    },
    {
     "data": {
      "image/png": "[encoded data removed]",
      "text/plain": [
       "<Figure size 432x288 with 2 Axes>"
      ]
     },
     "metadata": {
      "needs_background": "light"
     },
     "output_type": "display_data"
    }
   ],
   "source": [
    "plot_confusion_matrix(pipeline_4, X_test,y_test)"
   ]
  },
  {
   "cell_type": "code",
   "execution_count": 34,
   "metadata": {},
   "outputs": [
    {
     "name": "stdout",
     "output_type": "stream",
     "text": [
      "              precision    recall  f1-score   support\n",
      "\n",
      "           0       0.91      0.78      0.84      6311\n",
      "           1       0.47      0.73      0.57      1702\n",
      "\n",
      "    accuracy                           0.77      8013\n",
      "   macro avg       0.69      0.75      0.71      8013\n",
      "weighted avg       0.82      0.77      0.78      8013\n",
      "\n"
     ]
    }
   ],
   "source": [
    "print(classification_report(y_test, y_pred4))"
   ]
  },
  {
   "cell_type": "code",
   "execution_count": 35,
   "metadata": {},
   "outputs": [
    {
     "data": {
      "text/plain": [
       "<sklearn.metrics._plot.roc_curve.RocCurveDisplay at 0x24492e41310>"
      ]
     },
     "execution_count": 35,
     "metadata": {},
     "output_type": "execute_result"
    },
    {
     "data": {
      "image/png": "[encoded data removed]",
      "text/plain": [
       "<Figure size 432x288 with 1 Axes>"
      ]
     },
     "metadata": {
      "needs_background": "light"
     },
     "output_type": "display_data"
    }
   ],
   "source": [
    "plot_roc_curve(pipeline_4, X_test, y_test)"
   ]
  },
  {
   "cell_type": "markdown",
   "metadata": {},
   "source": [
    "## Model 5 - Random Forest Classifier"
   ]
  },
  {
   "cell_type": "code",
   "execution_count": 36,
   "metadata": {},
   "outputs": [],
   "source": [
    "from sklearn.ensemble import RandomForestClassifier"
   ]
  },
  {
   "cell_type": "code",
   "execution_count": 109,
   "metadata": {},
   "outputs": [],
   "source": [
    "pipeline_5 = Pipeline([(\"preprocess\",ct),\n",
    "                       (\"smote\",smt),\n",
    "                       (\"model\",RandomForestClassifier(n_estimators = 100,max_depth=10))]) #10 was best at 86 ROC"
   ]
  },
  {
   "cell_type": "code",
   "execution_count": 110,
   "metadata": {},
   "outputs": [
    {
     "data": {
      "text/html": [
       "<style>div.sk-top-container {color: black;background-color: white;}div.sk-toggleable {background-color: white;}label.sk-toggleable__label {cursor: pointer;display: block;width: 100%;margin-bottom: 0;padding: 0.2em 0.3em;box-sizing: border-box;text-align: center;}div.sk-toggleable__content {max-height: 0;max-width: 0;overflow: hidden;text-align: left;background-color: #f0f8ff;}div.sk-toggleable__content pre {margin: 0.2em;color: black;border-radius: 0.25em;background-color: #f0f8ff;}input.sk-toggleable__control:checked~div.sk-toggleable__content {max-height: 200px;max-width: 100%;overflow: auto;}div.sk-estimator input.sk-toggleable__control:checked~label.sk-toggleable__label {background-color: #d4ebff;}div.sk-label input.sk-toggleable__control:checked~label.sk-toggleable__label {background-color: #d4ebff;}input.sk-hidden--visually {border: 0;clip: rect(1px 1px 1px 1px);clip: rect(1px, 1px, 1px, 1px);height: 1px;margin: -1px;overflow: hidden;padding: 0;position: absolute;width: 1px;}div.sk-estimator {font-family: monospace;background-color: #f0f8ff;margin: 0.25em 0.25em;border: 1px dotted black;border-radius: 0.25em;box-sizing: border-box;}div.sk-estimator:hover {background-color: #d4ebff;}div.sk-parallel-item::after {content: \"\";width: 100%;border-bottom: 1px solid gray;flex-grow: 1;}div.sk-label:hover label.sk-toggleable__label {background-color: #d4ebff;}div.sk-serial::before {content: \"\";position: absolute;border-left: 1px solid gray;box-sizing: border-box;top: 2em;bottom: 0;left: 50%;}div.sk-serial {display: flex;flex-direction: column;align-items: center;background-color: white;}div.sk-item {z-index: 1;}div.sk-parallel {display: flex;align-items: stretch;justify-content: center;background-color: white;}div.sk-parallel-item {display: flex;flex-direction: column;position: relative;background-color: white;}div.sk-parallel-item:first-child::after {align-self: flex-end;width: 50%;}div.sk-parallel-item:last-child::after {align-self: flex-start;width: 50%;}div.sk-parallel-item:only-child::after {width: 0;}div.sk-dashed-wrapped {border: 1px dashed gray;margin: 0.2em;box-sizing: border-box;padding-bottom: 0.1em;background-color: white;position: relative;}div.sk-label label {font-family: monospace;font-weight: bold;background-color: white;display: inline-block;line-height: 1.2em;}div.sk-label-container {position: relative;z-index: 2;text-align: center;}div.sk-container {display: inline-block;position: relative;}</style><div class=\"sk-top-container\"><div class=\"sk-container\"><div class=\"sk-item sk-dashed-wrapped\"><div class=\"sk-label-container\"><div class=\"sk-label sk-toggleable\"><input class=\"sk-toggleable__control sk-hidden--visually\" id=\"e7ee13ae-97db-41b2-9f00-94472e0e4867\" type=\"checkbox\" ><label class=\"sk-toggleable__label\" for=\"e7ee13ae-97db-41b2-9f00-94472e0e4867\">Pipeline</label><div class=\"sk-toggleable__content\"><pre>Pipeline(steps=[('preprocess',\n",
       "                 ColumnTransformer(transformers=[('ordinal_pipe',\n",
       "                                                  Pipeline(steps=[('ordimputer',\n",
       "                                                                   SimpleImputer(strategy='most_frequent')),\n",
       "                                                                  ('ordenc',\n",
       "                                                                   OrdinalEncoder(categories=[['18 '\n",
       "                                                                                               '- '\n",
       "                                                                                               '34 '\n",
       "                                                                                               'Years',\n",
       "                                                                                               '35 '\n",
       "                                                                                               '- '\n",
       "                                                                                               '44 '\n",
       "                                                                                               'Years',\n",
       "                                                                                               '45 '\n",
       "                                                                                               '- '\n",
       "                                                                                               '54 '\n",
       "                                                                                               'Years',\n",
       "                                                                                               '55 '\n",
       "                                                                                               '- '\n",
       "                                                                                               '64 '\n",
       "                                                                                               'Years',\n",
       "                                                                                               '65+ '\n",
       "                                                                                               'Years'],\n",
       "                                                                                              ['< '\n",
       "                                                                                               '12 '\n",
       "                                                                                               'Years',\n",
       "                                                                                               '12 '\n",
       "                                                                                               'Years',\n",
       "                                                                                               'Some '\n",
       "                                                                                               'College',\n",
       "                                                                                               'College '\n",
       "                                                                                               'Graduate'],\n",
       "                                                                                              ['Below '...\n",
       "       'chronic_med_condition', 'child_under_6_months', 'health_worker',\n",
       "       'health_insurance', 'opinion_h1n1_vacc_effective', 'opinion_h1n1_risk',\n",
       "       'opinion_h1n1_sick_from_vacc', 'opinion_seas_vacc_effective',\n",
       "       'opinion_seas_risk', 'opinion_seas_sick_from_vacc', 'household_adults',\n",
       "       'household_children'],\n",
       "      dtype='object'))])),\n",
       "                ('smote', SMOTE()),\n",
       "                ('model', RandomForestClassifier(max_depth=10))])</pre></div></div></div><div class=\"sk-serial\"><div class=\"sk-item sk-dashed-wrapped\"><div class=\"sk-label-container\"><div class=\"sk-label sk-toggleable\"><input class=\"sk-toggleable__control sk-hidden--visually\" id=\"afd1c17a-8fb9-4b6a-a3be-3c88ff0f9ad2\" type=\"checkbox\" ><label class=\"sk-toggleable__label\" for=\"afd1c17a-8fb9-4b6a-a3be-3c88ff0f9ad2\">preprocess: ColumnTransformer</label><div class=\"sk-toggleable__content\"><pre>ColumnTransformer(transformers=[('ordinal_pipe',\n",
       "                                 Pipeline(steps=[('ordimputer',\n",
       "                                                  SimpleImputer(strategy='most_frequent')),\n",
       "                                                 ('ordenc',\n",
       "                                                  OrdinalEncoder(categories=[['18 '\n",
       "                                                                              '- '\n",
       "                                                                              '34 '\n",
       "                                                                              'Years',\n",
       "                                                                              '35 '\n",
       "                                                                              '- '\n",
       "                                                                              '44 '\n",
       "                                                                              'Years',\n",
       "                                                                              '45 '\n",
       "                                                                              '- '\n",
       "                                                                              '54 '\n",
       "                                                                              'Years',\n",
       "                                                                              '55 '\n",
       "                                                                              '- '\n",
       "                                                                              '64 '\n",
       "                                                                              'Years',\n",
       "                                                                              '65+ '\n",
       "                                                                              'Years'],\n",
       "                                                                             ['< '\n",
       "                                                                              '12 '\n",
       "                                                                              'Years',\n",
       "                                                                              '12 '\n",
       "                                                                              'Years',\n",
       "                                                                              'Some '\n",
       "                                                                              'College',\n",
       "                                                                              'College '\n",
       "                                                                              'Graduate'],\n",
       "                                                                             ['Below '\n",
       "                                                                              'Poverty',\n",
       "                                                                              '<= '\n",
       "                                                                              '$75,000, '\n",
       "                                                                              'Above...\n",
       "       'behavioral_touch_face', 'doctor_recc_h1n1', 'doctor_recc_seasonal',\n",
       "       'chronic_med_condition', 'child_under_6_months', 'health_worker',\n",
       "       'health_insurance', 'opinion_h1n1_vacc_effective', 'opinion_h1n1_risk',\n",
       "       'opinion_h1n1_sick_from_vacc', 'opinion_seas_vacc_effective',\n",
       "       'opinion_seas_risk', 'opinion_seas_sick_from_vacc', 'household_adults',\n",
       "       'household_children'],\n",
       "      dtype='object'))])</pre></div></div></div><div class=\"sk-parallel\"><div class=\"sk-parallel-item\"><div class=\"sk-item\"><div class=\"sk-label-container\"><div class=\"sk-label sk-toggleable\"><input class=\"sk-toggleable__control sk-hidden--visually\" id=\"4fb13a0c-e329-47d7-a8f9-b4d6277f8986\" type=\"checkbox\" ><label class=\"sk-toggleable__label\" for=\"4fb13a0c-e329-47d7-a8f9-b4d6277f8986\">ordinal_pipe</label><div class=\"sk-toggleable__content\"><pre>['age_group', 'education', 'income_poverty']</pre></div></div></div><div class=\"sk-serial\"><div class=\"sk-item\"><div class=\"sk-serial\"><div class=\"sk-item\"><div class=\"sk-estimator sk-toggleable\"><input class=\"sk-toggleable__control sk-hidden--visually\" id=\"f708dcd8-3d72-40a1-a732-398dcd46f7b3\" type=\"checkbox\" ><label class=\"sk-toggleable__label\" for=\"f708dcd8-3d72-40a1-a732-398dcd46f7b3\">SimpleImputer</label><div class=\"sk-toggleable__content\"><pre>SimpleImputer(strategy='most_frequent')</pre></div></div></div><div class=\"sk-item\"><div class=\"sk-estimator sk-toggleable\"><input class=\"sk-toggleable__control sk-hidden--visually\" id=\"b77daa71-1b0b-4ac6-a0d6-d187d6a4ade0\" type=\"checkbox\" ><label class=\"sk-toggleable__label\" for=\"b77daa71-1b0b-4ac6-a0d6-d187d6a4ade0\">OrdinalEncoder</label><div class=\"sk-toggleable__content\"><pre>OrdinalEncoder(categories=[['18 - 34 Years', '35 - 44 Years', '45 - 54 Years',\n",
       "                            '55 - 64 Years', '65+ Years'],\n",
       "                           ['< 12 Years', '12 Years', 'Some College',\n",
       "                            'College Graduate'],\n",
       "                           ['Below Poverty', '<= $75,000, Above Poverty',\n",
       "                            '> $75,000']])</pre></div></div></div><div class=\"sk-item\"><div class=\"sk-estimator sk-toggleable\"><input class=\"sk-toggleable__control sk-hidden--visually\" id=\"72ef902a-76c8-480f-a936-5f26c873b912\" type=\"checkbox\" ><label class=\"sk-toggleable__label\" for=\"72ef902a-76c8-480f-a936-5f26c873b912\">StandardScaler</label><div class=\"sk-toggleable__content\"><pre>StandardScaler()</pre></div></div></div></div></div></div></div></div><div class=\"sk-parallel-item\"><div class=\"sk-item\"><div class=\"sk-label-container\"><div class=\"sk-label sk-toggleable\"><input class=\"sk-toggleable__control sk-hidden--visually\" id=\"50bc29c6-d323-4907-a434-d61fa035eba9\" type=\"checkbox\" ><label class=\"sk-toggleable__label\" for=\"50bc29c6-d323-4907-a434-d61fa035eba9\">nominal_pipe</label><div class=\"sk-toggleable__content\"><pre>['race', 'sex', 'marital_status', 'rent_or_own', 'employment_status', 'census_msa']</pre></div></div></div><div class=\"sk-serial\"><div class=\"sk-item\"><div class=\"sk-serial\"><div class=\"sk-item\"><div class=\"sk-estimator sk-toggleable\"><input class=\"sk-toggleable__control sk-hidden--visually\" id=\"b5978b75-e3f6-46bd-bbcf-3f6be09f921a\" type=\"checkbox\" ><label class=\"sk-toggleable__label\" for=\"b5978b75-e3f6-46bd-bbcf-3f6be09f921a\">SimpleImputer</label><div class=\"sk-toggleable__content\"><pre>SimpleImputer(strategy='most_frequent')</pre></div></div></div><div class=\"sk-item\"><div class=\"sk-estimator sk-toggleable\"><input class=\"sk-toggleable__control sk-hidden--visually\" id=\"adc1b2a4-9e63-46d7-ba28-acece40aef0c\" type=\"checkbox\" ><label class=\"sk-toggleable__label\" for=\"adc1b2a4-9e63-46d7-ba28-acece40aef0c\">OneHotEncoder</label><div class=\"sk-toggleable__content\"><pre>OneHotEncoder(drop='first', sparse=False)</pre></div></div></div><div class=\"sk-item\"><div class=\"sk-estimator sk-toggleable\"><input class=\"sk-toggleable__control sk-hidden--visually\" id=\"3ef6995f-4b47-4cc6-bf74-e83cc0349b3b\" type=\"checkbox\" ><label class=\"sk-toggleable__label\" for=\"3ef6995f-4b47-4cc6-bf74-e83cc0349b3b\">MaxAbsScaler</label><div class=\"sk-toggleable__content\"><pre>MaxAbsScaler()</pre></div></div></div></div></div></div></div></div><div class=\"sk-parallel-item\"><div class=\"sk-item\"><div class=\"sk-label-container\"><div class=\"sk-label sk-toggleable\"><input class=\"sk-toggleable__control sk-hidden--visually\" id=\"4b760e9b-567f-40a6-a7ce-78638fe47cc5\" type=\"checkbox\" ><label class=\"sk-toggleable__label\" for=\"4b760e9b-567f-40a6-a7ce-78638fe47cc5\">num_pipe</label><div class=\"sk-toggleable__content\"><pre>Index(['h1n1_concern', 'h1n1_knowledge', 'behavioral_antiviral_meds',\n",
       "       'behavioral_avoidance', 'behavioral_face_mask', 'behavioral_wash_hands',\n",
       "       'behavioral_large_gatherings', 'behavioral_outside_home',\n",
       "       'behavioral_touch_face', 'doctor_recc_h1n1', 'doctor_recc_seasonal',\n",
       "       'chronic_med_condition', 'child_under_6_months', 'health_worker',\n",
       "       'health_insurance', 'opinion_h1n1_vacc_effective', 'opinion_h1n1_risk',\n",
       "       'opinion_h1n1_sick_from_vacc', 'opinion_seas_vacc_effective',\n",
       "       'opinion_seas_risk', 'opinion_seas_sick_from_vacc', 'household_adults',\n",
       "       'household_children'],\n",
       "      dtype='object')</pre></div></div></div><div class=\"sk-serial\"><div class=\"sk-item\"><div class=\"sk-serial\"><div class=\"sk-item\"><div class=\"sk-estimator sk-toggleable\"><input class=\"sk-toggleable__control sk-hidden--visually\" id=\"a27a0893-bcb9-4939-b14a-b0a57014af4d\" type=\"checkbox\" ><label class=\"sk-toggleable__label\" for=\"a27a0893-bcb9-4939-b14a-b0a57014af4d\">SimpleImputer</label><div class=\"sk-toggleable__content\"><pre>SimpleImputer()</pre></div></div></div><div class=\"sk-item\"><div class=\"sk-estimator sk-toggleable\"><input class=\"sk-toggleable__control sk-hidden--visually\" id=\"15fce71e-519d-42e3-a3e1-c3f921d97ee6\" type=\"checkbox\" ><label class=\"sk-toggleable__label\" for=\"15fce71e-519d-42e3-a3e1-c3f921d97ee6\">StandardScaler</label><div class=\"sk-toggleable__content\"><pre>StandardScaler()</pre></div></div></div></div></div></div></div></div></div></div><div class=\"sk-item\"><div class=\"sk-estimator sk-toggleable\"><input class=\"sk-toggleable__control sk-hidden--visually\" id=\"458588a6-acde-427d-b4fa-7515505f5702\" type=\"checkbox\" ><label class=\"sk-toggleable__label\" for=\"458588a6-acde-427d-b4fa-7515505f5702\">SMOTE</label><div class=\"sk-toggleable__content\"><pre>SMOTE()</pre></div></div></div><div class=\"sk-item\"><div class=\"sk-estimator sk-toggleable\"><input class=\"sk-toggleable__control sk-hidden--visually\" id=\"2a39e5c0-a8cc-4cc1-ae2c-4413b0a0a974\" type=\"checkbox\" ><label class=\"sk-toggleable__label\" for=\"2a39e5c0-a8cc-4cc1-ae2c-4413b0a0a974\">RandomForestClassifier</label><div class=\"sk-toggleable__content\"><pre>RandomForestClassifier(max_depth=10)</pre></div></div></div></div></div></div></div>"
      ],
      "text/plain": [
       "Pipeline(steps=[('preprocess',\n",
       "                 ColumnTransformer(transformers=[('ordinal_pipe',\n",
       "                                                  Pipeline(steps=[('ordimputer',\n",
       "                                                                   SimpleImputer(strategy='most_frequent')),\n",
       "                                                                  ('ordenc',\n",
       "                                                                   OrdinalEncoder(categories=[['18 '\n",
       "                                                                                               '- '\n",
       "                                                                                               '34 '\n",
       "                                                                                               'Years',\n",
       "                                                                                               '35 '\n",
       "                                                                                               '- '\n",
       "                                                                                               '44 '\n",
       "                                                                                               'Years',\n",
       "                                                                                               '45 '\n",
       "                                                                                               '- '\n",
       "                                                                                               '54 '\n",
       "                                                                                               'Years',\n",
       "                                                                                               '55 '\n",
       "                                                                                               '- '\n",
       "                                                                                               '64 '\n",
       "                                                                                               'Years',\n",
       "                                                                                               '65+ '\n",
       "                                                                                               'Years'],\n",
       "                                                                                              ['< '\n",
       "                                                                                               '12 '\n",
       "                                                                                               'Years',\n",
       "                                                                                               '12 '\n",
       "                                                                                               'Years',\n",
       "                                                                                               'Some '\n",
       "                                                                                               'College',\n",
       "                                                                                               'College '\n",
       "                                                                                               'Graduate'],\n",
       "                                                                                              ['Below '...\n",
       "       'chronic_med_condition', 'child_under_6_months', 'health_worker',\n",
       "       'health_insurance', 'opinion_h1n1_vacc_effective', 'opinion_h1n1_risk',\n",
       "       'opinion_h1n1_sick_from_vacc', 'opinion_seas_vacc_effective',\n",
       "       'opinion_seas_risk', 'opinion_seas_sick_from_vacc', 'household_adults',\n",
       "       'household_children'],\n",
       "      dtype='object'))])),\n",
       "                ('smote', SMOTE()),\n",
       "                ('model', RandomForestClassifier(max_depth=10))])"
      ]
     },
     "execution_count": 110,
     "metadata": {},
     "output_type": "execute_result"
    }
   ],
   "source": [
    "pipeline_5.fit(X_train, y_train)"
   ]
  },
  {
   "cell_type": "code",
   "execution_count": 111,
   "metadata": {},
   "outputs": [],
   "source": [
    "y_pred5 = pipeline_5.predict(X_test)"
   ]
  },
  {
   "cell_type": "code",
   "execution_count": 112,
   "metadata": {},
   "outputs": [
    {
     "data": {
      "text/plain": [
       "<sklearn.metrics._plot.confusion_matrix.ConfusionMatrixDisplay at 0x2449323aa60>"
      ]
     },
     "execution_count": 112,
     "metadata": {},
     "output_type": "execute_result"
    },
    {
     "data": {
      "image/png": "[encoded data removed]",
      "text/plain": [
       "<Figure size 432x288 with 2 Axes>"
      ]
     },
     "metadata": {
      "needs_background": "light"
     },
     "output_type": "display_data"
    }
   ],
   "source": [
    "plot_confusion_matrix(pipeline_5, X_test,y_test)"
   ]
  },
  {
   "cell_type": "code",
   "execution_count": 113,
   "metadata": {},
   "outputs": [
    {
     "name": "stdout",
     "output_type": "stream",
     "text": [
      "              precision    recall  f1-score   support\n",
      "\n",
      "           0       0.89      0.92      0.90      6311\n",
      "           1       0.66      0.57      0.61      1702\n",
      "\n",
      "    accuracy                           0.85      8013\n",
      "   macro avg       0.77      0.74      0.76      8013\n",
      "weighted avg       0.84      0.85      0.84      8013\n",
      "\n"
     ]
    }
   ],
   "source": [
    "print(classification_report(y_test, y_pred5))"
   ]
  },
  {
   "cell_type": "code",
   "execution_count": 114,
   "metadata": {},
   "outputs": [
    {
     "data": {
      "text/plain": [
       "<sklearn.metrics._plot.roc_curve.RocCurveDisplay at 0x24493173eb0>"
      ]
     },
     "execution_count": 114,
     "metadata": {},
     "output_type": "execute_result"
    },
    {
     "data": {
      "image/png": "[encoded data removed]",
      "text/plain": [
       "<Figure size 432x288 with 1 Axes>"
      ]
     },
     "metadata": {
      "needs_background": "light"
     },
     "output_type": "display_data"
    }
   ],
   "source": [
    "plot_roc_curve(pipeline_5, X_test, y_test)"
   ]
  },
  {
   "cell_type": "markdown",
   "metadata": {},
   "source": [
    "## Model 6 - Random Forest Classifier + Hyperparameter Tuning"
   ]
  },
  {
   "cell_type": "code",
   "execution_count": 44,
   "metadata": {},
   "outputs": [],
   "source": [
    "pipeline_6 = Pipeline([(\"preprocess\",ct),\n",
    "                       (\"smote\",smt),\n",
    "                       (\"model\",RandomForestClassifier())])"
   ]
  },
  {
   "cell_type": "code",
   "execution_count": 45,
   "metadata": {},
   "outputs": [],
   "source": [
    "param_grid = {\n",
    "    'model__n_estimators': [25, 50, 100, 150],\n",
    "    'model__max_features': ['sqrt', 'log2', None],\n",
    "    'model__max_depth': [3, 6, 9],\n",
    "    'model__max_leaf_nodes': [3, 6, 9],\n",
    "}\n",
    "\n",
    "## Find other features to edit based on previous model"
   ]
  },
  {
   "cell_type": "code",
   "execution_count": 46,
   "metadata": {},
   "outputs": [],
   "source": [
    "tuned_pipeline_6 = GridSearchCV(estimator=pipeline_6, \n",
    "                       param_grid=param_grid)"
   ]
  },
  {
   "cell_type": "code",
   "execution_count": 47,
   "metadata": {},
   "outputs": [
    {
     "data": {
      "text/html": [
       "<style>div.sk-top-container {color: black;background-color: white;}div.sk-toggleable {background-color: white;}label.sk-toggleable__label {cursor: pointer;display: block;width: 100%;margin-bottom: 0;padding: 0.2em 0.3em;box-sizing: border-box;text-align: center;}div.sk-toggleable__content {max-height: 0;max-width: 0;overflow: hidden;text-align: left;background-color: #f0f8ff;}div.sk-toggleable__content pre {margin: 0.2em;color: black;border-radius: 0.25em;background-color: #f0f8ff;}input.sk-toggleable__control:checked~div.sk-toggleable__content {max-height: 200px;max-width: 100%;overflow: auto;}div.sk-estimator input.sk-toggleable__control:checked~label.sk-toggleable__label {background-color: #d4ebff;}div.sk-label input.sk-toggleable__control:checked~label.sk-toggleable__label {background-color: #d4ebff;}input.sk-hidden--visually {border: 0;clip: rect(1px 1px 1px 1px);clip: rect(1px, 1px, 1px, 1px);height: 1px;margin: -1px;overflow: hidden;padding: 0;position: absolute;width: 1px;}div.sk-estimator {font-family: monospace;background-color: #f0f8ff;margin: 0.25em 0.25em;border: 1px dotted black;border-radius: 0.25em;box-sizing: border-box;}div.sk-estimator:hover {background-color: #d4ebff;}div.sk-parallel-item::after {content: \"\";width: 100%;border-bottom: 1px solid gray;flex-grow: 1;}div.sk-label:hover label.sk-toggleable__label {background-color: #d4ebff;}div.sk-serial::before {content: \"\";position: absolute;border-left: 1px solid gray;box-sizing: border-box;top: 2em;bottom: 0;left: 50%;}div.sk-serial {display: flex;flex-direction: column;align-items: center;background-color: white;}div.sk-item {z-index: 1;}div.sk-parallel {display: flex;align-items: stretch;justify-content: center;background-color: white;}div.sk-parallel-item {display: flex;flex-direction: column;position: relative;background-color: white;}div.sk-parallel-item:first-child::after {align-self: flex-end;width: 50%;}div.sk-parallel-item:last-child::after {align-self: flex-start;width: 50%;}div.sk-parallel-item:only-child::after {width: 0;}div.sk-dashed-wrapped {border: 1px dashed gray;margin: 0.2em;box-sizing: border-box;padding-bottom: 0.1em;background-color: white;position: relative;}div.sk-label label {font-family: monospace;font-weight: bold;background-color: white;display: inline-block;line-height: 1.2em;}div.sk-label-container {position: relative;z-index: 2;text-align: center;}div.sk-container {display: inline-block;position: relative;}</style><div class=\"sk-top-container\"><div class=\"sk-container\"><div class=\"sk-item sk-dashed-wrapped\"><div class=\"sk-label-container\"><div class=\"sk-label sk-toggleable\"><input class=\"sk-toggleable__control sk-hidden--visually\" id=\"3ea66ca5-54c7-4386-871a-9201313b8e38\" type=\"checkbox\" ><label class=\"sk-toggleable__label\" for=\"3ea66ca5-54c7-4386-871a-9201313b8e38\">GridSearchCV</label><div class=\"sk-toggleable__content\"><pre>GridSearchCV(estimator=Pipeline(steps=[('preprocess',\n",
       "                                        ColumnTransformer(transformers=[('ordinal_pipe',\n",
       "                                                                         Pipeline(steps=[('ordimputer',\n",
       "                                                                                          SimpleImputer(strategy='most_frequent')),\n",
       "                                                                                         ('ordenc',\n",
       "                                                                                          OrdinalEncoder(categories=[['18 '\n",
       "                                                                                                                      '- '\n",
       "                                                                                                                      '34 '\n",
       "                                                                                                                      'Years',\n",
       "                                                                                                                      '35 '\n",
       "                                                                                                                      '- '\n",
       "                                                                                                                      '44 '\n",
       "                                                                                                                      'Years',\n",
       "                                                                                                                      '45 '\n",
       "                                                                                                                      '- '\n",
       "                                                                                                                      '54 '\n",
       "                                                                                                                      'Years',\n",
       "                                                                                                                      '55 '\n",
       "                                                                                                                      '- '\n",
       "                                                                                                                      '64 '\n",
       "                                                                                                                      'Years',\n",
       "                                                                                                                      '65+ '\n",
       "                                                                                                                      'Years'],\n",
       "                                                                                                                     ['< '\n",
       "                                                                                                                      '12 '\n",
       "                                                                                                                      'Years',\n",
       "                                                                                                                      '12 '\n",
       "                                                                                                                      'Years',\n",
       "                                                                                                                      'Some '\n",
       "                                                                                                                      'College',\n",
       "                                                                                                                      'Colle...\n",
       "       'opinion_h1n1_sick_from_vacc', 'opinion_seas_vacc_effective',\n",
       "       'opinion_seas_risk', 'opinion_seas_sick_from_vacc', 'household_adults',\n",
       "       'household_children'],\n",
       "      dtype='object'))])),\n",
       "                                       ('smote', SMOTE()),\n",
       "                                       ('model', RandomForestClassifier())]),\n",
       "             param_grid={'model__max_depth': [3, 6, 9],\n",
       "                         'model__max_features': ['sqrt', 'log2', None],\n",
       "                         'model__max_leaf_nodes': [3, 6, 9],\n",
       "                         'model__n_estimators': [25, 50, 100, 150]})</pre></div></div></div><div class=\"sk-parallel\"><div class=\"sk-parallel-item\"><div class=\"sk-item\"><div class=\"sk-serial\"><div class=\"sk-item\"><div class=\"sk-serial\"><div class=\"sk-item sk-dashed-wrapped\"><div class=\"sk-label-container\"><div class=\"sk-label sk-toggleable\"><input class=\"sk-toggleable__control sk-hidden--visually\" id=\"88c0c959-528c-4654-85f4-4319148f84fe\" type=\"checkbox\" ><label class=\"sk-toggleable__label\" for=\"88c0c959-528c-4654-85f4-4319148f84fe\">preprocess: ColumnTransformer</label><div class=\"sk-toggleable__content\"><pre>ColumnTransformer(transformers=[('ordinal_pipe',\n",
       "                                 Pipeline(steps=[('ordimputer',\n",
       "                                                  SimpleImputer(strategy='most_frequent')),\n",
       "                                                 ('ordenc',\n",
       "                                                  OrdinalEncoder(categories=[['18 '\n",
       "                                                                              '- '\n",
       "                                                                              '34 '\n",
       "                                                                              'Years',\n",
       "                                                                              '35 '\n",
       "                                                                              '- '\n",
       "                                                                              '44 '\n",
       "                                                                              'Years',\n",
       "                                                                              '45 '\n",
       "                                                                              '- '\n",
       "                                                                              '54 '\n",
       "                                                                              'Years',\n",
       "                                                                              '55 '\n",
       "                                                                              '- '\n",
       "                                                                              '64 '\n",
       "                                                                              'Years',\n",
       "                                                                              '65+ '\n",
       "                                                                              'Years'],\n",
       "                                                                             ['< '\n",
       "                                                                              '12 '\n",
       "                                                                              'Years',\n",
       "                                                                              '12 '\n",
       "                                                                              'Years',\n",
       "                                                                              'Some '\n",
       "                                                                              'College',\n",
       "                                                                              'College '\n",
       "                                                                              'Graduate'],\n",
       "                                                                             ['Below '\n",
       "                                                                              'Poverty',\n",
       "                                                                              '<= '\n",
       "                                                                              '$75,000, '\n",
       "                                                                              'Above...\n",
       "       'behavioral_touch_face', 'doctor_recc_h1n1', 'doctor_recc_seasonal',\n",
       "       'chronic_med_condition', 'child_under_6_months', 'health_worker',\n",
       "       'health_insurance', 'opinion_h1n1_vacc_effective', 'opinion_h1n1_risk',\n",
       "       'opinion_h1n1_sick_from_vacc', 'opinion_seas_vacc_effective',\n",
       "       'opinion_seas_risk', 'opinion_seas_sick_from_vacc', 'household_adults',\n",
       "       'household_children'],\n",
       "      dtype='object'))])</pre></div></div></div><div class=\"sk-parallel\"><div class=\"sk-parallel-item\"><div class=\"sk-item\"><div class=\"sk-label-container\"><div class=\"sk-label sk-toggleable\"><input class=\"sk-toggleable__control sk-hidden--visually\" id=\"39e1bd2c-c646-4462-9ef3-57fae29242b8\" type=\"checkbox\" ><label class=\"sk-toggleable__label\" for=\"39e1bd2c-c646-4462-9ef3-57fae29242b8\">ordinal_pipe</label><div class=\"sk-toggleable__content\"><pre>['age_group', 'education', 'income_poverty']</pre></div></div></div><div class=\"sk-serial\"><div class=\"sk-item\"><div class=\"sk-serial\"><div class=\"sk-item\"><div class=\"sk-estimator sk-toggleable\"><input class=\"sk-toggleable__control sk-hidden--visually\" id=\"172c8e31-d3e4-4b90-9826-3c081a59768c\" type=\"checkbox\" ><label class=\"sk-toggleable__label\" for=\"172c8e31-d3e4-4b90-9826-3c081a59768c\">SimpleImputer</label><div class=\"sk-toggleable__content\"><pre>SimpleImputer(strategy='most_frequent')</pre></div></div></div><div class=\"sk-item\"><div class=\"sk-estimator sk-toggleable\"><input class=\"sk-toggleable__control sk-hidden--visually\" id=\"79280603-3000-48f5-af5e-9fe4a58fbedb\" type=\"checkbox\" ><label class=\"sk-toggleable__label\" for=\"79280603-3000-48f5-af5e-9fe4a58fbedb\">OrdinalEncoder</label><div class=\"sk-toggleable__content\"><pre>OrdinalEncoder(categories=[['18 - 34 Years', '35 - 44 Years', '45 - 54 Years',\n",
       "                            '55 - 64 Years', '65+ Years'],\n",
       "                           ['< 12 Years', '12 Years', 'Some College',\n",
       "                            'College Graduate'],\n",
       "                           ['Below Poverty', '<= $75,000, Above Poverty',\n",
       "                            '> $75,000']])</pre></div></div></div><div class=\"sk-item\"><div class=\"sk-estimator sk-toggleable\"><input class=\"sk-toggleable__control sk-hidden--visually\" id=\"df33dbd9-2d3f-4728-ac26-bb7e77bfb645\" type=\"checkbox\" ><label class=\"sk-toggleable__label\" for=\"df33dbd9-2d3f-4728-ac26-bb7e77bfb645\">StandardScaler</label><div class=\"sk-toggleable__content\"><pre>StandardScaler()</pre></div></div></div></div></div></div></div></div><div class=\"sk-parallel-item\"><div class=\"sk-item\"><div class=\"sk-label-container\"><div class=\"sk-label sk-toggleable\"><input class=\"sk-toggleable__control sk-hidden--visually\" id=\"80220256-8eb4-4be7-a8a0-1e32e3e574a6\" type=\"checkbox\" ><label class=\"sk-toggleable__label\" for=\"80220256-8eb4-4be7-a8a0-1e32e3e574a6\">nominal_pipe</label><div class=\"sk-toggleable__content\"><pre>['race', 'sex', 'marital_status', 'rent_or_own', 'employment_status', 'census_msa']</pre></div></div></div><div class=\"sk-serial\"><div class=\"sk-item\"><div class=\"sk-serial\"><div class=\"sk-item\"><div class=\"sk-estimator sk-toggleable\"><input class=\"sk-toggleable__control sk-hidden--visually\" id=\"62c69c44-74a6-4fe3-9e7a-75ad9863423f\" type=\"checkbox\" ><label class=\"sk-toggleable__label\" for=\"62c69c44-74a6-4fe3-9e7a-75ad9863423f\">SimpleImputer</label><div class=\"sk-toggleable__content\"><pre>SimpleImputer(strategy='most_frequent')</pre></div></div></div><div class=\"sk-item\"><div class=\"sk-estimator sk-toggleable\"><input class=\"sk-toggleable__control sk-hidden--visually\" id=\"296f43f4-c41c-4657-8c76-102f42470700\" type=\"checkbox\" ><label class=\"sk-toggleable__label\" for=\"296f43f4-c41c-4657-8c76-102f42470700\">OneHotEncoder</label><div class=\"sk-toggleable__content\"><pre>OneHotEncoder(drop='first', sparse=False)</pre></div></div></div><div class=\"sk-item\"><div class=\"sk-estimator sk-toggleable\"><input class=\"sk-toggleable__control sk-hidden--visually\" id=\"04ac9e35-5dff-42a0-81b7-ba1f493aff50\" type=\"checkbox\" ><label class=\"sk-toggleable__label\" for=\"04ac9e35-5dff-42a0-81b7-ba1f493aff50\">MaxAbsScaler</label><div class=\"sk-toggleable__content\"><pre>MaxAbsScaler()</pre></div></div></div></div></div></div></div></div><div class=\"sk-parallel-item\"><div class=\"sk-item\"><div class=\"sk-label-container\"><div class=\"sk-label sk-toggleable\"><input class=\"sk-toggleable__control sk-hidden--visually\" id=\"145a1fdc-b49f-4edd-ad5f-43e065e32640\" type=\"checkbox\" ><label class=\"sk-toggleable__label\" for=\"145a1fdc-b49f-4edd-ad5f-43e065e32640\">num_pipe</label><div class=\"sk-toggleable__content\"><pre>Index(['h1n1_concern', 'h1n1_knowledge', 'behavioral_antiviral_meds',\n",
       "       'behavioral_avoidance', 'behavioral_face_mask', 'behavioral_wash_hands',\n",
       "       'behavioral_large_gatherings', 'behavioral_outside_home',\n",
       "       'behavioral_touch_face', 'doctor_recc_h1n1', 'doctor_recc_seasonal',\n",
       "       'chronic_med_condition', 'child_under_6_months', 'health_worker',\n",
       "       'health_insurance', 'opinion_h1n1_vacc_effective', 'opinion_h1n1_risk',\n",
       "       'opinion_h1n1_sick_from_vacc', 'opinion_seas_vacc_effective',\n",
       "       'opinion_seas_risk', 'opinion_seas_sick_from_vacc', 'household_adults',\n",
       "       'household_children'],\n",
       "      dtype='object')</pre></div></div></div><div class=\"sk-serial\"><div class=\"sk-item\"><div class=\"sk-serial\"><div class=\"sk-item\"><div class=\"sk-estimator sk-toggleable\"><input class=\"sk-toggleable__control sk-hidden--visually\" id=\"c0cc7cf4-5fa4-4b1e-8fa6-e13aba2dae68\" type=\"checkbox\" ><label class=\"sk-toggleable__label\" for=\"c0cc7cf4-5fa4-4b1e-8fa6-e13aba2dae68\">SimpleImputer</label><div class=\"sk-toggleable__content\"><pre>SimpleImputer()</pre></div></div></div><div class=\"sk-item\"><div class=\"sk-estimator sk-toggleable\"><input class=\"sk-toggleable__control sk-hidden--visually\" id=\"5341eaf8-acfc-4df0-af71-aa438862355f\" type=\"checkbox\" ><label class=\"sk-toggleable__label\" for=\"5341eaf8-acfc-4df0-af71-aa438862355f\">StandardScaler</label><div class=\"sk-toggleable__content\"><pre>StandardScaler()</pre></div></div></div></div></div></div></div></div></div></div><div class=\"sk-item\"><div class=\"sk-estimator sk-toggleable\"><input class=\"sk-toggleable__control sk-hidden--visually\" id=\"00cf53be-46b1-4297-a2d8-cc34bd50b195\" type=\"checkbox\" ><label class=\"sk-toggleable__label\" for=\"00cf53be-46b1-4297-a2d8-cc34bd50b195\">SMOTE</label><div class=\"sk-toggleable__content\"><pre>SMOTE()</pre></div></div></div><div class=\"sk-item\"><div class=\"sk-estimator sk-toggleable\"><input class=\"sk-toggleable__control sk-hidden--visually\" id=\"5b832fd5-7b52-4645-aebb-b60b0f974d18\" type=\"checkbox\" ><label class=\"sk-toggleable__label\" for=\"5b832fd5-7b52-4645-aebb-b60b0f974d18\">RandomForestClassifier</label><div class=\"sk-toggleable__content\"><pre>RandomForestClassifier()</pre></div></div></div></div></div></div></div></div></div></div></div></div>"
      ],
      "text/plain": [
       "GridSearchCV(estimator=Pipeline(steps=[('preprocess',\n",
       "                                        ColumnTransformer(transformers=[('ordinal_pipe',\n",
       "                                                                         Pipeline(steps=[('ordimputer',\n",
       "                                                                                          SimpleImputer(strategy='most_frequent')),\n",
       "                                                                                         ('ordenc',\n",
       "                                                                                          OrdinalEncoder(categories=[['18 '\n",
       "                                                                                                                      '- '\n",
       "                                                                                                                      '34 '\n",
       "                                                                                                                      'Years',\n",
       "                                                                                                                      '35 '\n",
       "                                                                                                                      '- '\n",
       "                                                                                                                      '44 '\n",
       "                                                                                                                      'Years',\n",
       "                                                                                                                      '45 '\n",
       "                                                                                                                      '- '\n",
       "                                                                                                                      '54 '\n",
       "                                                                                                                      'Years',\n",
       "                                                                                                                      '55 '\n",
       "                                                                                                                      '- '\n",
       "                                                                                                                      '64 '\n",
       "                                                                                                                      'Years',\n",
       "                                                                                                                      '65+ '\n",
       "                                                                                                                      'Years'],\n",
       "                                                                                                                     ['< '\n",
       "                                                                                                                      '12 '\n",
       "                                                                                                                      'Years',\n",
       "                                                                                                                      '12 '\n",
       "                                                                                                                      'Years',\n",
       "                                                                                                                      'Some '\n",
       "                                                                                                                      'College',\n",
       "                                                                                                                      'Colle...\n",
       "       'opinion_h1n1_sick_from_vacc', 'opinion_seas_vacc_effective',\n",
       "       'opinion_seas_risk', 'opinion_seas_sick_from_vacc', 'household_adults',\n",
       "       'household_children'],\n",
       "      dtype='object'))])),\n",
       "                                       ('smote', SMOTE()),\n",
       "                                       ('model', RandomForestClassifier())]),\n",
       "             param_grid={'model__max_depth': [3, 6, 9],\n",
       "                         'model__max_features': ['sqrt', 'log2', None],\n",
       "                         'model__max_leaf_nodes': [3, 6, 9],\n",
       "                         'model__n_estimators': [25, 50, 100, 150]})"
      ]
     },
     "execution_count": 47,
     "metadata": {},
     "output_type": "execute_result"
    }
   ],
   "source": [
    "tuned_pipeline_6.fit(X_train,y_train)"
   ]
  },
  {
   "cell_type": "code",
   "execution_count": 49,
   "metadata": {},
   "outputs": [],
   "source": [
    "y_pred6 = tuned_pipeline_6.predict(X_test)"
   ]
  },
  {
   "cell_type": "code",
   "execution_count": 50,
   "metadata": {},
   "outputs": [
    {
     "data": {
      "text/plain": [
       "<sklearn.metrics._plot.confusion_matrix.ConfusionMatrixDisplay at 0x24494789d60>"
      ]
     },
     "execution_count": 50,
     "metadata": {},
     "output_type": "execute_result"
    },
    {
     "data": {
      "image/png": "[encoded data removed]",
      "text/plain": [
       "<Figure size 432x288 with 2 Axes>"
      ]
     },
     "metadata": {
      "needs_background": "light"
     },
     "output_type": "display_data"
    }
   ],
   "source": [
    "plot_confusion_matrix(tuned_pipeline_6, X_test,y_test)"
   ]
  },
  {
   "cell_type": "code",
   "execution_count": 51,
   "metadata": {},
   "outputs": [
    {
     "name": "stdout",
     "output_type": "stream",
     "text": [
      "              precision    recall  f1-score   support\n",
      "\n",
      "           0       0.90      0.85      0.88      6311\n",
      "           1       0.54      0.67      0.60      1702\n",
      "\n",
      "    accuracy                           0.81      8013\n",
      "   macro avg       0.72      0.76      0.74      8013\n",
      "weighted avg       0.83      0.81      0.82      8013\n",
      "\n"
     ]
    }
   ],
   "source": [
    "print(classification_report(y_test, y_pred6))"
   ]
  },
  {
   "cell_type": "code",
   "execution_count": 52,
   "metadata": {},
   "outputs": [
    {
     "data": {
      "text/plain": [
       "<sklearn.metrics._plot.roc_curve.RocCurveDisplay at 0x244944f66d0>"
      ]
     },
     "execution_count": 52,
     "metadata": {},
     "output_type": "execute_result"
    },
    {
     "data": {
      "image/png": "[encoded data removed]",
      "text/plain": [
       "<Figure size 432x288 with 1 Axes>"
      ]
     },
     "metadata": {
      "needs_background": "light"
     },
     "output_type": "display_data"
    }
   ],
   "source": [
    "plot_roc_curve(tuned_pipeline_6, X_test, y_test)"
   ]
  },
  {
   "cell_type": "markdown",
   "metadata": {},
   "source": [
    "## Model 7 - Gradient Boosting"
   ]
  },
  {
   "cell_type": "code",
   "execution_count": 53,
   "metadata": {},
   "outputs": [],
   "source": [
    "from sklearn.ensemble import GradientBoostingClassifier"
   ]
  },
  {
   "cell_type": "code",
   "execution_count": 54,
   "metadata": {},
   "outputs": [],
   "source": [
    "pipeline_7 = Pipeline([(\"preprocess\",ct),\n",
    "                       (\"smote\",smt),\n",
    "                       (\"model\",GradientBoostingClassifier())])"
   ]
  },
  {
   "cell_type": "code",
   "execution_count": 55,
   "metadata": {},
   "outputs": [
    {
     "data": {
      "text/html": [
       "<style>div.sk-top-container {color: black;background-color: white;}div.sk-toggleable {background-color: white;}label.sk-toggleable__label {cursor: pointer;display: block;width: 100%;margin-bottom: 0;padding: 0.2em 0.3em;box-sizing: border-box;text-align: center;}div.sk-toggleable__content {max-height: 0;max-width: 0;overflow: hidden;text-align: left;background-color: #f0f8ff;}div.sk-toggleable__content pre {margin: 0.2em;color: black;border-radius: 0.25em;background-color: #f0f8ff;}input.sk-toggleable__control:checked~div.sk-toggleable__content {max-height: 200px;max-width: 100%;overflow: auto;}div.sk-estimator input.sk-toggleable__control:checked~label.sk-toggleable__label {background-color: #d4ebff;}div.sk-label input.sk-toggleable__control:checked~label.sk-toggleable__label {background-color: #d4ebff;}input.sk-hidden--visually {border: 0;clip: rect(1px 1px 1px 1px);clip: rect(1px, 1px, 1px, 1px);height: 1px;margin: -1px;overflow: hidden;padding: 0;position: absolute;width: 1px;}div.sk-estimator {font-family: monospace;background-color: #f0f8ff;margin: 0.25em 0.25em;border: 1px dotted black;border-radius: 0.25em;box-sizing: border-box;}div.sk-estimator:hover {background-color: #d4ebff;}div.sk-parallel-item::after {content: \"\";width: 100%;border-bottom: 1px solid gray;flex-grow: 1;}div.sk-label:hover label.sk-toggleable__label {background-color: #d4ebff;}div.sk-serial::before {content: \"\";position: absolute;border-left: 1px solid gray;box-sizing: border-box;top: 2em;bottom: 0;left: 50%;}div.sk-serial {display: flex;flex-direction: column;align-items: center;background-color: white;}div.sk-item {z-index: 1;}div.sk-parallel {display: flex;align-items: stretch;justify-content: center;background-color: white;}div.sk-parallel-item {display: flex;flex-direction: column;position: relative;background-color: white;}div.sk-parallel-item:first-child::after {align-self: flex-end;width: 50%;}div.sk-parallel-item:last-child::after {align-self: flex-start;width: 50%;}div.sk-parallel-item:only-child::after {width: 0;}div.sk-dashed-wrapped {border: 1px dashed gray;margin: 0.2em;box-sizing: border-box;padding-bottom: 0.1em;background-color: white;position: relative;}div.sk-label label {font-family: monospace;font-weight: bold;background-color: white;display: inline-block;line-height: 1.2em;}div.sk-label-container {position: relative;z-index: 2;text-align: center;}div.sk-container {display: inline-block;position: relative;}</style><div class=\"sk-top-container\"><div class=\"sk-container\"><div class=\"sk-item sk-dashed-wrapped\"><div class=\"sk-label-container\"><div class=\"sk-label sk-toggleable\"><input class=\"sk-toggleable__control sk-hidden--visually\" id=\"78b4dfc8-0eb1-4700-a463-a83a2359d050\" type=\"checkbox\" ><label class=\"sk-toggleable__label\" for=\"78b4dfc8-0eb1-4700-a463-a83a2359d050\">Pipeline</label><div class=\"sk-toggleable__content\"><pre>Pipeline(steps=[('preprocess',\n",
       "                 ColumnTransformer(transformers=[('ordinal_pipe',\n",
       "                                                  Pipeline(steps=[('ordimputer',\n",
       "                                                                   SimpleImputer(strategy='most_frequent')),\n",
       "                                                                  ('ordenc',\n",
       "                                                                   OrdinalEncoder(categories=[['18 '\n",
       "                                                                                               '- '\n",
       "                                                                                               '34 '\n",
       "                                                                                               'Years',\n",
       "                                                                                               '35 '\n",
       "                                                                                               '- '\n",
       "                                                                                               '44 '\n",
       "                                                                                               'Years',\n",
       "                                                                                               '45 '\n",
       "                                                                                               '- '\n",
       "                                                                                               '54 '\n",
       "                                                                                               'Years',\n",
       "                                                                                               '55 '\n",
       "                                                                                               '- '\n",
       "                                                                                               '64 '\n",
       "                                                                                               'Years',\n",
       "                                                                                               '65+ '\n",
       "                                                                                               'Years'],\n",
       "                                                                                              ['< '\n",
       "                                                                                               '12 '\n",
       "                                                                                               'Years',\n",
       "                                                                                               '12 '\n",
       "                                                                                               'Years',\n",
       "                                                                                               'Some '\n",
       "                                                                                               'College',\n",
       "                                                                                               'College '\n",
       "                                                                                               'Graduate'],\n",
       "                                                                                              ['Below '...\n",
       "       'chronic_med_condition', 'child_under_6_months', 'health_worker',\n",
       "       'health_insurance', 'opinion_h1n1_vacc_effective', 'opinion_h1n1_risk',\n",
       "       'opinion_h1n1_sick_from_vacc', 'opinion_seas_vacc_effective',\n",
       "       'opinion_seas_risk', 'opinion_seas_sick_from_vacc', 'household_adults',\n",
       "       'household_children'],\n",
       "      dtype='object'))])),\n",
       "                ('smote', SMOTE()), ('model', GradientBoostingClassifier())])</pre></div></div></div><div class=\"sk-serial\"><div class=\"sk-item sk-dashed-wrapped\"><div class=\"sk-label-container\"><div class=\"sk-label sk-toggleable\"><input class=\"sk-toggleable__control sk-hidden--visually\" id=\"46c6d7cb-99ee-4f2d-baa9-e6a5751d153e\" type=\"checkbox\" ><label class=\"sk-toggleable__label\" for=\"46c6d7cb-99ee-4f2d-baa9-e6a5751d153e\">preprocess: ColumnTransformer</label><div class=\"sk-toggleable__content\"><pre>ColumnTransformer(transformers=[('ordinal_pipe',\n",
       "                                 Pipeline(steps=[('ordimputer',\n",
       "                                                  SimpleImputer(strategy='most_frequent')),\n",
       "                                                 ('ordenc',\n",
       "                                                  OrdinalEncoder(categories=[['18 '\n",
       "                                                                              '- '\n",
       "                                                                              '34 '\n",
       "                                                                              'Years',\n",
       "                                                                              '35 '\n",
       "                                                                              '- '\n",
       "                                                                              '44 '\n",
       "                                                                              'Years',\n",
       "                                                                              '45 '\n",
       "                                                                              '- '\n",
       "                                                                              '54 '\n",
       "                                                                              'Years',\n",
       "                                                                              '55 '\n",
       "                                                                              '- '\n",
       "                                                                              '64 '\n",
       "                                                                              'Years',\n",
       "                                                                              '65+ '\n",
       "                                                                              'Years'],\n",
       "                                                                             ['< '\n",
       "                                                                              '12 '\n",
       "                                                                              'Years',\n",
       "                                                                              '12 '\n",
       "                                                                              'Years',\n",
       "                                                                              'Some '\n",
       "                                                                              'College',\n",
       "                                                                              'College '\n",
       "                                                                              'Graduate'],\n",
       "                                                                             ['Below '\n",
       "                                                                              'Poverty',\n",
       "                                                                              '<= '\n",
       "                                                                              '$75,000, '\n",
       "                                                                              'Above...\n",
       "       'behavioral_touch_face', 'doctor_recc_h1n1', 'doctor_recc_seasonal',\n",
       "       'chronic_med_condition', 'child_under_6_months', 'health_worker',\n",
       "       'health_insurance', 'opinion_h1n1_vacc_effective', 'opinion_h1n1_risk',\n",
       "       'opinion_h1n1_sick_from_vacc', 'opinion_seas_vacc_effective',\n",
       "       'opinion_seas_risk', 'opinion_seas_sick_from_vacc', 'household_adults',\n",
       "       'household_children'],\n",
       "      dtype='object'))])</pre></div></div></div><div class=\"sk-parallel\"><div class=\"sk-parallel-item\"><div class=\"sk-item\"><div class=\"sk-label-container\"><div class=\"sk-label sk-toggleable\"><input class=\"sk-toggleable__control sk-hidden--visually\" id=\"611e8fad-8343-4ea7-ad84-eabb94955c7c\" type=\"checkbox\" ><label class=\"sk-toggleable__label\" for=\"611e8fad-8343-4ea7-ad84-eabb94955c7c\">ordinal_pipe</label><div class=\"sk-toggleable__content\"><pre>['age_group', 'education', 'income_poverty']</pre></div></div></div><div class=\"sk-serial\"><div class=\"sk-item\"><div class=\"sk-serial\"><div class=\"sk-item\"><div class=\"sk-estimator sk-toggleable\"><input class=\"sk-toggleable__control sk-hidden--visually\" id=\"e3ccbf8d-8957-40cc-ac92-3cac83c5198d\" type=\"checkbox\" ><label class=\"sk-toggleable__label\" for=\"e3ccbf8d-8957-40cc-ac92-3cac83c5198d\">SimpleImputer</label><div class=\"sk-toggleable__content\"><pre>SimpleImputer(strategy='most_frequent')</pre></div></div></div><div class=\"sk-item\"><div class=\"sk-estimator sk-toggleable\"><input class=\"sk-toggleable__control sk-hidden--visually\" id=\"56616d6c-21b4-403c-9941-b09b4c463c9b\" type=\"checkbox\" ><label class=\"sk-toggleable__label\" for=\"56616d6c-21b4-403c-9941-b09b4c463c9b\">OrdinalEncoder</label><div class=\"sk-toggleable__content\"><pre>OrdinalEncoder(categories=[['18 - 34 Years', '35 - 44 Years', '45 - 54 Years',\n",
       "                            '55 - 64 Years', '65+ Years'],\n",
       "                           ['< 12 Years', '12 Years', 'Some College',\n",
       "                            'College Graduate'],\n",
       "                           ['Below Poverty', '<= $75,000, Above Poverty',\n",
       "                            '> $75,000']])</pre></div></div></div><div class=\"sk-item\"><div class=\"sk-estimator sk-toggleable\"><input class=\"sk-toggleable__control sk-hidden--visually\" id=\"55d34f04-fd7b-4051-ba19-f7079b5dc4f2\" type=\"checkbox\" ><label class=\"sk-toggleable__label\" for=\"55d34f04-fd7b-4051-ba19-f7079b5dc4f2\">StandardScaler</label><div class=\"sk-toggleable__content\"><pre>StandardScaler()</pre></div></div></div></div></div></div></div></div><div class=\"sk-parallel-item\"><div class=\"sk-item\"><div class=\"sk-label-container\"><div class=\"sk-label sk-toggleable\"><input class=\"sk-toggleable__control sk-hidden--visually\" id=\"8552a305-a126-4af7-b19b-cf927f0eec68\" type=\"checkbox\" ><label class=\"sk-toggleable__label\" for=\"8552a305-a126-4af7-b19b-cf927f0eec68\">nominal_pipe</label><div class=\"sk-toggleable__content\"><pre>['race', 'sex', 'marital_status', 'rent_or_own', 'employment_status', 'census_msa']</pre></div></div></div><div class=\"sk-serial\"><div class=\"sk-item\"><div class=\"sk-serial\"><div class=\"sk-item\"><div class=\"sk-estimator sk-toggleable\"><input class=\"sk-toggleable__control sk-hidden--visually\" id=\"49b44d9e-099d-4d77-807d-446bc1259f19\" type=\"checkbox\" ><label class=\"sk-toggleable__label\" for=\"49b44d9e-099d-4d77-807d-446bc1259f19\">SimpleImputer</label><div class=\"sk-toggleable__content\"><pre>SimpleImputer(strategy='most_frequent')</pre></div></div></div><div class=\"sk-item\"><div class=\"sk-estimator sk-toggleable\"><input class=\"sk-toggleable__control sk-hidden--visually\" id=\"c4a2bb42-67c9-4f05-9d27-ff64ab074291\" type=\"checkbox\" ><label class=\"sk-toggleable__label\" for=\"c4a2bb42-67c9-4f05-9d27-ff64ab074291\">OneHotEncoder</label><div class=\"sk-toggleable__content\"><pre>OneHotEncoder(drop='first', sparse=False)</pre></div></div></div><div class=\"sk-item\"><div class=\"sk-estimator sk-toggleable\"><input class=\"sk-toggleable__control sk-hidden--visually\" id=\"0794d7e9-4e42-4604-b4c8-20a6cc725ebb\" type=\"checkbox\" ><label class=\"sk-toggleable__label\" for=\"0794d7e9-4e42-4604-b4c8-20a6cc725ebb\">MaxAbsScaler</label><div class=\"sk-toggleable__content\"><pre>MaxAbsScaler()</pre></div></div></div></div></div></div></div></div><div class=\"sk-parallel-item\"><div class=\"sk-item\"><div class=\"sk-label-container\"><div class=\"sk-label sk-toggleable\"><input class=\"sk-toggleable__control sk-hidden--visually\" id=\"2108d31b-80df-44ec-ba87-493ec1c974fa\" type=\"checkbox\" ><label class=\"sk-toggleable__label\" for=\"2108d31b-80df-44ec-ba87-493ec1c974fa\">num_pipe</label><div class=\"sk-toggleable__content\"><pre>Index(['h1n1_concern', 'h1n1_knowledge', 'behavioral_antiviral_meds',\n",
       "       'behavioral_avoidance', 'behavioral_face_mask', 'behavioral_wash_hands',\n",
       "       'behavioral_large_gatherings', 'behavioral_outside_home',\n",
       "       'behavioral_touch_face', 'doctor_recc_h1n1', 'doctor_recc_seasonal',\n",
       "       'chronic_med_condition', 'child_under_6_months', 'health_worker',\n",
       "       'health_insurance', 'opinion_h1n1_vacc_effective', 'opinion_h1n1_risk',\n",
       "       'opinion_h1n1_sick_from_vacc', 'opinion_seas_vacc_effective',\n",
       "       'opinion_seas_risk', 'opinion_seas_sick_from_vacc', 'household_adults',\n",
       "       'household_children'],\n",
       "      dtype='object')</pre></div></div></div><div class=\"sk-serial\"><div class=\"sk-item\"><div class=\"sk-serial\"><div class=\"sk-item\"><div class=\"sk-estimator sk-toggleable\"><input class=\"sk-toggleable__control sk-hidden--visually\" id=\"15f9afeb-f9b0-4b19-8c25-6506ca13b931\" type=\"checkbox\" ><label class=\"sk-toggleable__label\" for=\"15f9afeb-f9b0-4b19-8c25-6506ca13b931\">SimpleImputer</label><div class=\"sk-toggleable__content\"><pre>SimpleImputer()</pre></div></div></div><div class=\"sk-item\"><div class=\"sk-estimator sk-toggleable\"><input class=\"sk-toggleable__control sk-hidden--visually\" id=\"55ef5045-f096-4a5f-b189-17e95dd23e0b\" type=\"checkbox\" ><label class=\"sk-toggleable__label\" for=\"55ef5045-f096-4a5f-b189-17e95dd23e0b\">StandardScaler</label><div class=\"sk-toggleable__content\"><pre>StandardScaler()</pre></div></div></div></div></div></div></div></div></div></div><div class=\"sk-item\"><div class=\"sk-estimator sk-toggleable\"><input class=\"sk-toggleable__control sk-hidden--visually\" id=\"06b93c39-561b-48b6-b24e-4ebf9396c8c8\" type=\"checkbox\" ><label class=\"sk-toggleable__label\" for=\"06b93c39-561b-48b6-b24e-4ebf9396c8c8\">SMOTE</label><div class=\"sk-toggleable__content\"><pre>SMOTE()</pre></div></div></div><div class=\"sk-item\"><div class=\"sk-estimator sk-toggleable\"><input class=\"sk-toggleable__control sk-hidden--visually\" id=\"e5ea3044-0369-4bdd-af99-30815e629fd1\" type=\"checkbox\" ><label class=\"sk-toggleable__label\" for=\"e5ea3044-0369-4bdd-af99-30815e629fd1\">GradientBoostingClassifier</label><div class=\"sk-toggleable__content\"><pre>GradientBoostingClassifier()</pre></div></div></div></div></div></div></div>"
      ],
      "text/plain": [
       "Pipeline(steps=[('preprocess',\n",
       "                 ColumnTransformer(transformers=[('ordinal_pipe',\n",
       "                                                  Pipeline(steps=[('ordimputer',\n",
       "                                                                   SimpleImputer(strategy='most_frequent')),\n",
       "                                                                  ('ordenc',\n",
       "                                                                   OrdinalEncoder(categories=[['18 '\n",
       "                                                                                               '- '\n",
       "                                                                                               '34 '\n",
       "                                                                                               'Years',\n",
       "                                                                                               '35 '\n",
       "                                                                                               '- '\n",
       "                                                                                               '44 '\n",
       "                                                                                               'Years',\n",
       "                                                                                               '45 '\n",
       "                                                                                               '- '\n",
       "                                                                                               '54 '\n",
       "                                                                                               'Years',\n",
       "                                                                                               '55 '\n",
       "                                                                                               '- '\n",
       "                                                                                               '64 '\n",
       "                                                                                               'Years',\n",
       "                                                                                               '65+ '\n",
       "                                                                                               'Years'],\n",
       "                                                                                              ['< '\n",
       "                                                                                               '12 '\n",
       "                                                                                               'Years',\n",
       "                                                                                               '12 '\n",
       "                                                                                               'Years',\n",
       "                                                                                               'Some '\n",
       "                                                                                               'College',\n",
       "                                                                                               'College '\n",
       "                                                                                               'Graduate'],\n",
       "                                                                                              ['Below '...\n",
       "       'chronic_med_condition', 'child_under_6_months', 'health_worker',\n",
       "       'health_insurance', 'opinion_h1n1_vacc_effective', 'opinion_h1n1_risk',\n",
       "       'opinion_h1n1_sick_from_vacc', 'opinion_seas_vacc_effective',\n",
       "       'opinion_seas_risk', 'opinion_seas_sick_from_vacc', 'household_adults',\n",
       "       'household_children'],\n",
       "      dtype='object'))])),\n",
       "                ('smote', SMOTE()), ('model', GradientBoostingClassifier())])"
      ]
     },
     "execution_count": 55,
     "metadata": {},
     "output_type": "execute_result"
    }
   ],
   "source": [
    "pipeline_7.fit(X_train, y_train)"
   ]
  },
  {
   "cell_type": "code",
   "execution_count": 56,
   "metadata": {},
   "outputs": [],
   "source": [
    "y_pred7 = pipeline_7.predict(X_test)"
   ]
  },
  {
   "cell_type": "code",
   "execution_count": 57,
   "metadata": {},
   "outputs": [
    {
     "data": {
      "text/plain": [
       "<sklearn.metrics._plot.confusion_matrix.ConfusionMatrixDisplay at 0x24492d75af0>"
      ]
     },
     "execution_count": 57,
     "metadata": {},
     "output_type": "execute_result"
    },
    {
     "data": {
      "image/png": "[encoded data removed]",
      "text/plain": [
       "<Figure size 432x288 with 2 Axes>"
      ]
     },
     "metadata": {
      "needs_background": "light"
     },
     "output_type": "display_data"
    }
   ],
   "source": [
    "plot_confusion_matrix(pipeline_7, X_test,y_test)"
   ]
  },
  {
   "cell_type": "code",
   "execution_count": 58,
   "metadata": {},
   "outputs": [
    {
     "name": "stdout",
     "output_type": "stream",
     "text": [
      "              precision    recall  f1-score   support\n",
      "\n",
      "           0       0.88      0.93      0.90      6311\n",
      "           1       0.66      0.54      0.59      1702\n",
      "\n",
      "    accuracy                           0.84      8013\n",
      "   macro avg       0.77      0.73      0.75      8013\n",
      "weighted avg       0.83      0.84      0.84      8013\n",
      "\n"
     ]
    }
   ],
   "source": [
    "print(classification_report(y_test, y_pred7))"
   ]
  },
  {
   "cell_type": "code",
   "execution_count": 59,
   "metadata": {},
   "outputs": [
    {
     "data": {
      "text/plain": [
       "<sklearn.metrics._plot.roc_curve.RocCurveDisplay at 0x2449479a1f0>"
      ]
     },
     "execution_count": 59,
     "metadata": {},
     "output_type": "execute_result"
    },
    {
     "data": {
      "image/png": "[encoded data removed]",
      "text/plain": [
       "<Figure size 432x288 with 1 Axes>"
      ]
     },
     "metadata": {
      "needs_background": "light"
     },
     "output_type": "display_data"
    }
   ],
   "source": [
    "plot_roc_curve(pipeline_7, X_test, y_test)"
   ]
  },
  {
   "cell_type": "markdown",
   "metadata": {},
   "source": [
    "## Model 8 - Gradient Boosting + Hyperparameter Tuning"
   ]
  },
  {
   "cell_type": "code",
   "execution_count": 115,
   "metadata": {},
   "outputs": [],
   "source": [
    "pipeline_8 = Pipeline([(\"preprocess\",ct),\n",
    "                       (\"smote\",smt),\n",
    "                       (\"model\",GradientBoostingClassifier())])"
   ]
  },
  {
   "cell_type": "code",
   "execution_count": 116,
   "metadata": {},
   "outputs": [],
   "source": [
    "param_grid = {\n",
    "    'model__learning_rate': [0.1, 0.05, 0.01],\n",
    "    \"model__n_estimators\" : [32, 64, 100, 200],\n",
    "    \"model__max_depth\" : [3,5,7]\n",
    "}"
   ]
  },
  {
   "cell_type": "code",
   "execution_count": 117,
   "metadata": {},
   "outputs": [],
   "source": [
    "tuned_pipeline_8 = GridSearchCV(estimator=pipeline_8, \n",
    "                       param_grid=param_grid)"
   ]
  },
  {
   "cell_type": "code",
   "execution_count": 118,
   "metadata": {},
   "outputs": [
    {
     "data": {
      "text/html": [
       "<style>div.sk-top-container {color: black;background-color: white;}div.sk-toggleable {background-color: white;}label.sk-toggleable__label {cursor: pointer;display: block;width: 100%;margin-bottom: 0;padding: 0.2em 0.3em;box-sizing: border-box;text-align: center;}div.sk-toggleable__content {max-height: 0;max-width: 0;overflow: hidden;text-align: left;background-color: #f0f8ff;}div.sk-toggleable__content pre {margin: 0.2em;color: black;border-radius: 0.25em;background-color: #f0f8ff;}input.sk-toggleable__control:checked~div.sk-toggleable__content {max-height: 200px;max-width: 100%;overflow: auto;}div.sk-estimator input.sk-toggleable__control:checked~label.sk-toggleable__label {background-color: #d4ebff;}div.sk-label input.sk-toggleable__control:checked~label.sk-toggleable__label {background-color: #d4ebff;}input.sk-hidden--visually {border: 0;clip: rect(1px 1px 1px 1px);clip: rect(1px, 1px, 1px, 1px);height: 1px;margin: -1px;overflow: hidden;padding: 0;position: absolute;width: 1px;}div.sk-estimator {font-family: monospace;background-color: #f0f8ff;margin: 0.25em 0.25em;border: 1px dotted black;border-radius: 0.25em;box-sizing: border-box;}div.sk-estimator:hover {background-color: #d4ebff;}div.sk-parallel-item::after {content: \"\";width: 100%;border-bottom: 1px solid gray;flex-grow: 1;}div.sk-label:hover label.sk-toggleable__label {background-color: #d4ebff;}div.sk-serial::before {content: \"\";position: absolute;border-left: 1px solid gray;box-sizing: border-box;top: 2em;bottom: 0;left: 50%;}div.sk-serial {display: flex;flex-direction: column;align-items: center;background-color: white;}div.sk-item {z-index: 1;}div.sk-parallel {display: flex;align-items: stretch;justify-content: center;background-color: white;}div.sk-parallel-item {display: flex;flex-direction: column;position: relative;background-color: white;}div.sk-parallel-item:first-child::after {align-self: flex-end;width: 50%;}div.sk-parallel-item:last-child::after {align-self: flex-start;width: 50%;}div.sk-parallel-item:only-child::after {width: 0;}div.sk-dashed-wrapped {border: 1px dashed gray;margin: 0.2em;box-sizing: border-box;padding-bottom: 0.1em;background-color: white;position: relative;}div.sk-label label {font-family: monospace;font-weight: bold;background-color: white;display: inline-block;line-height: 1.2em;}div.sk-label-container {position: relative;z-index: 2;text-align: center;}div.sk-container {display: inline-block;position: relative;}</style><div class=\"sk-top-container\"><div class=\"sk-container\"><div class=\"sk-item sk-dashed-wrapped\"><div class=\"sk-label-container\"><div class=\"sk-label sk-toggleable\"><input class=\"sk-toggleable__control sk-hidden--visually\" id=\"7a3d1aba-44b4-4bee-ba40-43042530b3c3\" type=\"checkbox\" ><label class=\"sk-toggleable__label\" for=\"7a3d1aba-44b4-4bee-ba40-43042530b3c3\">GridSearchCV</label><div class=\"sk-toggleable__content\"><pre>GridSearchCV(estimator=Pipeline(steps=[('preprocess',\n",
       "                                        ColumnTransformer(transformers=[('ordinal_pipe',\n",
       "                                                                         Pipeline(steps=[('ordimputer',\n",
       "                                                                                          SimpleImputer(strategy='most_frequent')),\n",
       "                                                                                         ('ordenc',\n",
       "                                                                                          OrdinalEncoder(categories=[['18 '\n",
       "                                                                                                                      '- '\n",
       "                                                                                                                      '34 '\n",
       "                                                                                                                      'Years',\n",
       "                                                                                                                      '35 '\n",
       "                                                                                                                      '- '\n",
       "                                                                                                                      '44 '\n",
       "                                                                                                                      'Years',\n",
       "                                                                                                                      '45 '\n",
       "                                                                                                                      '- '\n",
       "                                                                                                                      '54 '\n",
       "                                                                                                                      'Years',\n",
       "                                                                                                                      '55 '\n",
       "                                                                                                                      '- '\n",
       "                                                                                                                      '64 '\n",
       "                                                                                                                      'Years',\n",
       "                                                                                                                      '65+ '\n",
       "                                                                                                                      'Years'],\n",
       "                                                                                                                     ['< '\n",
       "                                                                                                                      '12 '\n",
       "                                                                                                                      'Years',\n",
       "                                                                                                                      '12 '\n",
       "                                                                                                                      'Years',\n",
       "                                                                                                                      'Some '\n",
       "                                                                                                                      'College',\n",
       "                                                                                                                      'Colle...\n",
       "       'health_insurance', 'opinion_h1n1_vacc_effective', 'opinion_h1n1_risk',\n",
       "       'opinion_h1n1_sick_from_vacc', 'opinion_seas_vacc_effective',\n",
       "       'opinion_seas_risk', 'opinion_seas_sick_from_vacc', 'household_adults',\n",
       "       'household_children'],\n",
       "      dtype='object'))])),\n",
       "                                       ('smote', SMOTE()),\n",
       "                                       ('model',\n",
       "                                        GradientBoostingClassifier())]),\n",
       "             param_grid={'model__learning_rate': [0.1, 0.05, 0.01],\n",
       "                         'model__max_depth': [3, 5, 7],\n",
       "                         'model__n_estimators': [32, 64, 100, 200]})</pre></div></div></div><div class=\"sk-parallel\"><div class=\"sk-parallel-item\"><div class=\"sk-item\"><div class=\"sk-serial\"><div class=\"sk-item\"><div class=\"sk-serial\"><div class=\"sk-item sk-dashed-wrapped\"><div class=\"sk-label-container\"><div class=\"sk-label sk-toggleable\"><input class=\"sk-toggleable__control sk-hidden--visually\" id=\"ef918964-3fd6-4c10-8a2e-80147c5f33c6\" type=\"checkbox\" ><label class=\"sk-toggleable__label\" for=\"ef918964-3fd6-4c10-8a2e-80147c5f33c6\">preprocess: ColumnTransformer</label><div class=\"sk-toggleable__content\"><pre>ColumnTransformer(transformers=[('ordinal_pipe',\n",
       "                                 Pipeline(steps=[('ordimputer',\n",
       "                                                  SimpleImputer(strategy='most_frequent')),\n",
       "                                                 ('ordenc',\n",
       "                                                  OrdinalEncoder(categories=[['18 '\n",
       "                                                                              '- '\n",
       "                                                                              '34 '\n",
       "                                                                              'Years',\n",
       "                                                                              '35 '\n",
       "                                                                              '- '\n",
       "                                                                              '44 '\n",
       "                                                                              'Years',\n",
       "                                                                              '45 '\n",
       "                                                                              '- '\n",
       "                                                                              '54 '\n",
       "                                                                              'Years',\n",
       "                                                                              '55 '\n",
       "                                                                              '- '\n",
       "                                                                              '64 '\n",
       "                                                                              'Years',\n",
       "                                                                              '65+ '\n",
       "                                                                              'Years'],\n",
       "                                                                             ['< '\n",
       "                                                                              '12 '\n",
       "                                                                              'Years',\n",
       "                                                                              '12 '\n",
       "                                                                              'Years',\n",
       "                                                                              'Some '\n",
       "                                                                              'College',\n",
       "                                                                              'College '\n",
       "                                                                              'Graduate'],\n",
       "                                                                             ['Below '\n",
       "                                                                              'Poverty',\n",
       "                                                                              '<= '\n",
       "                                                                              '$75,000, '\n",
       "                                                                              'Above...\n",
       "       'behavioral_touch_face', 'doctor_recc_h1n1', 'doctor_recc_seasonal',\n",
       "       'chronic_med_condition', 'child_under_6_months', 'health_worker',\n",
       "       'health_insurance', 'opinion_h1n1_vacc_effective', 'opinion_h1n1_risk',\n",
       "       'opinion_h1n1_sick_from_vacc', 'opinion_seas_vacc_effective',\n",
       "       'opinion_seas_risk', 'opinion_seas_sick_from_vacc', 'household_adults',\n",
       "       'household_children'],\n",
       "      dtype='object'))])</pre></div></div></div><div class=\"sk-parallel\"><div class=\"sk-parallel-item\"><div class=\"sk-item\"><div class=\"sk-label-container\"><div class=\"sk-label sk-toggleable\"><input class=\"sk-toggleable__control sk-hidden--visually\" id=\"2e927d88-23f2-42bf-b322-3d34a0f35d12\" type=\"checkbox\" ><label class=\"sk-toggleable__label\" for=\"2e927d88-23f2-42bf-b322-3d34a0f35d12\">ordinal_pipe</label><div class=\"sk-toggleable__content\"><pre>['age_group', 'education', 'income_poverty']</pre></div></div></div><div class=\"sk-serial\"><div class=\"sk-item\"><div class=\"sk-serial\"><div class=\"sk-item\"><div class=\"sk-estimator sk-toggleable\"><input class=\"sk-toggleable__control sk-hidden--visually\" id=\"f9b19d09-1af4-4b74-9efb-8fe630bdc4c0\" type=\"checkbox\" ><label class=\"sk-toggleable__label\" for=\"f9b19d09-1af4-4b74-9efb-8fe630bdc4c0\">SimpleImputer</label><div class=\"sk-toggleable__content\"><pre>SimpleImputer(strategy='most_frequent')</pre></div></div></div><div class=\"sk-item\"><div class=\"sk-estimator sk-toggleable\"><input class=\"sk-toggleable__control sk-hidden--visually\" id=\"38899b7e-fd4c-4d14-8a7a-dde006e5075e\" type=\"checkbox\" ><label class=\"sk-toggleable__label\" for=\"38899b7e-fd4c-4d14-8a7a-dde006e5075e\">OrdinalEncoder</label><div class=\"sk-toggleable__content\"><pre>OrdinalEncoder(categories=[['18 - 34 Years', '35 - 44 Years', '45 - 54 Years',\n",
       "                            '55 - 64 Years', '65+ Years'],\n",
       "                           ['< 12 Years', '12 Years', 'Some College',\n",
       "                            'College Graduate'],\n",
       "                           ['Below Poverty', '<= $75,000, Above Poverty',\n",
       "                            '> $75,000']])</pre></div></div></div><div class=\"sk-item\"><div class=\"sk-estimator sk-toggleable\"><input class=\"sk-toggleable__control sk-hidden--visually\" id=\"9945a2e9-7f04-4dea-8bd4-5da5c402203f\" type=\"checkbox\" ><label class=\"sk-toggleable__label\" for=\"9945a2e9-7f04-4dea-8bd4-5da5c402203f\">StandardScaler</label><div class=\"sk-toggleable__content\"><pre>StandardScaler()</pre></div></div></div></div></div></div></div></div><div class=\"sk-parallel-item\"><div class=\"sk-item\"><div class=\"sk-label-container\"><div class=\"sk-label sk-toggleable\"><input class=\"sk-toggleable__control sk-hidden--visually\" id=\"adac24f7-323d-430f-a1ef-2bad7469ed3e\" type=\"checkbox\" ><label class=\"sk-toggleable__label\" for=\"adac24f7-323d-430f-a1ef-2bad7469ed3e\">nominal_pipe</label><div class=\"sk-toggleable__content\"><pre>['race', 'sex', 'marital_status', 'rent_or_own', 'employment_status', 'census_msa']</pre></div></div></div><div class=\"sk-serial\"><div class=\"sk-item\"><div class=\"sk-serial\"><div class=\"sk-item\"><div class=\"sk-estimator sk-toggleable\"><input class=\"sk-toggleable__control sk-hidden--visually\" id=\"03f18ce3-1b95-44af-bea2-f4ed308ca542\" type=\"checkbox\" ><label class=\"sk-toggleable__label\" for=\"03f18ce3-1b95-44af-bea2-f4ed308ca542\">SimpleImputer</label><div class=\"sk-toggleable__content\"><pre>SimpleImputer(strategy='most_frequent')</pre></div></div></div><div class=\"sk-item\"><div class=\"sk-estimator sk-toggleable\"><input class=\"sk-toggleable__control sk-hidden--visually\" id=\"5a417b4d-d84d-4736-bd36-be5c5e6434e7\" type=\"checkbox\" ><label class=\"sk-toggleable__label\" for=\"5a417b4d-d84d-4736-bd36-be5c5e6434e7\">OneHotEncoder</label><div class=\"sk-toggleable__content\"><pre>OneHotEncoder(drop='first', sparse=False)</pre></div></div></div><div class=\"sk-item\"><div class=\"sk-estimator sk-toggleable\"><input class=\"sk-toggleable__control sk-hidden--visually\" id=\"5fc2bcf3-c536-423c-afa9-432ccbbf18e8\" type=\"checkbox\" ><label class=\"sk-toggleable__label\" for=\"5fc2bcf3-c536-423c-afa9-432ccbbf18e8\">MaxAbsScaler</label><div class=\"sk-toggleable__content\"><pre>MaxAbsScaler()</pre></div></div></div></div></div></div></div></div><div class=\"sk-parallel-item\"><div class=\"sk-item\"><div class=\"sk-label-container\"><div class=\"sk-label sk-toggleable\"><input class=\"sk-toggleable__control sk-hidden--visually\" id=\"2908add7-fc6c-4437-882e-aa3a8a55e87a\" type=\"checkbox\" ><label class=\"sk-toggleable__label\" for=\"2908add7-fc6c-4437-882e-aa3a8a55e87a\">num_pipe</label><div class=\"sk-toggleable__content\"><pre>Index(['h1n1_concern', 'h1n1_knowledge', 'behavioral_antiviral_meds',\n",
       "       'behavioral_avoidance', 'behavioral_face_mask', 'behavioral_wash_hands',\n",
       "       'behavioral_large_gatherings', 'behavioral_outside_home',\n",
       "       'behavioral_touch_face', 'doctor_recc_h1n1', 'doctor_recc_seasonal',\n",
       "       'chronic_med_condition', 'child_under_6_months', 'health_worker',\n",
       "       'health_insurance', 'opinion_h1n1_vacc_effective', 'opinion_h1n1_risk',\n",
       "       'opinion_h1n1_sick_from_vacc', 'opinion_seas_vacc_effective',\n",
       "       'opinion_seas_risk', 'opinion_seas_sick_from_vacc', 'household_adults',\n",
       "       'household_children'],\n",
       "      dtype='object')</pre></div></div></div><div class=\"sk-serial\"><div class=\"sk-item\"><div class=\"sk-serial\"><div class=\"sk-item\"><div class=\"sk-estimator sk-toggleable\"><input class=\"sk-toggleable__control sk-hidden--visually\" id=\"6ea5c7e9-ac83-47a5-b763-071942d42941\" type=\"checkbox\" ><label class=\"sk-toggleable__label\" for=\"6ea5c7e9-ac83-47a5-b763-071942d42941\">SimpleImputer</label><div class=\"sk-toggleable__content\"><pre>SimpleImputer()</pre></div></div></div><div class=\"sk-item\"><div class=\"sk-estimator sk-toggleable\"><input class=\"sk-toggleable__control sk-hidden--visually\" id=\"42c37f56-7f6e-4bf0-b646-a7b6c0a4a6bb\" type=\"checkbox\" ><label class=\"sk-toggleable__label\" for=\"42c37f56-7f6e-4bf0-b646-a7b6c0a4a6bb\">StandardScaler</label><div class=\"sk-toggleable__content\"><pre>StandardScaler()</pre></div></div></div></div></div></div></div></div></div></div><div class=\"sk-item\"><div class=\"sk-estimator sk-toggleable\"><input class=\"sk-toggleable__control sk-hidden--visually\" id=\"2ab5d0f0-ffe8-4f00-8681-bd729eb2d46d\" type=\"checkbox\" ><label class=\"sk-toggleable__label\" for=\"2ab5d0f0-ffe8-4f00-8681-bd729eb2d46d\">SMOTE</label><div class=\"sk-toggleable__content\"><pre>SMOTE()</pre></div></div></div><div class=\"sk-item\"><div class=\"sk-estimator sk-toggleable\"><input class=\"sk-toggleable__control sk-hidden--visually\" id=\"24ae530b-3250-44c4-b67e-ff541209bac8\" type=\"checkbox\" ><label class=\"sk-toggleable__label\" for=\"24ae530b-3250-44c4-b67e-ff541209bac8\">GradientBoostingClassifier</label><div class=\"sk-toggleable__content\"><pre>GradientBoostingClassifier()</pre></div></div></div></div></div></div></div></div></div></div></div></div>"
      ],
      "text/plain": [
       "GridSearchCV(estimator=Pipeline(steps=[('preprocess',\n",
       "                                        ColumnTransformer(transformers=[('ordinal_pipe',\n",
       "                                                                         Pipeline(steps=[('ordimputer',\n",
       "                                                                                          SimpleImputer(strategy='most_frequent')),\n",
       "                                                                                         ('ordenc',\n",
       "                                                                                          OrdinalEncoder(categories=[['18 '\n",
       "                                                                                                                      '- '\n",
       "                                                                                                                      '34 '\n",
       "                                                                                                                      'Years',\n",
       "                                                                                                                      '35 '\n",
       "                                                                                                                      '- '\n",
       "                                                                                                                      '44 '\n",
       "                                                                                                                      'Years',\n",
       "                                                                                                                      '45 '\n",
       "                                                                                                                      '- '\n",
       "                                                                                                                      '54 '\n",
       "                                                                                                                      'Years',\n",
       "                                                                                                                      '55 '\n",
       "                                                                                                                      '- '\n",
       "                                                                                                                      '64 '\n",
       "                                                                                                                      'Years',\n",
       "                                                                                                                      '65+ '\n",
       "                                                                                                                      'Years'],\n",
       "                                                                                                                     ['< '\n",
       "                                                                                                                      '12 '\n",
       "                                                                                                                      'Years',\n",
       "                                                                                                                      '12 '\n",
       "                                                                                                                      'Years',\n",
       "                                                                                                                      'Some '\n",
       "                                                                                                                      'College',\n",
       "                                                                                                                      'Colle...\n",
       "       'health_insurance', 'opinion_h1n1_vacc_effective', 'opinion_h1n1_risk',\n",
       "       'opinion_h1n1_sick_from_vacc', 'opinion_seas_vacc_effective',\n",
       "       'opinion_seas_risk', 'opinion_seas_sick_from_vacc', 'household_adults',\n",
       "       'household_children'],\n",
       "      dtype='object'))])),\n",
       "                                       ('smote', SMOTE()),\n",
       "                                       ('model',\n",
       "                                        GradientBoostingClassifier())]),\n",
       "             param_grid={'model__learning_rate': [0.1, 0.05, 0.01],\n",
       "                         'model__max_depth': [3, 5, 7],\n",
       "                         'model__n_estimators': [32, 64, 100, 200]})"
      ]
     },
     "execution_count": 118,
     "metadata": {},
     "output_type": "execute_result"
    }
   ],
   "source": [
    "tuned_pipeline_8.fit(X_train, y_train)"
   ]
  },
  {
   "cell_type": "code",
   "execution_count": 119,
   "metadata": {},
   "outputs": [
    {
     "data": {
      "text/plain": [
       "{'model__learning_rate': 0.05,\n",
       " 'model__max_depth': 5,\n",
       " 'model__n_estimators': 200}"
      ]
     },
     "execution_count": 119,
     "metadata": {},
     "output_type": "execute_result"
    }
   ],
   "source": [
    "tuned_pipeline_8.best_params_"
   ]
  },
  {
   "cell_type": "code",
   "execution_count": 121,
   "metadata": {},
   "outputs": [],
   "source": [
    "y_pred8 = tuned_pipeline_8.predict(X_test)"
   ]
  },
  {
   "cell_type": "code",
   "execution_count": 125,
   "metadata": {},
   "outputs": [
    {
     "data": {
      "text/plain": [
       "<sklearn.metrics._plot.confusion_matrix.ConfusionMatrixDisplay at 0x24494772b50>"
      ]
     },
     "execution_count": 125,
     "metadata": {},
     "output_type": "execute_result"
    },
    {
     "data": {
      "image/png": "[encoded data removed]",
      "text/plain": [
       "<Figure size 432x288 with 2 Axes>"
      ]
     },
     "metadata": {
      "needs_background": "light"
     },
     "output_type": "display_data"
    }
   ],
   "source": [
    "plot_confusion_matrix(tuned_pipeline_8, X_test,y_test)"
   ]
  },
  {
   "cell_type": "code",
   "execution_count": 126,
   "metadata": {},
   "outputs": [
    {
     "name": "stdout",
     "output_type": "stream",
     "text": [
      "              precision    recall  f1-score   support\n",
      "\n",
      "           0       0.88      0.93      0.90      6311\n",
      "           1       0.67      0.53      0.59      1702\n",
      "\n",
      "    accuracy                           0.85      8013\n",
      "   macro avg       0.78      0.73      0.75      8013\n",
      "weighted avg       0.84      0.85      0.84      8013\n",
      "\n"
     ]
    }
   ],
   "source": [
    "print(classification_report(y_test, y_pred8))"
   ]
  },
  {
   "cell_type": "code",
   "execution_count": 127,
   "metadata": {},
   "outputs": [
    {
     "data": {
      "text/plain": [
       "<sklearn.metrics._plot.roc_curve.RocCurveDisplay at 0x24494b535e0>"
      ]
     },
     "execution_count": 127,
     "metadata": {},
     "output_type": "execute_result"
    },
    {
     "data": {
      "image/png": "[encoded data removed]",
      "text/plain": [
       "<Figure size 432x288 with 1 Axes>"
      ]
     },
     "metadata": {
      "needs_background": "light"
     },
     "output_type": "display_data"
    }
   ],
   "source": [
    "plot_roc_curve(tuned_pipeline_8, X_test, y_test)"
   ]
  },
  {
   "cell_type": "markdown",
   "metadata": {},
   "source": [
    "## Model 9 "
   ]
  },
  {
   "cell_type": "code",
   "execution_count": null,
   "metadata": {},
   "outputs": [],
   "source": []
  }
 ],
 "metadata": {
  "kernelspec": {
   "display_name": "Python (learn-env)",
   "language": "python",
   "name": "learn-env"
  },
  "language_info": {
   "codemirror_mode": {
    "name": "ipython",
    "version": 3
   },
   "file_extension": ".py",
   "mimetype": "text/x-python",
   "name": "python",
   "nbconvert_exporter": "python",
   "pygments_lexer": "ipython3",
   "version": "3.8.5"
  }
 },
 "nbformat": 4,
 "nbformat_minor": 4
}
